{
 "cells": [
  {
   "cell_type": "markdown",
   "id": "33d8a937",
   "metadata": {},
   "source": [
    "# 🛠️ Python Function Basics – Notebook Overview\n",
    "\n",
    "This notebook is a **hands-on primer on defining and using functions in Python**. It walks through core building-blocks — from the simplest `def` declaration to default parameters and return statements — and finishes with self-contained practice exercises.\n",
    "\n",
    "## 🔑 What you will learn\n",
    "1. **Function Syntax** – how to declare a function with `def` and call it.\n",
    "2. **Default Parameters** – providing fallback values so arguments become optional.\n",
    "3. **Return Values vs. Printing** – capturing computed results for later use.\n",
    "4. **Docstrings & Readability** – documenting behaviour for yourself and others.\n",
    "5. **Error Handling Patterns** – graceful responses to invalid inputs (e.g. divide-by-zero).\n",
    "6. **Incremental Problem-Solving** – three exercises (easy → hard) that reinforce the concepts.\n",
    "\n",
    "## 📋 Notebook structure\n",
    "| Section | Content |\n",
    "|---------|---------|\n",
    "| **Cell 0 - 2** | Step-by-step code examples showing basic function syntax, default parameters, and return statements. |\n",
    "| **Cell 3** | Markdown description of three graded exercises. |\n",
    "| **Cells 4-6** | Example solutions for: 1) Greeting function, 2) Simple calculator, 3) Student grade calculator. |\n",
    "\n",
    "## 🚀 How to use this notebook\n",
    "1. **Run each example** to observe the output and trace execution flow.\n",
    "2. **Attempt the exercises yourself** before reviewing the provided solutions.\n",
    "3. **Modify / extend** the functions (add edge-cases, more operations, custom grading scales) to deepen understanding.\n",
    "\n",
    "> *Tip*: Use the exercises as quick templates for your own projects – small, reusable utility functions are the backbone of clean Python code.\n",
    "\n",
    "---\n"
   ]
  },
  {
   "cell_type": "code",
   "execution_count": 1,
   "id": "7c15254f",
   "metadata": {},
   "outputs": [
    {
     "name": "stdout",
     "output_type": "stream",
     "text": [
      "Hello, World!\n",
      "Im a function\n",
      "None\n"
     ]
    }
   ],
   "source": [
    "# simple function syntax ex 1:\n",
    "def say_hello():\n",
    "    print(\"Hello, World!\")\n",
    "    print(\"Im a function\")\n",
    "\n",
    "print(say_hello())"
   ]
  },
  {
   "cell_type": "code",
   "execution_count": 4,
   "id": "eb66ea35",
   "metadata": {},
   "outputs": [
    {
     "name": "stdout",
     "output_type": "stream",
     "text": [
      "Hello, Erez!\n",
      "None\n",
      "Hello, World!\n",
      "None\n"
     ]
    }
   ],
   "source": [
    "# simple function syntax ex 2: using default parameters\n",
    "def say_hello(name = \"World\"): # name is a parameter and World is the default value\n",
    "    \"\"\"\n",
    "    This function prints a greeting to the user\n",
    "    \"\"\"\n",
    "    print(f\"Hello, {name}!\") # f-string is used to format the string\n",
    "\n",
    "print(say_hello(\"Erez\"))\n",
    "print(say_hello())"
   ]
  },
  {
   "cell_type": "code",
   "execution_count": null,
   "id": "5a99394a",
   "metadata": {},
   "outputs": [
    {
     "name": "stdout",
     "output_type": "stream",
     "text": [
      "3\n"
     ]
    }
   ],
   "source": [
    "# simple function syntax ex 3: using return statement\n",
    "def add_function(num1, num2):\n",
    "    \"\"\"\n",
    "    This function adds two numbers and returns the result\n",
    "    \"\"\"\n",
    "    return a + b # the return statement is the last statement in the function and it is used to return the result of the function and save it in the result variable\n",
    "\n",
    "result = add_function(1, 2)\n",
    "print(result)\n",
    "\n",
    "# "
   ]
  },
  {
   "cell_type": "markdown",
   "id": "62345ae3",
   "metadata": {},
   "source": [
    "## 🎯 Practice Exercises - Test Your Knowledge\n",
    "\n",
    "### Exercise 1 (Easy): Greeting Function\n",
    "Create a function named `greet_user` that accepts an optional `name` parameter. If a name is supplied, the function should print `Welcome, <name>! Nice to meet you!`. If no name is given, it should default to `Guest`.\n",
    "\n",
    "**Requirements**\n",
    "1. Use a default parameter value for `name` (`\"Guest\"`).\n",
    "2. Demonstrate calling the function with and without providing a name.\n",
    "\n",
    "---\n",
    "\n",
    "### Exercise 2 (Medium): Simple Calculator\n",
    "Write a function called `calculate` that performs one of the four basic arithmetic operations on two numbers.\n",
    "\n",
    "**Requirements**\n",
    "1. Accept three parameters: `num1`, `num2`, and `operation`.\n",
    "2. Supported operations are `\"+\"`, `\"-\"`, `\"*\"`, and `\"/\"`.\n",
    "3. Return the calculation result (do **not** print inside the function).\n",
    "4. If division by zero is attempted, return the string `\"Error: Division by zero\"`.\n",
    "5. Include a clear docstring describing the function.\n",
    "\n",
    "**Example Calls**\n",
    "```python\n",
    "print(calculate(10, 5, \"+\"))  # ➜ 15\n",
    "print(calculate(10, 0, \"/\"))  # ➜ Error: Division by zero\n",
    "```\n",
    "\n",
    "---\n",
    "\n",
    "### Exercise 3 (Hard): Student Grade Calculator\n",
    "Build a function called `calculate_grade` that converts a list of test scores into a letter grade.\n",
    "\n",
    "**Requirements**\n",
    "1. Accept a single parameter `scores` (list of numbers).\n",
    "2. Compute the average score.\n",
    "3. Return a letter grade using this scale:\n",
    "   * 90-100 → `\"A\"`\n",
    "   * 80-89  → `\"B\"`\n",
    "   * 70-79  → `\"C\"`\n",
    "   * 60-69  → `\"D\"`\n",
    "   * <60    → `\"F\"`\n",
    "4. If the list is empty, return `\"Error: No scores provided\"`.\n",
    "5. Validate that every score is between 0 and 100; otherwise return `\"Error: Invalid score\"`.\n",
    "6. Document the function thoroughly with a docstring.\n",
    "\n",
    "**Bonus Challenge**\n",
    "Add optional parameters to customise the grade boundaries so instructors can pass their own grading scale.\n",
    "\n",
    "**Example Calls**\n",
    "```python\n",
    "scores1 = [85, 92, 78, 96, 88]\n",
    "print(calculate_grade(scores1))  # ➜ B\n",
    "\n",
    "scores2 = [95, 100, 98, 92, 96]\n",
    "print(calculate_grade(scores2))  # ➜ A\n",
    "\n",
    "print(calculate_grade([]))       # ➜ Error: No scores provided\n",
    "```\n"
   ]
  },
  {
   "cell_type": "code",
   "execution_count": 7,
   "id": "17fdf642",
   "metadata": {},
   "outputs": [
    {
     "name": "stdout",
     "output_type": "stream",
     "text": [
      "Welcome, Erez! Nice to meet you!\n",
      "Welcome, Guest! Nice to meet you!\n"
     ]
    }
   ],
   "source": [
    "# question 1 : Greeting Function\n",
    "def greeting(name = \"Guest\"):\n",
    "    return f\"Welcome, {name}! Nice to meet you!\"\n",
    "\n",
    "print(greeting(\"Erez\"))\n",
    "print(greeting())\n",
    "    \n"
   ]
  },
  {
   "cell_type": "code",
   "execution_count": 11,
   "id": "aa6ab64b",
   "metadata": {},
   "outputs": [
    {
     "name": "stdout",
     "output_type": "stream",
     "text": [
      "30\n",
      "Error: Division by zero\n"
     ]
    }
   ],
   "source": [
    "# question 2 : Simple Calculator\n",
    "def calculate (num1, num2, operation):\n",
    "    \"\"\"\n",
    "    This function calculates the result of a simple calculator\n",
    "    \"\"\"\n",
    "    if operation == \"+\":\n",
    "        return num1 + num2\n",
    "    elif operation == \"-\":\n",
    "        return num1 - num2\n",
    "    elif operation == \"*\":\n",
    "        return num1 * num2\n",
    "    elif operation == \"/\":\n",
    "        if num2 == 0:\n",
    "            return \"Error: Division by zero\"\n",
    "        else:\n",
    "            return num1 / num2\n",
    "    else:\n",
    "        return \"Error: Invalid operation\"\n",
    "    \n",
    "result = calculate(10, 20, \"+\")\n",
    "print(result)\n",
    "result = calculate(10, 0, \"/\")\n",
    "print(result)\n"
   ]
  },
  {
   "cell_type": "code",
   "execution_count": 26,
   "id": "151c1090",
   "metadata": {},
   "outputs": [
    {
     "name": "stdout",
     "output_type": "stream",
     "text": [
      "B\n",
      "A\n",
      "Error: No scores provided\n",
      "Error: Invalid score\n"
     ]
    }
   ],
   "source": [
    "def calculate_grade(\n",
    "    scores: list[float],\n",
    "    scale: dict[str, tuple[int, int]] | None = None\n",
    ") -> str:\n",
    "    \"\"\"\n",
    "    Convert a list of test scores into a letter grade.\n",
    "\n",
    "    Parameters\n",
    "    ----------\n",
    "    scores : list[float]\n",
    "        List of 0–100 numeric scores.\n",
    "    scale : dict[str, tuple[int, int]], optional\n",
    "        Custom grade boundaries, e.g. {\"A\": (90, 100), \"B\": (80, 89), ...}.\n",
    "        If None, the default scale A-F is used.\n",
    "\n",
    "    Returns\n",
    "    -------\n",
    "    str\n",
    "        Letter grade or an error message.\n",
    "    \"\"\"\n",
    "    if not scores:\n",
    "        return \"Error: No scores provided\"\n",
    "    if any(not (0 <= s <= 100) for s in scores):\n",
    "        return \"Error: Invalid score\"\n",
    "\n",
    "    avg = sum(scores) / len(scores)\n",
    "\n",
    "    default_scale = {\n",
    "        \"A\": (90, 100),\n",
    "        \"B\": (80, 89),\n",
    "        \"C\": (70, 79),\n",
    "        \"D\": (60, 69),\n",
    "        \"F\": (0, 59),\n",
    "    }\n",
    "    grade_scale = scale or default_scale\n",
    "\n",
    "    for letter, (low, high) in grade_scale.items():\n",
    "        if low <= avg <= high:\n",
    "            return letter\n",
    "\n",
    "    return \"Error: Grade not found\"   # only if custom scale is malformed\n",
    "\n",
    "print(calculate_grade([85, 92, 78, 96, 88]))  # B\n",
    "print(calculate_grade([95, 100, 98, 92, 96])) # A\n",
    "print(calculate_grade([]))                    # Error: No scores provided\n",
    "print(calculate_grade([110]))                 # Error: Invalid score"
   ]
  }
 ],
 "metadata": {
  "kernelspec": {
   "display_name": "Python 3",
   "language": "python",
   "name": "python3"
  },
  "language_info": {
   "codemirror_mode": {
    "name": "ipython",
    "version": 3
   },
   "file_extension": ".py",
   "mimetype": "text/x-python",
   "name": "python",
   "nbconvert_exporter": "python",
   "pygments_lexer": "ipython3",
   "version": "3.11.9"
  }
 },
 "nbformat": 4,
 "nbformat_minor": 5
}
