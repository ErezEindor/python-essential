{
 "cells": [
  {
   "cell_type": "code",
   "execution_count": 4,
   "id": "944f1d3f",
   "metadata": {},
   "outputs": [
    {
     "name": "stdout",
     "output_type": "stream",
     "text": [
      "True\n",
      "False\n"
     ]
    }
   ],
   "source": [
    "# example 1: create a function that checks if a number is even or odd\n",
    "def is_even(num):\n",
    "    \"\"\"\n",
    "    This function will check if a number is even or odd\n",
    "    by using the modulo operator %\n",
    "    \"\"\"\n",
    "    return num % 2 == 0\n",
    "\n",
    "print(is_even(4))\n",
    "print(is_even(5))"
   ]
  },
  {
   "cell_type": "code",
   "execution_count": null,
   "id": "89fc82c6",
   "metadata": {},
   "outputs": [
    {
     "name": "stdout",
     "output_type": "stream",
     "text": [
      "False\n",
      "True\n"
     ]
    }
   ],
   "source": [
    "# example 2 : check if a list of numbers has one even number\n",
    "def check_even_list(num_list):\n",
    "    \"\"\"\n",
    "    This function will check if a list of numbers has one even num\n",
    "    and return True if it does, False otherwise\n",
    "    \"\"\"\n",
    "    for i in num_list:\n",
    "        if i % 2 == 0:\n",
    "            return True\n",
    "        else:\n",
    "            pass\n",
    "    return False # if the loop completes without finding an even number, return False\n",
    "list_num = [1, 3, 5, 7, 9]\n",
    "\n",
    "print(check_even_list(list_num))\n",
    "\n",
    "list_num = [1, 3, 5, 7, 9, 2]\n",
    "print(check_even_list(list_num))"
   ]
  },
  {
   "cell_type": "code",
   "execution_count": 10,
   "id": "e7c4103b",
   "metadata": {},
   "outputs": [
    {
     "name": "stdout",
     "output_type": "stream",
     "text": [
      "[]\n",
      "[2, 4, 10]\n"
     ]
    }
   ],
   "source": [
    "# example 3 : print even numbers from a list\n",
    "def check_even_list(num_list):\n",
    "    \"\"\"\n",
    "    This function will check if a list of numbers has one even num\n",
    "    and return True if it does, False otherwise\n",
    "    \"\"\"\n",
    "    # create an empty list to store even numbers\n",
    "    even_numbers = []\n",
    "    for i in num_list:\n",
    "        if i % 2 == 0:\n",
    "           even_numbers.append(i)\n",
    "        else:\n",
    "            pass\n",
    "    return even_numbers\n",
    "list_num = [1, 3, 5, 7, 9]\n",
    "\n",
    "print(check_even_list(list_num))\n",
    "\n",
    "list_num = [1, 3, 5, 7, 9, 2, 4, 10]\n",
    "print(check_even_list(list_num))"
   ]
  },
  {
   "cell_type": "markdown",
   "id": "0e7cc198",
   "metadata": {},
   "source": [
    "## 🚀 Practice Exercises – Logic With Functions\n",
    "\n",
    "Below are three code-oriented challenges that build directly on the parity-checking patterns from this notebook.  Work through them in order; each one is a little more involved than the last.\n",
    "\n",
    "---\n",
    "\n",
    "### Exercise 1 (Easy) – `count_odds`\n",
    "Write a function `count_odds(nums)` that **returns** the number of odd integers contained in the input list `nums`.\n",
    "\n",
    "```python\n",
    ">>> count_odds([1, 2, 3, 4, 5])\n",
    "3\n",
    ">>> count_odds([2, 4, 6])\n",
    "0\n",
    "```\n",
    "\n",
    "---\n",
    "\n",
    "### Exercise 2 (Medium) – `first_even_or_none`\n",
    "Create a function `first_even_or_none(seq)` that **returns** the *first* even number found in an iterable. If the iterable contains **no even numbers**, return `None`.\n",
    "\n",
    "Requirements:\n",
    "1. Accept any iterable type (list, tuple, generator, etc.).\n",
    "2. Stop looping as soon as the first even number is found.\n",
    "3. Return `None` when none exist.\n",
    "\n",
    "```python\n",
    ">>> first_even_or_none([1, 3, 5])\n",
    "None\n",
    ">>> first_even_or_none((9, 7, 6, 5))\n",
    "6\n",
    "```\n",
    "\n",
    "---\n",
    "\n",
    "### Exercise 3 (Hard) – `partition_by_parity`\n",
    "Implement `partition_by_parity(numbers)` that splits a list of integers into two lists—evens and odds—**preserving order**, and returns both.\n",
    "\n",
    "```python\n",
    "evens, odds = partition_by_parity([4, 1, 3, 2, 8, 7])\n",
    "print(evens)  # [4, 2, 8]\n",
    "print(odds)   # [1, 3, 7]\n",
    "```\n",
    "\n",
    "Requirements:\n",
    "1. Return a tuple `(evens, odds)`.\n",
    "2. Do *one* pass through the input list (no extra scanning).\n",
    "3. Use explicit `append` logic (avoid list comprehensions here to practise flow control).\n",
    "4. Provide a thorough docstring describing parameters and return values.\n",
    "\n",
    "---\n",
    "\n",
    "*Tip 💡*: After implementing, add test calls beneath each function to confirm the behaviour matches the examples.\n"
   ]
  },
  {
   "cell_type": "code",
   "execution_count": null,
   "id": "a983ca10",
   "metadata": {},
   "outputs": [],
   "source": []
  }
 ],
 "metadata": {
  "kernelspec": {
   "display_name": "Python 3",
   "language": "python",
   "name": "python3"
  },
  "language_info": {
   "codemirror_mode": {
    "name": "ipython",
    "version": 3
   },
   "file_extension": ".py",
   "mimetype": "text/x-python",
   "name": "python",
   "nbconvert_exporter": "python",
   "pygments_lexer": "ipython3",
   "version": "3.11.9"
  }
 },
 "nbformat": 4,
 "nbformat_minor": 5
}
