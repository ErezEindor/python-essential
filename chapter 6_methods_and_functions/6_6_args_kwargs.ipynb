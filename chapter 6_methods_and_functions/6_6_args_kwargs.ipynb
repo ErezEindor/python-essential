{
 "cells": [
  {
   "cell_type": "markdown",
   "id": "35dad214",
   "metadata": {},
   "source": [
    "## *args and **kwargs in Python Functions - Notebook Summary\n",
    "\n",
    "This notebook demonstrates **flexible function parameters** in Python, showing how to:\n",
    "1. **Use default parameters** to create functions with optional arguments\n",
    "2. **Apply \\*args** to accept any number of positional arguments\n",
    "3. **Utilize \\*\\*kwargs** to handle keyword arguments as a dictionary\n",
    "4. **Combine \\*args and \\*\\*kwargs** in the same function for maximum flexibility\n",
    "\n",
    "### Key Concepts Covered:\n",
    "- **Default parameters**: `def myfunc(a,b,c=0,d=0,e=0)`\n",
    "- **Arbitrary arguments**: `*args` collects arguments into a **tuple**\n",
    "- **Keyword arguments**: `**kwargs` collects arguments into a **dictionary**\n",
    "- **Function flexibility**: Creating functions that adapt to different input scenarios\n",
    "- **Return values**: Understanding when functions return `None` and how to handle it\n",
    "\n",
    "### Practical Applications:\n",
    "- **Mathematical calculations** with variable numbers of inputs\n",
    "- **Data processing functions** that handle different user preferences\n",
    "- **API functions** that accept optional parameters\n",
    "- **Utility functions** that work with varying input sizes\n",
    "\n",
    "---\n"
   ]
  },
  {
   "cell_type": "code",
   "execution_count": 23,
   "id": "e463b12a",
   "metadata": {},
   "outputs": [],
   "source": [
    "def myfunc (a,b):\n",
    "    ''' return 5% from the sum of a and b'''\n",
    "    return sum((a,b)) *0.05 \n",
    "\n"
   ]
  },
  {
   "cell_type": "code",
   "execution_count": 24,
   "id": "07f68b16",
   "metadata": {},
   "outputs": [
    {
     "name": "stdout",
     "output_type": "stream",
     "text": [
      "5.0\n",
      "10.0\n",
      "10.100000000000001\n"
     ]
    }
   ],
   "source": [
    "result = myfunc(40,60) # check the fucn \n",
    "print(result)\n",
    "\n",
    "# what if we have more than 2 numbers?\n",
    "\n",
    "def myfunc(a,b,c=0,d=0,e=0): #this fucn has 5 args taht 3 are optional\n",
    "    return sum((a,b,c,d,e)) *0.05 \n",
    "\n",
    "\n",
    "result = myfunc(40,60,100) # check the fucn  with 3 args\n",
    "print(result)\n",
    "\n",
    "result = myfunc(40,60,100,1,1) # check the fucn  with 5 args\n",
    "print(result)\n"
   ]
  },
  {
   "cell_type": "code",
   "execution_count": 33,
   "id": "4752a631",
   "metadata": {},
   "outputs": [],
   "source": [
    "def myfunc (*args):\n",
    "    print(args)\n",
    "    return sum(args) *0.05 # args is a tuple \n"
   ]
  },
  {
   "cell_type": "code",
   "execution_count": 34,
   "id": "35ef2b16",
   "metadata": {},
   "outputs": [
    {
     "name": "stdout",
     "output_type": "stream",
     "text": [
      "(40, 60, 100, 1, 1)\n",
      "10.100000000000001\n",
      "~~~~~~~~~~~~~~~~~~~~ itreate_args ~~~~~~~~~~~~~~~~~~~~\n",
      "1\n",
      "2\n",
      "3\n",
      "4\n",
      "5\n",
      "\n"
     ]
    }
   ],
   "source": [
    "# check the fucn \n",
    "\n",
    "result = myfunc(40,60,100,1,1)\n",
    "print(result) \n",
    "\n",
    "'''\n",
    "we can use *args and itreates over the tuple and print each element \n",
    "'''\n",
    "def itreate_args(*args):\n",
    "    for i in args:\n",
    "        print (i)\n",
    "    return ''\n",
    "print ( \"~\" *20, \"itreate_args\" , \"~\" *20)\n",
    "result = itreate_args(1,2,3,4,5)\n",
    "print(result)\n"
   ]
  },
  {
   "cell_type": "code",
   "execution_count": 35,
   "id": "cee9a816",
   "metadata": {},
   "outputs": [],
   "source": [
    "# what is **kwargs?\n",
    "''' \n",
    "**kwargs is a dictionary that allow us \n",
    "to pass a key value pair to the function \n",
    "'''\n",
    "def myfunc (**kwargs):\n",
    "    if \"fruit\" in kwargs:\n",
    "        print (f\"my favorite fruit is {kwargs['fruit']}\")\n",
    "    else:\n",
    "        print(\"I don't like fruit\")\n",
    "    return kwargs"
   ]
  },
  {
   "cell_type": "code",
   "execution_count": 36,
   "id": "22b59de2",
   "metadata": {},
   "outputs": [
    {
     "name": "stdout",
     "output_type": "stream",
     "text": [
      "my favorite fruit is apple\n",
      "{'fruit': 'apple', 'veggie': 'lettuce'}\n"
     ]
    }
   ],
   "source": [
    "# check the fucn \n",
    "result = myfunc(fruit=\"apple\", veggie=\"lettuce\")\n",
    "print(result)"
   ]
  },
  {
   "cell_type": "code",
   "execution_count": null,
   "id": "f74213f1",
   "metadata": {},
   "outputs": [],
   "source": [
    "# combine *args and **kwargs\n",
    "def myfunc (*args, **kwargs):\n",
    "\n",
    "    print ('I would like {} {}'.format(args[0],kwargs['food'])) # args is a tuple and kwargs is a dictionary\n",
    "    return '' # this will allow us not print none value back"
   ]
  },
  {
   "cell_type": "code",
   "execution_count": 41,
   "id": "4447b5af",
   "metadata": {},
   "outputs": [
    {
     "name": "stdout",
     "output_type": "stream",
     "text": [
      "I would like 10 eggs\n",
      "\n"
     ]
    }
   ],
   "source": [
    "#check the fucn \n",
    "result = myfunc(10,20,30,fruit=\"orange\",food=\"eggs\",animal=\"dog\") # our fuc want food as key word argument\n",
    "print(result) \n"
   ]
  },
  {
   "cell_type": "markdown",
   "id": "f6a00a9b",
   "metadata": {},
   "source": [
    "## Practice Exercises\n",
    "\n",
    "### Exercise 1 - Basic *args (Easy)\n",
    "Create a function called `calculate_average` that:\n",
    "1. Takes any number of numbers using `*args`\n",
    "2. Returns the average of all the numbers\n",
    "3. Handle the case where no numbers are provided (return 0)\n",
    "\n",
    "Test your function with:\n",
    "```python\n",
    "print(calculate_average(10, 20, 30))  # Should print 20.0\n",
    "print(calculate_average(5, 15, 25, 35, 45))  # Should print 25.0\n",
    "print(calculate_average())  # Should print 0\n",
    "```\n",
    "\n",
    "### Exercise 2 - **kwargs Practice (Medium)\n",
    "Create a function called `create_user_profile` that:\n",
    "1. Takes any number of keyword arguments using `**kwargs`\n",
    "2. Returns a formatted string describing the user profile\n",
    "3. Must include at least 'name' and 'age' in the output\n",
    "4. Handle cases where 'name' or 'age' might not be provided\n",
    "\n",
    "Test your function with:\n",
    "```python\n",
    "profile1 = create_user_profile(name=\"Alice\", age=25, city=\"New York\", job=\"Engineer\")\n",
    "profile2 = create_user_profile(name=\"Bob\", age=30, hobby=\"Reading\")\n",
    "profile3 = create_user_profile(age=35, city=\"London\")  # Missing name\n",
    "```\n",
    "\n",
    "### Exercise 3 - Combined *args and **kwargs (Hard)\n",
    "Create a function called `smart_calculator` that:\n",
    "1. Takes any number of numbers using `*args`\n",
    "2. Takes keyword arguments for operations using `**kwargs`\n",
    "3. Supports operations: 'add', 'multiply', 'max', 'min'\n",
    "4. If no operation is specified, return the sum\n",
    "5. Return a tuple with (result, operation_used, numbers_processed)\n",
    "\n",
    "Test your function with:\n",
    "```python\n",
    "result1 = smart_calculator(10, 20, 30, operation='multiply')\n",
    "result2 = smart_calculator(5, 15, 25, 35, operation='max')  \n",
    "result3 = smart_calculator(1, 2, 3, 4, 5)  # No operation specified\n",
    "```\n",
    "\n",
    "---\n"
   ]
  },
  {
   "cell_type": "code",
   "execution_count": null,
   "id": "cde7888f",
   "metadata": {},
   "outputs": [
    {
     "name": "stdout",
     "output_type": "stream",
     "text": [
      "(6000, 'multiply', 3)\n"
     ]
    },
    {
     "ename": "SyntaxError",
     "evalue": "keyword argument repeated: operation (1479922724.py, line 33)",
     "output_type": "error",
     "traceback": [
      "  \u001b[36mCell\u001b[39m\u001b[36m \u001b[39m\u001b[32mIn[71]\u001b[39m\u001b[32m, line 33\u001b[39m\n",
      "\u001b[31m    \u001b[39m\u001b[31mprint(smart_calculator(5, 15, 25, 35, operation='max', operation='min'))\u001b[39m\n",
      "                                                           ^\n",
      "\u001b[31mSyntaxError\u001b[39m\u001b[31m:\u001b[39m keyword argument repeated: operation\n"
     ]
    }
   ],
   "source": [
    "def smart_calculator(*args, **kwargs):\n",
    "    if not args:\n",
    "        return (0,'none',0)\n",
    "\n",
    "    operation = kwargs.get('operation', 'add') # if no operation is specified, return the sum\n",
    "    \n",
    "    # func cases:\n",
    "    #add\n",
    "    if operation == 'add':\n",
    "        return (sum(args), 'add', len(args))\n",
    "    \n",
    "    #multipy\n",
    "    elif operation == 'multiply':\n",
    "        result = 1\n",
    "        for i in args:\n",
    "            result *= i\n",
    "        return (result, 'multiply', len(args))\n",
    "    \n",
    "    #max\n",
    "    elif operation == 'max':\n",
    "        return (max(args), 'max', len(args))\n",
    "    \n",
    "    #min\n",
    "    elif operation == 'min':\n",
    "        return (min(args), 'min', len(args))\n",
    "    \n",
    "    #invalid operation\n",
    "    else:\n",
    "        return (sum(args),'invalid operation',0)\n",
    "\n",
    "# unit test\n",
    "print(smart_calculator(10, 20, 30, operation='multiply'))\n",
    "print(smart_calculator(5, 15, 25, 35, operation='max', operation='min')) \n",
    "print(smart_calculator(1, 2, 3, 4, 5))  "
   ]
  },
  {
   "cell_type": "code",
   "execution_count": 51,
   "id": "a8c59f3b",
   "metadata": {},
   "outputs": [
    {
     "name": "stdout",
     "output_type": "stream",
     "text": [
      "20.0\n",
      "25.0\n",
      "0\n"
     ]
    }
   ],
   "source": [
    "# ex 1\n",
    "def calculate_average(*args):\n",
    "    if len(args) == 0:\n",
    "        return 0\n",
    "    else:\n",
    "        return sum(args) / len(args)\n",
    "\n",
    "# unit test\n",
    "print(calculate_average(10, 20, 30)) \n",
    "print(calculate_average(5, 15, 25, 35, 45)) \n",
    "print(calculate_average())  "
   ]
  },
  {
   "cell_type": "code",
   "execution_count": 52,
   "id": "a847f504",
   "metadata": {},
   "outputs": [
    {
     "name": "stdout",
     "output_type": "stream",
     "text": [
      "Name: Alice\n",
      "Age: 25\n",
      "City: New York\n",
      "Job: Engineer\n",
      "Name: Bob\n",
      "Age: 30\n",
      "City: None\n",
      "Job: None\n",
      "Missing name or age\n"
     ]
    }
   ],
   "source": [
    "def create_user_profile(**kwargs):\n",
    "    if \"name\" in kwargs and \"age\" in kwargs:\n",
    "        return \"Name: {}\\nAge: {}\\nCity: {}\\nJob: {}\".format(kwargs.get('name'), kwargs.get('age'), kwargs.get('city'), kwargs.get('job'))\n",
    "    else:\n",
    "        return \"Missing name or age\"\n",
    "\n",
    "# unit test\n",
    "print(create_user_profile(name=\"Alice\", age=25, city=\"New York\", job=\"Engineer\"))\n",
    "print(create_user_profile(name=\"Bob\", age=30, hobby=\"Reading\"))\n",
    "print(create_user_profile(age=35, city=\"London\"))  # Missing name"
   ]
  },
  {
   "cell_type": "code",
   "execution_count": 73,
   "id": "a9e90c71",
   "metadata": {},
   "outputs": [
    {
     "name": "stdout",
     "output_type": "stream",
     "text": [
      "(6000, 'multiply', 3)\n",
      "(35, 'max', 4)\n",
      "(15, 'add', 5)\n"
     ]
    }
   ],
   "source": [
    "def smart_calculator(*args, **kwargs):\n",
    "    if not args:\n",
    "        return (0,'none',0)\n",
    "\n",
    "    operation = kwargs.get('operation', 'add') # if no operation is specified, return the sum\n",
    "    \n",
    "    # func cases:\n",
    "    #add\n",
    "    if operation == 'add':\n",
    "        return (sum(args), 'add', len(args))\n",
    "    \n",
    "    #multipy\n",
    "    elif operation == 'multiply':\n",
    "        result = 1\n",
    "        for i in args:\n",
    "            result *= i\n",
    "        return (result, 'multiply', len(args))\n",
    "    \n",
    "    #max\n",
    "    elif operation == 'max':\n",
    "        return (max(args), 'max', len(args))\n",
    "    \n",
    "    #min\n",
    "    elif operation == 'min':\n",
    "        return (min(args), 'min', len(args))\n",
    "    \n",
    "    #invalid operation\n",
    "    else:\n",
    "        return (sum(args),'invalid operation',0)\n",
    "\n",
    "# unit test\n",
    "print(smart_calculator(10, 20, 30, operation='multiply'))\n",
    "print(smart_calculator(5, 15, 25, 35, operation='max')) \n",
    "print(smart_calculator(1, 2, 3, 4, 5))  "
   ]
  }
 ],
 "metadata": {
  "kernelspec": {
   "display_name": ".venv",
   "language": "python",
   "name": "python3"
  },
  "language_info": {
   "codemirror_mode": {
    "name": "ipython",
    "version": 3
   },
   "file_extension": ".py",
   "mimetype": "text/x-python",
   "name": "python",
   "nbconvert_exporter": "python",
   "pygments_lexer": "ipython3",
   "version": "3.12.4"
  }
 },
 "nbformat": 4,
 "nbformat_minor": 5
}
