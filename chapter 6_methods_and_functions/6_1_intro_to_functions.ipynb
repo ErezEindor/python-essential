{
 "cells": [
  {
   "cell_type": "code",
   "execution_count": null,
   "id": "a16b1f58",
   "metadata": {},
   "outputs": [
    {
     "name": "stdout",
     "output_type": "stream",
     "text": [
      "Hello, World!\n",
      "None\n"
     ]
    }
   ],
   "source": [
    "# simple function syntax ex 1:\n",
    "def function_name():\n",
    "    \"\"\"\n",
    "    docstring\n",
    "    \"\"\"\n",
    "    # body of the function\n",
    "    print(\"Hello, World!\")\n",
    "\n",
    "var = function_name()\n",
    "print(var)"
   ]
  },
  {
   "cell_type": "code",
   "execution_count": 7,
   "id": "50245c2d",
   "metadata": {},
   "outputs": [
    {
     "name": "stdout",
     "output_type": "stream",
     "text": [
      "Hello, Erez\n"
     ]
    }
   ],
   "source": [
    "# simple function syntax ex 2:\n",
    "def function_name(parameters):\n",
    "    \"\"\"\n",
    "    docstring\n",
    "    \"\"\"\n",
    "    # body of the function\n",
    "    return \"Hello, \" + parameters\n",
    "\n",
    "pram = \"Erez\"\n",
    "print(function_name(pram))"
   ]
  },
  {
   "cell_type": "code",
   "execution_count": null,
   "id": "eaa6d8bc",
   "metadata": {},
   "outputs": [
    {
     "name": "stdout",
     "output_type": "stream",
     "text": [
      "3\n"
     ]
    }
   ],
   "source": [
    "# simple function syntax ex 3:\n",
    "\n",
    "def add_function(a, b):\n",
    "    \"\"\"\n",
    "    This function adds two numbers and returns the result\n",
    "    \"\"\"\n",
    "    return a + b # the return statement is the last statement in the function and it is used to return the result of the function and save it in the result variable\n",
    "\n",
    "result = add_function(1, 2) # 3\n",
    "\n",
    "print(result)"
   ]
  }
 ],
 "metadata": {
  "kernelspec": {
   "display_name": "Python 3",
   "language": "python",
   "name": "python3"
  },
  "language_info": {
   "codemirror_mode": {
    "name": "ipython",
    "version": 3
   },
   "file_extension": ".py",
   "mimetype": "text/x-python",
   "name": "python",
   "nbconvert_exporter": "python",
   "pygments_lexer": "ipython3",
   "version": "3.11.9"
  }
 },
 "nbformat": 4,
 "nbformat_minor": 5
}
