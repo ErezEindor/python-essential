{
 "cells": [
  {
   "cell_type": "markdown",
   "id": "db6e520a",
   "metadata": {},
   "source": [
    "## Intro to Functions in Python (Notebook Summary)\n",
    "\n",
    "## Markdown Summary\n",
    "Functions let you bundle logic into reusable, testable units. In this notebook you created:\n",
    "- A **no-parameter function** that prints `\"Hello, World!\"`\n",
    "- A **single-parameter function** that returns a greeting\n",
    "- A **two-parameter function** that returns the sum\n",
    "\n",
    "For Data Engineering, functions make ETL steps **modular, testable, and reusable** (e.g., `clean_address(row)`, `validate_schema(df)`, `transform_prices(df)`).\n",
    "\n",
    "---\n",
    "\n",
    "## Key Concepts\n",
    "- **Define**: `def name(params): ...`\n",
    "- **Call**: `result = name(args)`\n",
    "- **Return vs. Print**:\n",
    "  - `return` sends a value back to the caller (use in pipelines/tests)\n",
    "  - `print` writes to stdout (use for quick inspection)\n",
    "- **Docstring**: Triple-quoted string describing what the function does and its parameters/returns.\n",
    "\n",
    "---\n",
    "\n",
    "## Code Examples\n",
    "\n",
    "### Function Skeleton\n",
    "```python\n",
    "def function_name():\n",
    "    \"\"\"\n",
    "    Describe purpose, inputs, returns, and side effects.\n",
    "    \"\"\"\n",
    "    print(\"Hello, World!\")  # side effect (printing)\n"
   ]
  },
  {
   "cell_type": "code",
   "execution_count": null,
   "id": "a16b1f58",
   "metadata": {},
   "outputs": [
    {
     "name": "stdout",
     "output_type": "stream",
     "text": [
      "Hello, World!\n",
      "None\n"
     ]
    }
   ],
   "source": [
    "# simple function syntax ex 1:\n",
    "def function_name():\n",
    "    \"\"\"\n",
    "    docstring\n",
    "    \"\"\"\n",
    "    # body of the function\n",
    "    print(\"Hello, World!\")\n",
    "\n",
    "var = function_name()\n",
    "print(var)"
   ]
  },
  {
   "cell_type": "code",
   "execution_count": 7,
   "id": "50245c2d",
   "metadata": {},
   "outputs": [
    {
     "name": "stdout",
     "output_type": "stream",
     "text": [
      "Hello, Erez\n"
     ]
    }
   ],
   "source": [
    "# simple function syntax ex 2:\n",
    "def function_name(parameters):\n",
    "    \"\"\"\n",
    "    docstring\n",
    "    \"\"\"\n",
    "    # body of the function\n",
    "    return \"Hello, \" + parameters\n",
    "\n",
    "pram = \"Erez\"\n",
    "print(function_name(pram))"
   ]
  },
  {
   "cell_type": "code",
   "execution_count": null,
   "id": "eaa6d8bc",
   "metadata": {},
   "outputs": [
    {
     "name": "stdout",
     "output_type": "stream",
     "text": [
      "3\n"
     ]
    }
   ],
   "source": [
    "# simple function syntax ex 3:\n",
    "\n",
    "def add_function(a, b):\n",
    "    \"\"\"\n",
    "    This function adds two numbers and returns the result\n",
    "    \"\"\"\n",
    "    return a + b # the return statement is the last statement in the function and it is used to return the result of the function and save it in the result variable\n",
    "\n",
    "result = add_function(1, 2) # 3\n",
    "\n",
    "print(result)"
   ]
  }
 ],
 "metadata": {
  "kernelspec": {
   "display_name": "Python 3",
   "language": "python",
   "name": "python3"
  },
  "language_info": {
   "codemirror_mode": {
    "name": "ipython",
    "version": 3
   },
   "file_extension": ".py",
   "mimetype": "text/x-python",
   "name": "python",
   "nbconvert_exporter": "python",
   "pygments_lexer": "ipython3",
   "version": "3.11.9"
  }
 },
 "nbformat": 4,
 "nbformat_minor": 5
}
