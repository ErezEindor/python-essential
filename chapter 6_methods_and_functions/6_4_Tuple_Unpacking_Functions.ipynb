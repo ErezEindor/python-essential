{
 "cells": [
  {
   "cell_type": "markdown",
   "id": "79e81f27",
   "metadata": {},
   "source": [
    "## Tuple Unpacking with Functions - Notebook Summary\n",
    "\n",
    "This notebook demonstrates **tuple unpacking** in Python, showing how to:\n",
    "1. **Extract values from tuples** using unpacking syntax\n",
    "2. **Use tuple unpacking in loops** to iterate through data structures\n",
    "3. **Return tuples from functions** and unpack them into variables\n",
    "4. **Apply tuple unpacking in real-world scenarios** like stock prices and employee work hours\n",
    "\n",
    "### Key Concepts Covered:\n",
    "- **Basic tuple unpacking**: `for ticker, price in stock_prices:`\n",
    "- **Function return values**: Functions returning tuples that can be unpacked\n",
    "- **Variable assignment**: `name, hours = emp_of_the_month(work_hours)`\n",
    "- **Practical applications**: Processing employee data and stock information\n",
    "\n",
    "---\n"
   ]
  },
  {
   "cell_type": "code",
   "execution_count": 3,
   "id": "8684bda8",
   "metadata": {},
   "outputs": [
    {
     "name": "stdout",
     "output_type": "stream",
     "text": [
      "('APPL', 200)\n",
      "('GOOG', 400)\n",
      "('MSFT', 100)\n",
      "APPL\n",
      "200\n",
      "GOOG\n",
      "400\n",
      "MSFT\n",
      "100\n"
     ]
    }
   ],
   "source": [
    "# Tuple unpacking example:\n",
    "stock_prices = [('APPL',200),('GOOG',400),('MSFT',100)]\n",
    "#get to tuple:\n",
    "for i in stock_prices:\n",
    "    print(i)\n",
    "\n",
    "# we can also unpack the tuple:\n",
    "for ticker, price in stock_prices:\n",
    "    print(ticker) # this will print the ticker\n",
    "    print(price) # this will print the price\n"
   ]
  },
  {
   "cell_type": "code",
   "execution_count": 7,
   "id": "6db2462a",
   "metadata": {},
   "outputs": [
    {
     "name": "stdout",
     "output_type": "stream",
     "text": [
      "('Anati', 400)\n",
      "The employee of the month is Anati with 400 hours worked.\n"
     ]
    }
   ],
   "source": [
    "# Tuple unpacking with functions example:\n",
    "work_hours = [('Erez',100),('Anati',400),('Yonatan',300)]\n",
    "\n",
    "def emp_of_the_month(work_hours):\n",
    "    max_hours = 0 # placeholder for the max hours\n",
    "    emp_of_month = '' # placeholder for the employee of the month\n",
    "    for name, hours in work_hours:\n",
    "        if hours > max_hours:\n",
    "            max_hours = hours # update the max hours\n",
    "            emp_of_month = name # update the employee of the month\n",
    "    return (emp_of_month, max_hours)\n",
    "\n",
    "print(emp_of_the_month(work_hours))\n",
    "\n",
    "\n",
    "name, hours = emp_of_the_month(work_hours) # this will unpack the tuple into two variables\n",
    "print(f'The employee of the month is {name} with {hours} hours worked.')\n",
    "\n"
   ]
  },
  {
   "cell_type": "markdown",
   "id": "3823213f",
   "metadata": {},
   "source": [
    "## Practice Exercises\n",
    "\n",
    "### Exercise 1 - Basic Tuple Unpacking (Easy)\n",
    "Create a list of tuples called `student_scores` containing student names and their test scores:\n",
    "```python\n",
    "student_scores = [('Alice', 85), ('Bob', 92), ('Charlie', 78), ('Diana', 95)]\n",
    "```\n",
    "Tasks:\n",
    "1. Use tuple unpacking in a for loop to print each student's name and score on separate lines\n",
    "2. Find and print the name of the student with the highest score\n",
    "3. Calculate and print the average score\n",
    "\n",
    "### Exercise 2 - Function Return Values (Medium)\n",
    "Create a function called `analyze_sales` that processes monthly sales data:\n",
    "```python\n",
    "sales_data = [\n",
    "    ('January', 10000, 5000),  # (month, revenue, expenses)\n",
    "    ('February', 12000, 5500),\n",
    "    ('March', 9000, 4800)\n",
    "]\n",
    "```\n",
    "Tasks:\n",
    "1. Write a function that takes the sales_data and returns a tuple containing:\n",
    "   - The month with highest profit (revenue - expenses)\n",
    "   - The total profit for all months\n",
    "   - The average monthly revenue\n",
    "2. Use tuple unpacking to receive and print all these values in a formatted way\n",
    "\n",
    "### Exercise 3  - Book Library (Hard)\n",
    "\n",
    "Create a simpler library system that handles basic book information:\n",
    "```python\n",
    "books = [\n",
    "    ('Python for Beginners', 'John Smith', 2020),  # (title, author, year)\n",
    "    ('Data Science Basics', 'Jane Doe', 2021),\n",
    "    ('Learn Python', 'John Smith', 2021)\n",
    "]\n",
    "```\n",
    "\n",
    "Tasks:\n",
    "1. Write a function `find_author_books(books, author_name)` that returns a list of book titles by that author\n",
    "2. Write a function `get_newest_books(books)` that returns all books from the most recent year\n",
    "3. Print how many books each author has written\n"
   ]
  },
  {
   "cell_type": "code",
   "execution_count": 9,
   "id": "34ef6036",
   "metadata": {},
   "outputs": [
    {
     "name": "stdout",
     "output_type": "stream",
     "text": [
      "the highest score is Diana and the student is 95 the average score is 87.5\n"
     ]
    }
   ],
   "source": [
    "#excersice 1:\n",
    "student_scores = [('Alice', 85), ('Bob', 92), ('Charlie', 78), ('Diana', 95)]\n",
    "\n",
    "def highest_score(student_scores):\n",
    "    max_score = 0 \n",
    "    student_name = ''\n",
    "    total_score = 0\n",
    "    for name, score in student_scores:\n",
    "        if score > max_score:\n",
    "            max_score = score\n",
    "            student_name = name\n",
    "        total_score += score\n",
    "    return (max_score, student_name, total_score/len(student_scores))\n",
    "\n",
    "name, score, average = highest_score(student_scores)\n",
    "print(f'the highest score is {score} and the student is {name} the average score is {average}')\n",
    "\n",
    "       "
   ]
  },
  {
   "cell_type": "code",
   "execution_count": 12,
   "id": "e939b9e4",
   "metadata": {},
   "outputs": [
    {
     "name": "stdout",
     "output_type": "stream",
     "text": [
      "The top month is February with a profit of 6500, the total profit is 15700 and the average revenue is 10333.33\n"
     ]
    }
   ],
   "source": [
    "# excersice 2:\n",
    "sales_data = [\n",
    "    ('January', 10000, 5000),  # (month, revenue, expenses)\n",
    "    ('February', 12000, 5500),\n",
    "    ('March', 9000, 4800)]\n",
    "\n",
    "def analyze_sales(sales_data):\n",
    "    total_profit = 0 # placeholder for the total profit\n",
    "    top_month = '' # placeholder for the top month\n",
    "    profit = 0 # placeholder for the profit\n",
    "    total_revenue = 0 # placeholder for the total revenue\n",
    "    for m,r,e in sales_data:\n",
    "        if r-e > profit:\n",
    "            top_month = m\n",
    "            profit = r-e\n",
    "        total_profit += r - e\n",
    "        total_revenue += r\n",
    "    return (top_month, profit, total_profit, total_revenue/len(sales_data))\n",
    "\n",
    "month, profit, total_profit, average_revenue = analyze_sales(sales_data)\n",
    "print(f'The top month is {month} with a profit of {profit}, the total profit is {total_profit} and the average revenue is {round(average_revenue, 2)}')\n",
    "\n",
    "\n",
    "\n",
    "\n",
    "\n",
    "\n",
    "\n"
   ]
  },
  {
   "cell_type": "code",
   "execution_count": 23,
   "id": "d5e1ee5f",
   "metadata": {},
   "outputs": [
    {
     "name": "stdout",
     "output_type": "stream",
     "text": [
      "['Python for Beginners', 'Learn Python']\n",
      "2021\n",
      "{'John Smith': 2, 'Jane Doe': 1}\n"
     ]
    }
   ],
   "source": [
    "# Exercise 3:\n",
    "books = [\n",
    "    ('Python for Beginners', 'John Smith', 2020),  # (title, author, year)\n",
    "    ('Data Science Basics', 'Jane Doe', 2021),\n",
    "    ('Learn Python', 'John Smith', 2021)\n",
    "]\n",
    "\n",
    "# Task 1: Find all books by a specific author\n",
    "def find_author_books(books, author_name):\n",
    "    list_of_books = []\n",
    "\n",
    "    for book, author, _ in books:\n",
    "        if author == author_name:\n",
    "            list_of_books.append(book)\n",
    "    return list_of_books\n",
    "\n",
    "print(find_author_books(books, 'John Smith'))\n",
    "\n",
    "# Task 2: Get all books from the newest year\n",
    "def get_newest_books(books):\n",
    "    newest_year = 0\n",
    "    for _, _, year in books:\n",
    "        if year > newest_year:\n",
    "            newest_year = year\n",
    "    return newest_year\n",
    "\n",
    "print(get_newest_books(books))\n",
    "\n",
    "# Task 3: Count books per author\n",
    "def count_books_per_author(books):\n",
    "    author_count = {}\n",
    "    for _, author, _ in books:\n",
    "        if author in author_count:\n",
    "            author_count[author] += 1\n",
    "        else:\n",
    "            author_count[author] = 1\n",
    "    return author_count\n",
    "print(count_books_per_author(books))\n",
    "\n",
    "\n"
   ]
  }
 ],
 "metadata": {
  "kernelspec": {
   "display_name": "Python 3",
   "language": "python",
   "name": "python3"
  },
  "language_info": {
   "codemirror_mode": {
    "name": "ipython",
    "version": 3
   },
   "file_extension": ".py",
   "mimetype": "text/x-python",
   "name": "python",
   "nbconvert_exporter": "python",
   "pygments_lexer": "ipython3",
   "version": "3.11.9"
  }
 },
 "nbformat": 4,
 "nbformat_minor": 5
}
