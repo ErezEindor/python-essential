{
 "cells": [
  {
   "cell_type": "markdown",
   "id": "fd99a552",
   "metadata": {},
   "source": [
    "# Function Interactions: Three Cup Monte Game\n",
    "\n",
    "In this notebook, we'll explore how multiple functions can interact with each other by creating a simple version of the carnival game \"Three Cup Monte\". This example demonstrates several important concepts about function interactions in Python:\n",
    "\n",
    "## Game Overview\n",
    "- The game simulates three cups, represented by a list with three elements\n",
    "- One element contains an 'O' (representing the ball), and two empty strings\n",
    "- The list gets shuffled, and the player must guess where the 'O' is located\n",
    "\n",
    "## Key Functions We'll Create\n",
    "1. **shuffle_list**: \n",
    "   - Enhances Python's built-in `shuffle` function\n",
    "   - Takes a list as input\n",
    "   - Returns the shuffled list (unlike built-in shuffle which modifies in-place)\n",
    "\n",
    "2. **player_guess**:\n",
    "   - Takes no arguments\n",
    "   - Gets user input (0, 1, or 2)\n",
    "   - Validates the input\n",
    "   - Returns the guess as an integer\n",
    "\n",
    "3. **check_guess**:\n",
    "   - Takes two arguments: shuffled list and player's guess\n",
    "   - Checks if the guess matches the 'O' position\n",
    "   - Prints whether the guess was correct or wrong\n",
    "\n",
    "## Function Interactions\n",
    "- Our functions will work together in sequence:\n",
    "  1. First, we'll shuffle the list using `shuffle_list`\n",
    "  2. Then get player input using `player_guess`\n",
    "  3. Finally check the result using `check_guess`\n",
    "\n",
    "This demonstrates how functions can:\n",
    "- Pass results to each other\n",
    "- Build upon each other's functionality\n",
    "- Create complex behavior from simple, reusable components\n"
   ]
  },
  {
   "cell_type": "code",
   "execution_count": 5,
   "id": "28ef6427",
   "metadata": {},
   "outputs": [],
   "source": [
    "from random import shuffle"
   ]
  },
  {
   "cell_type": "code",
   "execution_count": 6,
   "id": "1e84c3b4",
   "metadata": {},
   "outputs": [
    {
     "name": "stdout",
     "output_type": "stream",
     "text": [
      "[0, 1, 2, 3, 4, 5, 6, 7]\n"
     ]
    }
   ],
   "source": [
    "#examp list:\n",
    "my_range= range(8) \n",
    "mylist = list(my_range) #convert range into a list\n",
    "print(mylist)"
   ]
  },
  {
   "cell_type": "code",
   "execution_count": 7,
   "id": "f3f35ef4",
   "metadata": {},
   "outputs": [
    {
     "name": "stdout",
     "output_type": "stream",
     "text": [
      "[2, 6, 1, 5, 3, 0, 4, 7]\n"
     ]
    }
   ],
   "source": [
    "shuffle(mylist) # this function is used to shuffle the list\n",
    "print(mylist)"
   ]
  },
  {
   "cell_type": "code",
   "execution_count": 8,
   "id": "d8b6f6d5",
   "metadata": {},
   "outputs": [],
   "source": [
    "#create a func that shuffle a list\n",
    "def shuffle_list(mylist):\n",
    "    shuffle(mylist)\n",
    "    return mylist\n"
   ]
  },
  {
   "cell_type": "code",
   "execution_count": 13,
   "id": "a6d78746",
   "metadata": {},
   "outputs": [
    {
     "name": "stdout",
     "output_type": "stream",
     "text": [
      "[0, 3, 4, 5, 1, 2, 6, 7]\n"
     ]
    }
   ],
   "source": [
    "#check the func\n",
    "result = shuffle_list(mylist)\n",
    "print(result)"
   ]
  },
  {
   "cell_type": "code",
   "execution_count": null,
   "id": "8cb5fb81",
   "metadata": {},
   "outputs": [],
   "source": [
    "#carnival game: guess the position of the ball\n",
    "\n",
    "mylist = [' ', 'O', ' '] # the o is the ball\n"
   ]
  },
  {
   "cell_type": "code",
   "execution_count": null,
   "id": "a795e30a",
   "metadata": {},
   "outputs": [],
   "source": [
    "def player_guess():\n",
    "    guess = ''\n",
    "\n",
    "    while guess not in [0, 1, 2]:\n",
    "        guess = int(input('pick a number: 0, 1, or 2 ')) #the user will input a number\n",
    "\n",
    "    return int(guess)\n",
    "\n",
    "\n",
    "\n",
    "\n",
    "\n"
   ]
  },
  {
   "cell_type": "code",
   "execution_count": 17,
   "id": "71fc5276",
   "metadata": {},
   "outputs": [],
   "source": [
    "#check the func\n",
    "guess = player_guess()"
   ]
  },
  {
   "cell_type": "code",
   "execution_count": 19,
   "id": "4cf73a7a",
   "metadata": {},
   "outputs": [
    {
     "name": "stdout",
     "output_type": "stream",
     "text": [
      "1\n"
     ]
    }
   ],
   "source": [
    "#how to save the guess\n",
    "myindex = player_guess()\n",
    "\n",
    "print(myindex)\n"
   ]
  },
  {
   "cell_type": "code",
   "execution_count": 21,
   "id": "4bc0c950",
   "metadata": {},
   "outputs": [],
   "source": [
    "# interact with the func\n",
    "def check_guess(mylist, guess):\n",
    "    if mylist[guess] == 'O':\n",
    "        print(' you are correct!')\n",
    "    else:\n",
    "       print('you are wrong!')\n",
    "       print(mylist)\n",
    "\n",
    "\n",
    "\n",
    "\n",
    "\n",
    "\n"
   ]
  },
  {
   "cell_type": "code",
   "execution_count": 23,
   "id": "ff1670ec",
   "metadata": {},
   "outputs": [
    {
     "name": "stdout",
     "output_type": "stream",
     "text": [
      " you are correct!\n"
     ]
    }
   ],
   "source": [
    "# script logic:\n",
    "'''\n",
    "1. crate a list \n",
    "2. shuffle the list\n",
    "3 ask the user to guess\n",
    "4. check against the guess\n",
    "'''\n",
    "#create a list\n",
    "mylist = [' ', 'O', ' ']\n",
    "\n",
    "#shuffle the list\n",
    "mix_list = shuffle_list(mylist)\n",
    "\n",
    "#user guess\n",
    "guess = player_guess()\n",
    "\n",
    "#check the guess\n",
    "check_guess(mix_list, guess)\n",
    "\n",
    "\n",
    "\n",
    "\n",
    "\n"
   ]
  }
 ],
 "metadata": {
  "kernelspec": {
   "display_name": ".venv",
   "language": "python",
   "name": "python3"
  },
  "language_info": {
   "codemirror_mode": {
    "name": "ipython",
    "version": 3
   },
   "file_extension": ".py",
   "mimetype": "text/x-python",
   "name": "python",
   "nbconvert_exporter": "python",
   "pygments_lexer": "ipython3",
   "version": "3.12.4"
  }
 },
 "nbformat": 4,
 "nbformat_minor": 5
}
