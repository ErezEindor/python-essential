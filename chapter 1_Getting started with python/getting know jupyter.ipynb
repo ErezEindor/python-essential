{
 "cells": [
  {
   "cell_type": "markdown",
   "metadata": {},
   "source": [
    "if we want to create a title we;ll use the '#' in front of the text\n",
    "# title\n",
    "## two '#' makes a smaller title\n",
    "### and so on "
   ]
  },
  {
   "cell_type": "markdown",
   "metadata": {},
   "source": [
    "in order to create new cells will press shift+enter  <br>\n",
    "in order to delete a cell i will press 'd' outside the cell<br> \n",
    "if we press 'a' it wil create a new cell above the current cell<br>\n",
    "if we press 'b' it wil create a new cell below the current cell<br>\n",
    "by using '< br >' we can create a new line "
   ]
  },
  {
   "cell_type": "code",
   "execution_count": 7,
   "metadata": {},
   "outputs": [
    {
     "name": "stdout",
     "output_type": "stream",
     "text": [
      "im the king of the world\n"
     ]
    }
   ],
   "source": [
    "print(\"im the king of the world\")"
   ]
  }
 ],
 "metadata": {
  "kernelspec": {
   "display_name": "Python 3",
   "language": "python",
   "name": "python3"
  },
  "language_info": {
   "codemirror_mode": {
    "name": "ipython",
    "version": 3
   },
   "file_extension": ".py",
   "mimetype": "text/x-python",
   "name": "python",
   "nbconvert_exporter": "python",
   "pygments_lexer": "ipython3",
   "version": "3.12.2"
  }
 },
 "nbformat": 4,
 "nbformat_minor": 2
}
