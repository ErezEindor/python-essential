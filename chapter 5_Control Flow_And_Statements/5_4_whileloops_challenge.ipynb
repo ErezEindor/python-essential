{
 "cells": [
  {
   "cell_type": "markdown",
   "metadata": {},
   "source": [
    "## Control Flow: While loop Challenge\n",
    "\n",
    "1. Simple Counter:\n",
    "    - Write a while loop that counts from 1 to 10 and prints each number.\n",
    "2. Sum of Numbers:\n",
    "    - Use a while loop to compute the sum of the first 100 positive integers.\n",
    "3. Guess the Number:\n",
    "    - Simulate a number guessing game. Generate a random number between 1 and 100. Write a while loop where each iteration simulates a guess and stops when the correct number is guessed. Since user input isn't preferred, simulate guesses with an increasing counter.\n",
    "4. Reverse String:\n",
    "    - Objective: Write a while loop that takes a string and reverses it. Use indexing and a loop to construct the reversed string.\n",
    "5. Prime Number Finder:\n",
    "    - Write a while loop that finds and prints the first 20 prime numbers. Use nested loops: the outer while finds numbers and the inner while checks if they are prime."
   ]
  },
  {
   "cell_type": "code",
   "execution_count": 3,
   "metadata": {},
   "outputs": [
    {
     "name": "stdout",
     "output_type": "stream",
     "text": [
      "we are at 1 the threshold is 10\n",
      "we are at 2 the threshold is 10\n",
      "we are at 3 the threshold is 10\n",
      "we are at 4 the threshold is 10\n",
      "we are at 5 the threshold is 10\n",
      "we are at 6 the threshold is 10\n",
      "we are at 7 the threshold is 10\n",
      "we are at 8 the threshold is 10\n",
      "we are at 9 the threshold is 10\n",
      "we are at 10 the threshold is 10\n",
      "1, 2, 3, 4, 5, 6, 7, 8, 9, 10\n"
     ]
    }
   ],
   "source": [
    "# 1. simple counter\n",
    "'''\n",
    "i want 1,2,3,4,5,6,7,8,9,10\n",
    "'''\n",
    "threshold = 10\n",
    "count = 1\n",
    "\n",
    "while count <= threshold:\n",
    "    print (f'we are at {count} the threshold is {threshold}')\n",
    "    count += 1\n",
    "\n",
    "# another solution:\n",
    "\n",
    "threshold = 10\n",
    "count = 1\n",
    "results = []\n",
    "\n",
    "while count <= threshold:\n",
    "    results.append(count)\n",
    "    count += 1\n",
    "\n",
    "# Print all results on one line, separated by commas\n",
    "print(\", \".join(map(str, results)))\n"
   ]
  },
  {
   "cell_type": "code",
   "execution_count": 10,
   "metadata": {},
   "outputs": [
    {
     "name": "stdout",
     "output_type": "stream",
     "text": [
      "the total of the first 100 positive numbers is 5050\n"
     ]
    }
   ],
   "source": [
    "# 2. Sum of Numbers:\n",
    "'''\n",
    "    i want to sum the first 100 int positive num\n",
    "'''\n",
    "count = 1\n",
    "maximum = 100\n",
    "total = 0\n",
    "\n",
    "while count <= maximum:\n",
    "    total += count\n",
    "    count += 1\n",
    "print (f'the total of the first {maximum} positive numbers is {total}')\n"
   ]
  },
  {
   "cell_type": "code",
   "execution_count": 15,
   "metadata": {},
   "outputs": [
    {
     "name": "stdout",
     "output_type": "stream",
     "text": [
      "you guessed it right the target number was 36\n"
     ]
    }
   ],
   "source": [
    "# 3. Guess the Number:\n",
    "'''\n",
    "    i need to import random libery for this \n",
    "'''\n",
    "import random\n",
    "\n",
    "target_num = random.randint(1,100)\n",
    "guess = 1\n",
    "maximum = 100\n",
    "while guess <= maximum:\n",
    "    if guess == target_num:\n",
    "        print (f'you guessed it right the target number was {target_num}')\n",
    "        break\n",
    "    guess += 1\n"
   ]
  },
  {
   "cell_type": "code",
   "execution_count": 39,
   "metadata": {},
   "outputs": [
    {
     "name": "stdout",
     "output_type": "stream",
     "text": [
      "['E', 'r', 'e', 'z']\n",
      "zerE\n",
      "zerE\n"
     ]
    }
   ],
   "source": [
    "# 4. Reverse String:\n",
    "'''\n",
    "so in order to do so, i can create an empty list\n",
    "'''\n",
    "\n",
    "mylist = []\n",
    "mystring = 'Erez'\n",
    "count = 0\n",
    "#print (len(mystring))\n",
    "#main loop\n",
    "while count < len(mystring):\n",
    "    mylist.append(mystring[count])\n",
    "    count += 1\n",
    "print (mylist)\n",
    "myrevese= ''.join(mylist)\n",
    "print (myrevese[::-1])\n",
    "\n",
    "# another solution:\n",
    "mystring = 'Erez'\n",
    "count = 0\n",
    "reversed_list = []  # This will hold the characters in reverse order\n",
    "\n",
    "# Main loop\n",
    "while count < len(mystring):\n",
    "    # Insert the current character at the beginning of the list\n",
    "    reversed_list.insert(0, mystring[count])\n",
    "    count += 1\n",
    "\n",
    "# Join the list to form the reversed string\n",
    "reversed_string = ''.join(reversed_list)\n",
    "print(reversed_string)\n"
   ]
  },
  {
   "cell_type": "code",
   "execution_count": 41,
   "metadata": {},
   "outputs": [
    {
     "name": "stdout",
     "output_type": "stream",
     "text": [
      "2\n",
      "3\n",
      "5\n",
      "7\n",
      "11\n",
      "13\n",
      "17\n",
      "19\n",
      "23\n",
      "29\n",
      "31\n",
      "37\n",
      "41\n",
      "43\n",
      "47\n",
      "53\n",
      "59\n",
      "61\n",
      "67\n",
      "71\n"
     ]
    }
   ],
   "source": [
    "# 5. Prime Number Finder:\n",
    "'''\n",
    "i want to find the first 20 prime numbers\n",
    "what is prime number?\n",
    "Prime numbers are natural numbers that are divisible by only 1 and the number itself\n",
    "'''\n",
    "count = 0\n",
    "number = 2\n",
    "while count < 20:\n",
    "    is_prime = True\n",
    "    divisor = 2\n",
    "    while divisor <= number / 2:\n",
    "        if number % divisor == 0:\n",
    "            is_prime = False\n",
    "            break\n",
    "        divisor += 1\n",
    "    if is_prime:\n",
    "        print(number)\n",
    "        count += 1\n",
    "    number += 1\n",
    "\n",
    "\n",
    "\n"
   ]
  }
 ],
 "metadata": {
  "kernelspec": {
   "display_name": "Python 3",
   "language": "python",
   "name": "python3"
  },
  "language_info": {
   "codemirror_mode": {
    "name": "ipython",
    "version": 3
   },
   "file_extension": ".py",
   "mimetype": "text/x-python",
   "name": "python",
   "nbconvert_exporter": "python",
   "pygments_lexer": "ipython3",
   "version": "3.12.4"
  }
 },
 "nbformat": 4,
 "nbformat_minor": 2
}
