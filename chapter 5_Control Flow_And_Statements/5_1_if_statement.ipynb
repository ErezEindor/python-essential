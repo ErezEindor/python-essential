{
 "cells": [
  {
   "cell_type": "markdown",
   "metadata": {},
   "source": [
    "## Control Flow: IF statements\n",
    "The `if` statement is a fundamental component of programming that allows for conditional execution of code blocks. \n",
    "\n",
    "It evaluates a condition and executes the subsequent code block only if the condition is **true**.\n",
    "\n",
    "- **Key Concepts:**\n",
    "    - **Basic `if` Statement:** Executes a block of code if a specified condition evaluates to `True`.\n",
    "    - **`elif` and `else` Statements:** \n",
    "        - `elif` allows for multiple evaluations.\n",
    "        - `else` executes a block of code when none of the previous conditions are true.\n",
    "    - **Logical Operators::** Combine conditions using `and`, `or`, and `not`.\n",
    "    - **Ternary Operators (single line if statement):** Short-hand syntax for `if-else` conditions. Used for assigning values based on conditions. \n",
    "\n",
    "\n"
   ]
  },
  {
   "cell_type": "code",
   "execution_count": 1,
   "metadata": {},
   "outputs": [
    {
     "name": "stdout",
     "output_type": "stream",
     "text": [
      "X is less than Y\n"
     ]
    }
   ],
   "source": [
    "#basic if\n",
    "# lets assgin var\n",
    "x= 10\n",
    "y= 20\n",
    "\n",
    "#now lets add the `if`\n",
    "if x> y:\n",
    "    print('X is bigger than Y ')\n",
    "elif x< y:\n",
    "    print('X is less than Y') \n",
    "else:\n",
    "    print('X and Y are equal') "
   ]
  },
  {
   "cell_type": "markdown",
   "metadata": {},
   "source": [
    "### Data Engineering Use Case: Data Validation and Cleansing\n",
    "\n",
    "**Scenario:** You're a data engineer tasked with preparing a dataset for analysis. \n",
    "\n",
    "The dataset contains user information including ages, which should be positive integers. \n",
    "\n",
    "You need to validate these ages to ensure they are within a realistic range before they are processed or loaded into your data analytics platform.\n"
   ]
  },
  {
   "cell_type": "code",
   "execution_count": 4,
   "metadata": {},
   "outputs": [
    {
     "name": "stdout",
     "output_type": "stream",
     "text": [
      "invalid age data for Bob\n",
      "here is the clean data [{'name': 'Alice', 'age': 30}, {'name': 'Charlie', 'age': 55}]\n"
     ]
    }
   ],
   "source": [
    "#example of the dataset\n",
    "user_data = [{'name': 'Alice', 'age': '30'}, {'name': 'Bob', 'age': 'twenty'}, {'name': 'Charlie', 'age': '55'}]\n",
    "\n",
    "#create a function for clean the dataset\n",
    "def valid_and_clean (data):\n",
    "    validdata=[]\n",
    "    for user in data:\n",
    "        age= user['age']\n",
    "        if age.isdigit() and 0 < int(age) <= 120: #this will create a normal range\n",
    "            user['age']= int(age)\n",
    "            validdata.append(user)\n",
    "        else:\n",
    "            print(f'invalid age data for {user['name']}')\n",
    "    return validdata\n",
    "\n",
    "cleandata= valid_and_clean(user_data)\n",
    "print('here is the clean data', cleandata)\n"
   ]
  },
  {
   "cell_type": "markdown",
   "metadata": {},
   "source": [
    "### explanation\n",
    "- **User Data:** A list of dictionaries where each dictionary represents a user and contains their name and age.\n",
    "- **Data Validation:** The function validate_and_clean_data iterates through each user record, checks if the age is a digit and within a realistic age range (1 to 120 years).\n",
    "- **Data Cleansing:** If the age is valid, it's converted to an integer and the user record is added to the list of valid data.\n",
    "- **Error Handling:** If the age data is invalid (e.g., not a digit or out of range), the record is skipped, and a message is printed."
   ]
  },
  {
   "cell_type": "markdown",
   "metadata": {},
   "source": [
    "### FizzBuzz Example:\n",
    "Implement the FizzBuzz challenge, which is often used in coding interviews. The task is to print numbers from 1 to 100, but for multiples of 3, print \"Fizz\" instead of the number, and for the multiples of 5, print \"Buzz\". For numbers which are multiples of both 3 and 5, print \"FizzBuzz\"."
   ]
  },
  {
   "cell_type": "code",
   "execution_count": 5,
   "metadata": {},
   "outputs": [
    {
     "name": "stdout",
     "output_type": "stream",
     "text": [
      "1\n",
      "2\n",
      "fizz\n",
      "4\n",
      "buzz\n",
      "fizz\n",
      "7\n",
      "8\n",
      "fizz\n",
      "buzz\n",
      "11\n",
      "fizz\n",
      "13\n",
      "14\n",
      "fizzbuzz\n",
      "16\n",
      "17\n",
      "fizz\n",
      "19\n",
      "buzz\n",
      "fizz\n",
      "22\n",
      "23\n",
      "fizz\n",
      "buzz\n",
      "26\n",
      "fizz\n",
      "28\n",
      "29\n",
      "fizzbuzz\n",
      "31\n",
      "32\n",
      "fizz\n",
      "34\n",
      "buzz\n",
      "fizz\n",
      "37\n",
      "38\n",
      "fizz\n",
      "buzz\n",
      "41\n",
      "fizz\n",
      "43\n",
      "44\n",
      "fizzbuzz\n",
      "46\n",
      "47\n",
      "fizz\n",
      "49\n",
      "buzz\n",
      "fizz\n",
      "52\n",
      "53\n",
      "fizz\n",
      "buzz\n",
      "56\n",
      "fizz\n",
      "58\n",
      "59\n",
      "fizzbuzz\n",
      "61\n",
      "62\n",
      "fizz\n",
      "64\n",
      "buzz\n",
      "fizz\n",
      "67\n",
      "68\n",
      "fizz\n",
      "buzz\n",
      "71\n",
      "fizz\n",
      "73\n",
      "74\n",
      "fizzbuzz\n",
      "76\n",
      "77\n",
      "fizz\n",
      "79\n",
      "buzz\n",
      "fizz\n",
      "82\n",
      "83\n",
      "fizz\n",
      "buzz\n",
      "86\n",
      "fizz\n",
      "88\n",
      "89\n",
      "fizzbuzz\n",
      "91\n",
      "92\n",
      "fizz\n",
      "94\n",
      "buzz\n",
      "fizz\n",
      "97\n",
      "98\n",
      "fizz\n",
      "buzz\n"
     ]
    }
   ],
   "source": [
    "'''\n",
    "how does a fizzbuzz sequence look like?\n",
    "\n",
    "1, 2, fizz, 4, buzz, fizz, 7, 8, fizz, buzz, 11, fizz, 13, 14, fizzbuzz\n",
    "'''\n",
    "#we can write it like this:\n",
    "for n in range (1,101):\n",
    "    if n % 15 ==0:\n",
    "        print('fizzbuzz')\n",
    "    else:\n",
    "        if n% 5 == 0:\n",
    "            print('buzz')\n",
    "        else:\n",
    "            if n% 3 == 0:\n",
    "                print('fizz')\n",
    "            else:\n",
    "                print(n)"
   ]
  },
  {
   "cell_type": "code",
   "execution_count": 6,
   "metadata": {},
   "outputs": [
    {
     "name": "stdout",
     "output_type": "stream",
     "text": [
      "1\n",
      "2\n",
      "fizz\n",
      "4\n",
      "buzz\n",
      "fizz\n",
      "7\n",
      "8\n",
      "fizz\n",
      "buzz\n",
      "11\n",
      "fizz\n",
      "13\n",
      "14\n",
      "fizzbuzz\n",
      "16\n",
      "17\n",
      "fizz\n",
      "19\n",
      "buzz\n",
      "fizz\n",
      "22\n",
      "23\n",
      "fizz\n",
      "buzz\n",
      "26\n",
      "fizz\n",
      "28\n",
      "29\n",
      "fizzbuzz\n",
      "31\n",
      "32\n",
      "fizz\n",
      "34\n",
      "buzz\n",
      "fizz\n",
      "37\n",
      "38\n",
      "fizz\n",
      "buzz\n",
      "41\n",
      "fizz\n",
      "43\n",
      "44\n",
      "fizzbuzz\n",
      "46\n",
      "47\n",
      "fizz\n",
      "49\n",
      "buzz\n",
      "fizz\n",
      "52\n",
      "53\n",
      "fizz\n",
      "buzz\n",
      "56\n",
      "fizz\n",
      "58\n",
      "59\n",
      "fizzbuzz\n",
      "61\n",
      "62\n",
      "fizz\n",
      "64\n",
      "buzz\n",
      "fizz\n",
      "67\n",
      "68\n",
      "fizz\n",
      "buzz\n",
      "71\n",
      "fizz\n",
      "73\n",
      "74\n",
      "fizzbuzz\n",
      "76\n",
      "77\n",
      "fizz\n",
      "79\n",
      "buzz\n",
      "fizz\n",
      "82\n",
      "83\n",
      "fizz\n",
      "buzz\n",
      "86\n",
      "fizz\n",
      "88\n",
      "89\n",
      "fizzbuzz\n",
      "91\n",
      "92\n",
      "fizz\n",
      "94\n",
      "buzz\n",
      "fizz\n",
      "97\n",
      "98\n",
      "fizz\n",
      "buzz\n"
     ]
    }
   ],
   "source": [
    "# the right way to do fizzbuzz:\n",
    "for n in range(1,101):\n",
    "    if n% 15 == 0:\n",
    "        print('fizzbuzz')\n",
    "    elif n% 5 == 0:\n",
    "        print('buzz')\n",
    "    elif n% 3 ==0:\n",
    "        print('fizz')\n",
    "    else:\n",
    "        print(n)"
   ]
  },
  {
   "cell_type": "markdown",
   "metadata": {},
   "source": [
    "### Ternary Operators (single line if statement)"
   ]
  },
  {
   "cell_type": "code",
   "execution_count": 7,
   "metadata": {},
   "outputs": [
    {
     "name": "stdout",
     "output_type": "stream",
     "text": [
      "available\n"
     ]
    }
   ],
   "source": [
    "# Ternary Operator Example\n",
    "status = \"busy\" if x > y else \"available\"\n",
    "print(status)\n"
   ]
  },
  {
   "cell_type": "code",
   "execution_count": 10,
   "metadata": {},
   "outputs": [
    {
     "name": "stdout",
     "output_type": "stream",
     "text": [
      "buzz\n"
     ]
    }
   ],
   "source": [
    "#another example:\n",
    "n= 5\n",
    "fizzbuzz= 'fizz' if n % 3 == 0 else 'buzz' if n % 5 == 0 else n\n",
    "print (fizzbuzz)"
   ]
  }
 ],
 "metadata": {
  "kernelspec": {
   "display_name": "Python 3",
   "language": "python",
   "name": "python3"
  },
  "language_info": {
   "codemirror_mode": {
    "name": "ipython",
    "version": 3
   },
   "file_extension": ".py",
   "mimetype": "text/x-python",
   "name": "python",
   "nbconvert_exporter": "python",
   "pygments_lexer": "ipython3",
   "version": "3.12.4"
  }
 },
 "nbformat": 4,
 "nbformat_minor": 2
}
