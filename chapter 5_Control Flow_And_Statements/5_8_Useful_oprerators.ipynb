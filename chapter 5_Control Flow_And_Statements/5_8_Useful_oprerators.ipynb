{
 "cells": [
  {
   "cell_type": "markdown",
   "id": "5b24f1d3",
   "metadata": {},
   "source": [
    "# Handy Built-In Functions & Keywords in Python\n",
    "\n",
    "Python ships with a rich standard library and a handful of “operator-like” keywords that cover many day-to-day needs—**no extra imports required**.  \n",
    "Mastering these utilities—`range`, `enumerate`, `zip`, the membership operator `in`, `min`/`max`, parts of the `random` module, and `input`—dramatically shortens code, reduces bugs, and boosts readability in data-engineering notebooks.\n",
    "\n",
    "---\n",
    "\n",
    "## Key Concepts\n",
    "\n",
    "| Group | Function / Keyword | Core Idea & Syntax |\n",
    "|-------|--------------------|--------------------|\n",
    "| **Sequence Generators** | `range(start, stop, step)` | Memory-efficient iterator that yields integers from `start` (inclusive) to `stop` (exclusive) in `step` increments. Cast to `list()` if you need the materialized sequence. |\n",
    "| | `enumerate(iterable, start=0)` | Pairs each element with a running index: `for idx, val in enumerate(seq)`. Great for tracking positions without manual counters. |\n",
    "| | `zip(it1, it2, …)` | “Zips” iterables into tuples: `zip([1,2], ['a','b']) → (1,'a'), (2,'b')`. Stops at the shortest iterable. |\n",
    "| **Membership** | `in`, `not in` | Boolean check if an element appears in a container: `x in my_list`, `'a' in my_str`, `k in dict_obj` (checks keys). |\n",
    "| **Simple Aggregates** | `min(iterable)`, `max(iterable)` | Quick lowest / highest value lookup. Avoid using `min` / `max` as variable names—they shadow the built-ins. |\n",
    "| **Random Utilities** | `random.shuffle(seq)` | In-place random reordering of a mutable sequence (returns `None`). |\n",
    "| | `random.randint(a, b)` | Returns an integer `N` such that `a ≤ N ≤ b`. |\n",
    "| **User Input** | `input(prompt)` | Reads a line from stdin **as a string**. Cast to `int()`/`float()` as needed. |\n",
    "\n",
    "---\n",
    "\n",
    "## Real-World Use Cases\n",
    "\n",
    "| Function / Keyword | Typical Data-Engineering Scenario |\n",
    "|--------------------|------------------------------------|\n",
    "| `range` | Generate surrogate keys, create batch IDs, paginate API calls. |\n",
    "| `enumerate` | Attach row numbers when streaming data to logs or progress bars. |\n",
    "| `zip` | Pair column names with values when building row dictionaries. |\n",
    "| `in` | Fast existence checks before expensive DB hits (e.g., _is ID already processed?_). |\n",
    "| `min` / `max` | Identify earliest / latest timestamps or smallest / largest metric. |\n",
    "| `shuffle` | Produce randomized train/test splits for ML pipelines. |\n",
    "| `randint` | Simulate synthetic data, assign random sample IDs. |\n",
    "| `input` | CLI-style scripts that gather parameters (file paths, run dates) interactively. |\n",
    "\n",
    "---\n",
    "\n",
    "## Common Pitfalls & Best Practices\n",
    "- **`range` vs. list**: Materialize only when necessary; large ranges stay memory-friendly as iterators.  \n",
    "- **Uneven `zip` inputs**: Extra elements in longer iterables are silently **ignored**—validate lengths if data loss is critical.  \n",
    "- **Shadowing names**: Don’t name variables `min`, `max`, or `list`; you’ll overwrite the built-ins.  \n",
    "- **`shuffle` side effect**: Operates *in-place* and returns `None`; work on a copy if original order matters.  \n",
    "- **`input` as string**: Always cast to the desired numeric type—otherwise string concatenation (`'10' + '5' → '105'`) may bite you.\n",
    "\n",
    "---\n",
    "\n",
    "## Key Takeaways\n",
    "- Built-in utilities replace verbose boilerplate with single-line idioms—**learn them once, profit everywhere**.  \n",
    "- `range`, `enumerate`, and `zip` are generator-based: efficient until you need a full list.  \n",
    "- Membership checks (`in`) are constant-time for sets/dicts—optimize lookups with the right container.  \n",
    "- The `random` module offers reproducible randomness (set `random.seed()`) without third-party libs.  \n",
    "- `input()` *always* yields strings; explicit casting prevents type surprises in downstream logic.\n"
   ]
  },
  {
   "cell_type": "code",
   "execution_count": 5,
   "id": "6c236ce2",
   "metadata": {},
   "outputs": [
    {
     "name": "stdout",
     "output_type": "stream",
     "text": [
      "0\n",
      "1\n",
      "2\n",
      "3\n",
      "4\n",
      "5\n",
      "6\n",
      "7\n",
      "8\n",
      "9\n",
      "--------------------------------\n",
      "1\n",
      "2\n",
      "3\n",
      "4\n",
      "5\n",
      "6\n",
      "7\n",
      "8\n",
      "9\n",
      "--------------------------------\n",
      "0\n",
      "2\n",
      "4\n",
      "6\n",
      "8\n"
     ]
    }
   ],
   "source": [
    "#range operator\n",
    "for num in range(10):\n",
    "    print(num) #print the numbers from 0 to 9 \n",
    "\n",
    "print('--------------------------------')\n",
    "#range operator with start and stop\n",
    "for num in range(1,10):\n",
    "    print(num) #print the numbers from 1 to 9\n",
    "\n",
    "print('--------------------------------')\n",
    "\n",
    "#range operator with start, stop and step\n",
    "for num in range(0,10,2): #print the numbers from 0 to 9 with a step of 2\n",
    "    print(num)"
   ]
  },
  {
   "cell_type": "markdown",
   "id": "25ab69d9",
   "metadata": {},
   "source": []
  },
  {
   "cell_type": "code",
   "execution_count": 7,
   "id": "ab897ce7",
   "metadata": {},
   "outputs": [
    {
     "name": "stdout",
     "output_type": "stream",
     "text": [
      "[1, 3, 5, 7, 9]\n"
     ]
    }
   ],
   "source": [
    "# we can cast a range object to a list\n",
    "x= list(range(1,10,2)) # print the numbers from 1 to 9 with a step of 2\n",
    "print(x) # print the list"
   ]
  },
  {
   "cell_type": "code",
   "execution_count": 9,
   "id": "198e78bc",
   "metadata": {},
   "outputs": [
    {
     "name": "stdout",
     "output_type": "stream",
     "text": [
      "A\n",
      "n\n",
      "a\n",
      "t\n",
      "i\n",
      "--------------------------------------------------\n",
      "(0, 'A')\n",
      "(1, 'n')\n",
      "(2, 'a')\n",
      "(3, 't')\n",
      "(4, 'i')\n",
      "0-A\n",
      "1-n\n",
      "2-a\n",
      "3-t\n",
      "4-i\n"
     ]
    }
   ],
   "source": [
    "# enumerate operator\n",
    "index = 0\n",
    "word = 'Anati'\n",
    "# domman use case for counters \n",
    "for i in word:\n",
    "    print (word[index])\n",
    "    index += 1\n",
    "\n",
    "print('-'*50)\n",
    "#same as above but with enumerate\n",
    "for i in enumerate(word):\n",
    "    print(i) # this will print a tuple of the index and the item\n",
    "\n",
    "# unpacking the tuple\n",
    "for index, item in enumerate(word):\n",
    "    print(index, item, sep='-')\n",
    "\n",
    "\n",
    "\n",
    "\n",
    "\n"
   ]
  },
  {
   "cell_type": "code",
   "execution_count": 12,
   "id": "da4b08cd",
   "metadata": {},
   "outputs": [
    {
     "name": "stdout",
     "output_type": "stream",
     "text": [
      "('a', 1)\n",
      "('b', 2)\n",
      "('c', 3)\n",
      "{'a': 1, 'b': 2, 'c': 3}\n"
     ]
    }
   ],
   "source": [
    "# zip operator: combine two lists into a dictionary\n",
    "list1 = ['a','b','c']\n",
    "list2 = [1,2,3]\n",
    "\n",
    "#zip operator\n",
    "for i in zip(list1,list2):\n",
    "    print(i) # will print a tuple of the two lists\n",
    "\n",
    "#zip operator with dictionary\n",
    "dic_zip = dict(zip(list1,list2))\n",
    "print(dic_zip)\n"
   ]
  },
  {
   "cell_type": "code",
   "execution_count": null,
   "id": "4ac3a89a",
   "metadata": {},
   "outputs": [
    {
     "name": "stdout",
     "output_type": "stream",
     "text": [
      "--------------------------------------------------\n"
     ]
    },
    {
     "data": {
      "text/plain": [
       "False"
      ]
     },
     "execution_count": 14,
     "metadata": {},
     "output_type": "execute_result"
    }
   ],
   "source": [
    "# the in operator\n",
    "# is var in or not in list\n",
    "'x' in ['x','y','z'] # True\n",
    "#'x' not in ['x','y','z'] # False\n",
    "# 'x' in 'abc' # False\n",
    "\n",
    "\n",
    "\n"
   ]
  },
  {
   "cell_type": "code",
   "execution_count": 15,
   "id": "eb26f14f",
   "metadata": {},
   "outputs": [
    {
     "data": {
      "text/plain": [
       "False"
      ]
     },
     "execution_count": 15,
     "metadata": {},
     "output_type": "execute_result"
    }
   ],
   "source": [
    "'mykey' in {'a':1,'b':2,'c':3} # False\n",
    "\n",
    "\n",
    "\n",
    "\n",
    "\n",
    "\n",
    "\n",
    "\n",
    "\n",
    "\n"
   ]
  },
  {
   "cell_type": "code",
   "execution_count": null,
   "id": "198ee823",
   "metadata": {},
   "outputs": [
    {
     "name": "stdout",
     "output_type": "stream",
     "text": [
      "1\n",
      "5\n"
     ]
    }
   ],
   "source": [
    "# min and max operators\n",
    "mylist = [1,2,3,4,5]\n",
    "\n",
    "print(min(mylist))\n",
    "print(max(mylist))\n",
    "\n",
    "\n",
    "\n"
   ]
  },
  {
   "cell_type": "code",
   "execution_count": 26,
   "id": "350907ec",
   "metadata": {},
   "outputs": [
    {
     "name": "stdout",
     "output_type": "stream",
     "text": [
      "[3, 2, 1, 4, 5]\n",
      "12\n",
      "15\n"
     ]
    }
   ],
   "source": [
    "# the random module\n",
    "from random import shuffle, randint\n",
    "\n",
    "# shuffle\n",
    "mylist = [1,2,3,4,5]\n",
    "shuffle(mylist) # shuffle the list\n",
    "print(mylist)\n",
    "\n",
    "# randint\n",
    "print(randint(0,100)) # random integer between 0 and 100\n",
    "\n",
    "mynum = randint(0,100)\n",
    "print(mynum)\n",
    "\n",
    "\n",
    "\n"
   ]
  },
  {
   "cell_type": "code",
   "execution_count": null,
   "id": "3b7bae10",
   "metadata": {},
   "outputs": [
    {
     "name": "stdout",
     "output_type": "stream",
     "text": [
      "Hello Erez\n"
     ]
    }
   ],
   "source": [
    "# the input function\n",
    "result = input('Enter your name: ') \n",
    "\n",
    "print(f'Hello {result}')\n",
    "\n",
    "\n",
    "\n",
    "\n",
    "\n",
    "\n"
   ]
  },
  {
   "cell_type": "markdown",
   "id": "770695ee",
   "metadata": {
    "vscode": {
     "languageId": "raw"
    }
   },
   "source": [
    "## Practice Questions - Useful Operators\n",
    "\n",
    "### Question 1 (Easy)\n",
    "Write a program that creates a list of even numbers from 2 to 20 using the `range()` function. \n",
    "\n",
    "Then print the `minimum` and `maximum` values from this list.\n",
    "\n"
   ]
  },
  {
   "cell_type": "code",
   "execution_count": null,
   "id": "e79dd8e5",
   "metadata": {},
   "outputs": [
    {
     "name": "stdout",
     "output_type": "stream",
     "text": [
      "[2, 4, 6, 8, 10, 12, 14, 16, 18, 20]\n",
      "2\n",
      "20\n"
     ]
    }
   ],
   "source": [
    "# answer to question 1\n",
    "mylist = list(range(2,21,2)) # the easy way\n",
    "print(mylist, min(mylist), max(mylist), sep='\\n')\n",
    "#another way to create the list\n",
    "#list1 = []\n",
    "#for i in range(2,21,2):\n",
    "#    list1.append(i)\n",
    "#print(list1)\n"
   ]
  },
  {
   "cell_type": "markdown",
   "id": "b75014b1",
   "metadata": {
    "vscode": {
     "languageId": "raw"
    }
   },
   "source": [
    "### Question 2 (Medium)\n",
    "Given two lists: \n",
    "-`fruits = ['apple', 'banana', 'cherry']`  \n",
    "-`prices = [1.20, 0.50, 2.00]` \n",
    "- create a program that:\n",
    "1. Uses `zip()` to combine them into a dictionary\n",
    "2. Uses `enumerate()` to print each fruit with its position number (starting from 1)\n",
    "3. Checks if 'banana' is in the fruits list and prints an appropriate message\n"
   ]
  },
  {
   "cell_type": "code",
   "execution_count": 12,
   "id": "1072b783",
   "metadata": {},
   "outputs": [
    {
     "name": "stdout",
     "output_type": "stream",
     "text": [
      "{'apple': 1.2, 'banana': 0.5, 'cherry': 2.0}\n",
      "1. apple\n",
      "2. banana\n",
      "3. cherry\n",
      "banana is in the dictionary\n"
     ]
    }
   ],
   "source": [
    "# answer to question 2\n",
    "#vars:\n",
    "fruits = ['apple', 'banana', 'cherry']\n",
    "prices = [1.20, 0.50, 2.00]\n",
    "\n",
    "#zip operator section 1\n",
    "mydict = dict(zip(fruits,prices)) # combine the two lists into a dictionary\n",
    "print(mydict)\n",
    "\n",
    "#enumerate operator section 2\n",
    "for i, fruit in enumerate(fruits, start=1):\n",
    "    print(f'{i}. {fruit}')\n",
    "\n",
    "#in operator section 3\n",
    "if 'banana' in mydict.keys():\n",
    "    print('banana is in the dictionary')\n",
    "else:\n",
    "    print('banana is not in the dictionary')"
   ]
  },
  {
   "cell_type": "markdown",
   "id": "f51e03ac",
   "metadata": {
    "vscode": {
     "languageId": "raw"
    }
   },
   "source": [
    "### Question 3 (Hard)\n",
    "Create a number guessing game that:\n",
    "1. Generates a random number between 1 and 100 using `randint()`\n",
    "2. Uses `input()` to ask the user to guess the number\n",
    "3. Uses a while loop to keep asking until they guess correctly\n",
    "4. For each guess, tell the user if their guess is too high, too low, or correct\n",
    "5. Use `enumerate()` to count and display the number of attempts\n",
    "6. After they win, create a list of random numbers (using your answer from Question 1's range) and shuffle it\n"
   ]
  },
  {
   "cell_type": "code",
   "execution_count": null,
   "id": "16840f20",
   "metadata": {},
   "outputs": [
    {
     "name": "stdout",
     "output_type": "stream",
     "text": [
      "guess is too low!\n",
      "guess is too low!\n",
      "guess is too low!\n",
      "guess is too low!\n",
      "guess is too high!\n",
      "guess is too high!\n",
      "guess is too high!\n",
      "guess is too high!\n",
      "guess is too high!\n",
      "guess is too high!\n",
      "guess is too high!\n",
      "guess is too high!\n",
      "you guessed it in 13 attempts\n",
      "[77, 16, 53, 87, 27, 6, 81, 31, 7, 83, 90, 45, 17, 82, 88, 5, 58, 37, 28, 29, 60, 72, 79, 33, 74, 51, 10, 44, 26, 3, 38, 80, 56, 96, 68, 13, 46, 30, 67, 71, 34, 57, 49, 91, 24, 20, 61, 4, 64, 48, 52, 15, 62, 76, 65, 95, 11, 23, 50, 59, 41, 69, 42, 63, 89, 18, 84, 86, 12, 35, 66, 97, 92, 25, 85, 47, 93, 21, 78, 100, 14, 36, 39, 98, 43, 40, 75, 1, 2, 9, 8, 94, 22, 99, 73, 70, 19, 54, 55, 32]\n"
     ]
    }
   ],
   "source": [
    "# answer to question 3\n",
    "# Import the random module first\n",
    "from random import randint, shuffle\n",
    "#vars:\n",
    "mynum = randint(1,100)\n",
    "count = []\n",
    "while True:\n",
    "    try:\n",
    "        guess = int (input('guess a number for 1 to 100. enter you guess: ')) # the user input is a string, so we need to convert it to an integer\n",
    "        count.append(guess)\n",
    "        if guess == mynum:\n",
    "            for i,k in enumerate(count, start=1):\n",
    "                pass\n",
    "            print(f'you guessed it in {i} attempts')\n",
    "            break\n",
    "        elif guess < mynum:\n",
    "            print(f'guess is too low!')\n",
    "        else:\n",
    "            print(f'guess is too high!')\n",
    "    except ValueError:\n",
    "        print('Please enter a valid number.')\n",
    "\n",
    "#shuffle\n",
    "suffleme = list(range(1,101))\n",
    "shuffle(suffleme)\n",
    "print(suffleme)\n",
    "\n",
    "\n",
    "\n",
    "\n",
    "\n",
    "\n",
    "\n"
   ]
  }
 ],
 "metadata": {
  "kernelspec": {
   "display_name": "Python 3",
   "language": "python",
   "name": "python3"
  },
  "language_info": {
   "codemirror_mode": {
    "name": "ipython",
    "version": 3
   },
   "file_extension": ".py",
   "mimetype": "text/x-python",
   "name": "python",
   "nbconvert_exporter": "python",
   "pygments_lexer": "ipython3",
   "version": "3.11.9"
  }
 },
 "nbformat": 4,
 "nbformat_minor": 5
}
