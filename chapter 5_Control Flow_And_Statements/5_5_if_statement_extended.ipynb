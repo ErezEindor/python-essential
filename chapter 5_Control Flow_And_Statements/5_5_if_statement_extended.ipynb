{
 "cells": [
  {
   "cell_type": "markdown",
   "metadata": {},
   "source": [
    "# Control Flow in Python - Understanding Decision Making\n",
    "\n",
    "## What is Control Flow?\n",
    "\n",
    "**Control Flow** is the order in which statements are executed in a program. It determines how your program makes decisions and which code blocks run under different conditions. Think of it as the \"brain\" of your program that decides what to do next based on the current situation.\n",
    "\n",
    "### Key Concepts:\n",
    "\n",
    "#### 1. **Sequential Flow**\n",
    "- Code executes from top to bottom, line by line\n",
    "- Each statement runs once, in order\n",
    "- The default behavior of any program\n",
    "\n",
    "#### 2. **Conditional Flow**\n",
    "- Programs make decisions based on conditions\n",
    "- Different code blocks execute based on whether conditions are True or False\n",
    "- Uses comparison and logical operators we learned earlier\n",
    "\n",
    "#### 3. **Types of Control Flow Structures**\n",
    "- **if statements**: Execute code only if a condition is True\n",
    "- **if-else statements**: Execute different code based on True/False conditions\n",
    "- **if-elif-else statements**: Handle multiple conditions with different outcomes\n",
    "- **Loops**: Repeat code blocks multiple times (while, for)\n",
    "- **Functions**: Organize and reuse code blocks\n",
    "\n",
    "### Why Control Flow Matters:\n",
    "- **Makes programs intelligent**: Programs can respond differently to different inputs\n",
    "- **Handles real-world scenarios**: Real applications need to make decisions\n",
    "- **Creates interactive experiences**: Users get different responses based on their actions\n",
    "- **Prevents errors**: Programs can check conditions before executing risky operations\n",
    "\n",
    "---\n",
    "\n",
    "## Notebook Summary: If Statements Extended\n",
    "\n",
    "This notebook covers **Python's if statements** and conditional logic, building on the comparison and logical operators you learned earlier.\n",
    "\n",
    "### What You'll Learn:\n",
    "\n",
    "#### 1. **Basic If Statements**\n",
    "- Simple conditional execution with `if`\n",
    "- Using boolean values directly (`if True:`)\n",
    "- Using comparison expressions (`if 3 > 2:`)\n",
    "- Code blocks and indentation\n",
    "\n",
    "#### 2. **If-Else Statements**\n",
    "- Providing alternative execution paths\n",
    "- Handling both True and False conditions\n",
    "- Using variables to control flow\n",
    "\n",
    "#### 3. **If-Elif-Else Statements**\n",
    "- Multiple condition checking with `elif`\n",
    "- Handling more than two possible outcomes\n",
    "- String comparison and matching\n",
    "- The importance of order in condition checking\n",
    "\n",
    "#### 4. **Key Concepts Covered**\n",
    "- **Indentation**: Python uses indentation to define code blocks\n",
    "- **Condition evaluation**: How Python evaluates True/False conditions\n",
    "- **String matching**: Comparing strings for equality\n",
    "- **Variable-based conditions**: Using variables to control program flow\n",
    "- **Multiple outcomes**: Handling complex decision trees\n",
    "\n",
    "#### 5. **Practical Applications**\n",
    "- User input validation\n",
    "- Menu systems and navigation\n",
    "- Data filtering and categorization\n",
    "- Error handling and edge cases\n",
    "- Game logic and scoring systems\n",
    "\n",
    "### Real-World Examples:\n",
    "- **Banking systems**: Different actions for different account types\n",
    "- **E-commerce**: Different shipping options based on location\n",
    "- **Games**: Different responses based on player actions\n",
    "- **Data processing**: Different handling for different data types\n",
    "\n",
    "---\n",
    "\n",
    "**Remember**: Control flow is what makes your programs \"smart\" and responsive to different situations!\n"
   ]
  },
  {
   "cell_type": "code",
   "execution_count": 15,
   "id": "004a974f",
   "metadata": {},
   "outputs": [
    {
     "name": "stdout",
     "output_type": "stream",
     "text": [
      "it True\n",
      "it True\n",
      "I am not hungry\n"
     ]
    }
   ],
   "source": [
    "# if statement example:\n",
    "if True:\n",
    "    print ('it True')\n",
    "\n",
    "# we can use if statement with a variable:\n",
    "if 3 > 2:\n",
    "    print ('it True')\n",
    "\n",
    "# anotehr example: with else statement\n",
    "hungry = False\n",
    "if hungry:\n",
    "    print ('Feed me')\n",
    "else:\n",
    "    print ('I am not hungry')"
   ]
  },
  {
   "cell_type": "code",
   "execution_count": 16,
   "id": "5f55d59c",
   "metadata": {},
   "outputs": [
    {
     "name": "stdout",
     "output_type": "stream",
     "text": [
      "Money is cool!\n"
     ]
    }
   ],
   "source": [
    "# multiple conditions:\n",
    "loc = 'Bank'\n",
    "\n",
    "if loc == 'Auto Shop':\n",
    "    print ('Cars are cool!')\n",
    "elif loc == 'Bank':\n",
    "    print ('Money is cool!')\n",
    "elif loc == 'Store':\n",
    "    print ('Welcome to the store!')  \n",
    "else:\n",
    "    print ('I do not know much')"
   ]
  },
  {
   "cell_type": "code",
   "execution_count": 17,
   "id": "63c445ca",
   "metadata": {},
   "outputs": [
    {
     "name": "stdout",
     "output_type": "stream",
     "text": [
      "Hello Sammy!\n"
     ]
    }
   ],
   "source": [
    "name = 'Sammy'\n",
    "if name == 'Frankie':\n",
    "    print ('Hello Frankie!')\n",
    "elif name == 'Sammy':\n",
    "    print ('Hello Sammy!')\n",
    "else:\n",
    "    print ('What is your name?')"
   ]
  },
  {
   "cell_type": "markdown",
   "id": "f45aca23",
   "metadata": {},
   "source": [
    "# Practice Questions - Control Flow and If Statements\n",
    "\n",
    "Test your understanding of Control Flow and if statements with these questions ranging from easy to hard.\n",
    "\n",
    "---\n"
   ]
  },
  {
   "cell_type": "markdown",
   "id": "49fccfd0",
   "metadata": {},
   "source": [
    "## Question 1 (Easy)\n",
    "\n",
    "**What will be the output of the following code?**\n",
    "\n",
    "```python\n",
    "age = 18\n",
    "if age >= 18:\n",
    "    print('You are an adult')\n",
    "else:\n",
    "    print('You are a minor')\n",
    "```\n",
    "\n",
    "**Options:**\n",
    "- A) You are an adult\n",
    "- B) You are a minor\n",
    "- C) Error\n",
    "- D) No output\n",
    "\n"
   ]
  },
  {
   "cell_type": "code",
   "execution_count": 18,
   "id": "44de1be5",
   "metadata": {},
   "outputs": [
    {
     "name": "stdout",
     "output_type": "stream",
     "text": [
      "You are an adult\n"
     ]
    }
   ],
   "source": [
    "# question 1: create the code:\n",
    "age = 18\n",
    "if age >= 18:\n",
    "    print ('You are an adult') # this will print if the condition is true\n",
    "else:\n",
    "    print ('You are not an adult')\n",
    "\n",
    "#the right answer is: A\n",
    "\n"
   ]
  },
  {
   "cell_type": "markdown",
   "id": "9dc37081",
   "metadata": {},
   "source": [
    "## Question 2 (Medium)\n",
    "\n",
    "**What will be the output of the following code?**\n",
    "\n",
    "```python\n",
    "score = 85\n",
    "if score >= 90:\n",
    "    grade = 'A'\n",
    "elif score >= 80:\n",
    "    grade = 'B'\n",
    "elif score >= 70:\n",
    "    grade = 'C'\n",
    "else:\n",
    "    grade = 'F'\n",
    "\n",
    "print(f'Your grade is: {grade}')\n",
    "```\n",
    "\n",
    "**Options:**\n",
    "- A) Your grade is: A\n",
    "- B) Your grade is: B\n",
    "- C) Your grade is: C\n",
    "- D) Your grade is: F\n"
   ]
  },
  {
   "cell_type": "code",
   "execution_count": 19,
   "id": "9b1538ab",
   "metadata": {},
   "outputs": [
    {
     "name": "stdout",
     "output_type": "stream",
     "text": [
      "Your grade is: B\n"
     ]
    }
   ],
   "source": [
    "# question 2: create the code:\n",
    "score = 85\n",
    "\n",
    "if score >= 90:\n",
    "    grade = 'A'\n",
    "elif score >= 80: # the score is 85, so it will print B\n",
    "    grade = 'B'\n",
    "elif score >= 70:\n",
    "    grade = 'C'\n",
    "else:\n",
    "    grade = 'F'\n",
    "print(f'Your grade is: {grade}') # the grade will be B \n",
    "\n",
    "#option B in the question\n"
   ]
  },
  {
   "cell_type": "markdown",
   "id": "9f2cd010",
   "metadata": {},
   "source": [
    "## Question 3 (Hard)\n",
    "\n",
    "**What will be the output of the following code?**\n",
    "\n",
    "```python\n",
    "username = 'admin'\n",
    "password = '12345'\n",
    "is_logged_in = True\n",
    "\n",
    "if username == 'admin' and password == '12345':\n",
    "    if is_logged_in:\n",
    "        print('Welcome back, admin!')\n",
    "    else:\n",
    "        print('Login successful!')\n",
    "elif username == 'admin':\n",
    "    print('Wrong password!')\n",
    "elif password == '12345':\n",
    "    print('Wrong username!')\n",
    "else:\n",
    "    print('Access denied!')\n",
    "```\n",
    "\n",
    "**Options:**\n",
    "- A) Welcome back, admin!\n",
    "- B) Login successful!\n",
    "- C) Wrong password!\n",
    "- D) Access denied!\n",
    "\n"
   ]
  },
  {
   "cell_type": "code",
   "execution_count": 20,
   "id": "f1a31cb5",
   "metadata": {},
   "outputs": [
    {
     "name": "stdout",
     "output_type": "stream",
     "text": [
      "welcome back, admin!\n"
     ]
    }
   ],
   "source": [
    "# question 3: create the code:\n",
    "username = 'admin'\n",
    "password = '12345'\n",
    "is_logged_in = True\n",
    "\n",
    "#if statement:\n",
    "if username == 'admin' and password == '12345':\n",
    "    if is_logged_in:\n",
    "        print ('welcome back, admin!') # this will print if the condition is true\n",
    "    else:\n",
    "        print('Login successful!')\n",
    "elif username == 'admin':\n",
    "    print('Wrong password!')\n",
    "elif password == '12345':\n",
    "    print ('wrong username!')\n",
    "else:\n",
    "    print('Acess denied!')\n",
    "\n",
    "#the right answer is: A\n"
   ]
  },
  {
   "cell_type": "markdown",
   "id": "b3fcebd7",
   "metadata": {},
   "source": [
    "## Bonus Challenge\n",
    "\n",
    "**Write a program that determines the shipping cost based on the following rules:**\n",
    "\n",
    "- If the order total is $50 or more: **FREE shipping**\n",
    "- If the order total is between $25 and $49.99: **$5 shipping**\n",
    "- If the order total is less than $25: **$10 shipping**\n",
    "- **Exception**: If the customer is a VIP member (regardless of order total): **FREE shipping**\n",
    "\n",
    "**Test your program with these scenarios:**\n",
    "- Order: $30, VIP: False → Should pay $5 shipping\n",
    "- Order: $60, VIP: False → Should pay $0 shipping\n",
    "- Order: $15, VIP: True → Should pay $0 shipping\n",
    "- Order: $40, VIP: False → Should pay $5 shipping\n",
    "\n",
    "*Hint: You'll need to use nested if statements and consider the VIP exception carefully.*"
   ]
  },
  {
   "cell_type": "code",
   "execution_count": 21,
   "id": "2a8784df",
   "metadata": {},
   "outputs": [
    {
     "name": "stdout",
     "output_type": "stream",
     "text": [
      "Order: $30, Customer: regular, Shipping: Shipping Cost $5\n",
      "Order: $60, Customer: regular, Shipping: Free Shipping\n",
      "Order: $15, Customer: VIP, Shipping: Free Shipping\n",
      "Order: $40, Customer: regular, Shipping: Shipping Cost $5\n"
     ]
    }
   ],
   "source": [
    "order = [30, 60, 15, 40]\n",
    "customer_type = ['regular', 'regular', 'VIP', 'regular']\n",
    "for order_amount, customer in zip(order, customer_type):\n",
    "    if customer == 'VIP':\n",
    "        shipping = 'Free Shipping'\n",
    "    else:\n",
    "        if order_amount >= 50:\n",
    "            shipping = 'Free Shipping'\n",
    "        elif 25 < order_amount <= 49.99:\n",
    "            shipping = 'Shipping Cost $5' \n",
    "        else:\n",
    "            shipping = 'Shipping Cost $10' \n",
    "    print(f\"Order: ${order_amount}, Customer: {customer}, Shipping: {shipping}\")"
   ]
  }
 ],
 "metadata": {
  "kernelspec": {
   "display_name": "Python 3",
   "language": "python",
   "name": "python3"
  },
  "language_info": {
   "codemirror_mode": {
    "name": "ipython",
    "version": 3
   },
   "file_extension": ".py",
   "mimetype": "text/x-python",
   "name": "python",
   "nbconvert_exporter": "python",
   "pygments_lexer": "ipython3",
   "version": "3.11.9"
  }
 },
 "nbformat": 4,
 "nbformat_minor": 5
}
