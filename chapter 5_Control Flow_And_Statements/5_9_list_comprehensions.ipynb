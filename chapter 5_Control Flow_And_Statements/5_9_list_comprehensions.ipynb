{
 "cells": [
  {
   "cell_type": "markdown",
   "id": "1d15e0ec",
   "metadata": {},
   "source": [
    "# List Comprehensions in Python\n",
    "\n",
    "\n",
    "**List comprehensions** are Python’s one-liner for building new lists from existing iterables—effectively flattening a `for`-loop + `append` pattern into a single expression.  \n",
    "They favor **concise, declarative code** over boiler-plate loops, but should be used with care to preserve readability.\n",
    "\n",
    "---\n",
    "\n",
    "## Core Syntax Patterns\n",
    "\n",
    "| Pattern | Template | Example | Result |\n",
    "|---------|----------|---------|--------|\n",
    "| **Basic** | `[expr for item in iterable]` | `[c for c in \"hello\"]` | `['h','e','l','l','o']` |\n",
    "| **Transform** | `[f(item) for item in iterable]` | `[n**2 for n in range(5)]` | `[0,1,4,9,16]` |\n",
    "| **Filter** | `[expr for item in iterable if cond]` | `[n for n in range(10) if n%2==0]` | `[0,2,4,6,8]` |\n",
    "| **Conditional Expr** | `[expr1 if cond else expr2 for item in iterable]` | `['even' if n%2==0 else 'odd' for n in range(5)]` | `['even','odd','even','odd','even']` |\n",
    "| **Nested Loops** | `[expr for x in A for y in B]` | `[x*y for x in [2,4] for y in [10,100]]` | `[20,200,40,400]` |\n",
    "\n",
    "> **Order matters**: in nested loops the **first `for` is outermost**, mirroring the nested-loop order in imperative code.\n",
    "\n",
    "---\n",
    "\n",
    "## Real-World Use Cases (Data-Engineering Focus)\n",
    "\n",
    "- **Column derivation**: `[row['price'] * 1.17 for row in records]` to add VAT.  \n",
    "- **String cleanup**: `[s.strip().lower() for s in raw_strings if s]`.  \n",
    "- **ID filtering**: `[id_ for id_ in ids if id_ not in blacklist]`.  \n",
    "- **Cartesian calculations**: `[f(a,b) for a in src_cols for b in tgt_cols]` during schema mapping.  \n",
    "- **Quick mock data**: `[randint(1,100) for _ in range(10)]` for unit tests.\n",
    "\n",
    "---\n",
    "\n",
    "## Common Pitfalls & Best Practices\n",
    "- **Readability first**: Avoid deeply nested or ternary-heavy comprehensions—use regular loops or helper functions instead.  \n",
    "- **Large outputs**: Comprehensions create the **entire list in memory**; switch to generator expressions `(expr for …)` for big data.  \n",
    "- **Side effects**: Keep them pure; writing `func(x)` with internal I/O defeats their declarative nature.  \n",
    "- **Name shadowing**: Loop variables are local, but don’t reuse names that matter outside the comprehension.\n",
    "\n",
    "---\n",
    "\n",
    "## Key Takeaways\n",
    "- Replace `for … append()` with `[expr for item in iterable]` to write clearer, idiomatic Python.  \n",
    "- Add `if` clauses for **filtering**, or inline `expr_if_true if cond else expr_if_false` for **conditional mapping**.  \n",
    "- Comprehensions can nest loops, but complexity grows fast—**favor clarity over cleverness**.  \n",
    "- For memory-efficient pipelines, reach for **generator expressions** or Pandas/Spark vectorization instead.\n",
    "\n",
    "---\n",
    "\n",
    "### Minimal Comparison\n",
    "\n",
    "```python\n",
    "# Verbose loop\n",
    "result = []\n",
    "for ch in \"abc\":\n",
    "    result.append(ch.upper())\n",
    "\n",
    "# Equivalent comprehension\n",
    "result = [ch.upper() for ch in \"abc\"]\n"
   ]
  },
  {
   "cell_type": "code",
   "execution_count": null,
   "id": "30ab3be6",
   "metadata": {},
   "outputs": [
    {
     "name": "stdout",
     "output_type": "stream",
     "text": [
      "['h', 'e', 'l', 'l', 'o']\n"
     ]
    }
   ],
   "source": [
    "# create a list of the letters in the string\n",
    "mystring = 'hello'\n",
    "mylist = []\n",
    "\n",
    "#without list comprehension\n",
    "for i in mystring:\n",
    "    mylist.append(i)\n",
    "\n",
    "print(mylist) # print the list"
   ]
  },
  {
   "cell_type": "code",
   "execution_count": 2,
   "id": "1201ead5",
   "metadata": {},
   "outputs": [
    {
     "name": "stdout",
     "output_type": "stream",
     "text": [
      "['H', 'e', 'l', 'l', 'o']\n"
     ]
    }
   ],
   "source": [
    "# list comprehension\n",
    "#same as the for loop but more concise and readable\n",
    "mystring = 'Hello' #using the same example as the for loop\n",
    "mylist = [i for i in mystring] #the syntax is [expression for item in list]\n",
    "print(mylist) # print the list\n"
   ]
  },
  {
   "cell_type": "code",
   "execution_count": null,
   "id": "0346374e",
   "metadata": {},
   "outputs": [
    {
     "name": "stdout",
     "output_type": "stream",
     "text": [
      "[0, 1, 2, 3, 4, 5, 6, 7, 8, 9, 10]\n",
      "\n",
      " ---------------------------------------- \n",
      "\n",
      "[0, 1, 4, 9, 16, 25, 36, 49, 64, 81, 100]\n",
      "\n",
      " ---------------------------------------- \n",
      "\n",
      "[0, 2, 4, 6, 8, 10]\n",
      "\n",
      " ---------------------------------------- \n",
      "\n",
      "[32.0, 50.0, 68.0, 94.1]\n"
     ]
    }
   ],
   "source": [
    "# list comprehension with rage\n",
    "mylist = [num for num in range (0,11)] # up to 11 but not including 11\n",
    "print(mylist)\n",
    "\n",
    "print ('\\n','-' *40, '\\n')\n",
    "# list comprehension with range \n",
    "mylist = [num**2 for num in range (0,11)] # square the numbers\n",
    "print(mylist)\n",
    "print ('\\n','-' * 40, '\\n')\n",
    "\n",
    "# list comprehension with range and a condition\n",
    "mylist = [num for num in range (0,11) if num % 2 == 0] # only even numbers\n",
    "print (mylist) \n",
    "print ('\\n','-' * 40, '\\n')\n",
    "\n",
    "# complax list comprehension\n",
    "celcius = [0,10,20,34.5]\n",
    "fahrenheit = [((9/5)*temp + 32) for temp in celcius] # convert to fahrenheit\n",
    "print(fahrenheit)\n"
   ]
  },
  {
   "cell_type": "code",
   "execution_count": null,
   "id": "221b2a52",
   "metadata": {},
   "outputs": [
    {
     "name": "stdout",
     "output_type": "stream",
     "text": [
      "[0, 'odd', 2, 'odd', 4, 'odd', 6, 'odd', 8, 'odd', 10]\n"
     ]
    }
   ],
   "source": [
    "# if else in list comprehension\n",
    "# if x is even, print x, otherwise print 'odd'\n",
    "result = [x if x % 2 == 0 else 'odd' for x in range (0,11)] # if x is even, print x, otherwise print 'odd'\n",
    "print(result)"
   ]
  },
  {
   "cell_type": "code",
   "execution_count": 21,
   "id": "7f202273",
   "metadata": {},
   "outputs": [
    {
     "name": "stdout",
     "output_type": "stream",
     "text": [
      "[2, 20, 200, 4, 40, 400, 6, 60, 600]\n",
      "\n",
      " ---------------------------------------- \n",
      "\n",
      "[2, 20, 200, 4, 40, 400, 6, 60, 600]\n"
     ]
    }
   ],
   "source": [
    "# nested loops in list comprehension\n",
    "\n",
    "#nested loop example \n",
    "mylist = []\n",
    "\n",
    "for x in [2,4,6]:\n",
    "    for y in [1,10,100]: # first iteration of x is 2, then 4, then 6\n",
    "        mylist.append(x*y) # first iteration of y is 1, then 10, then 100\n",
    "print(mylist)\n",
    "\n",
    "print ('\\n','-' * 40, '\\n')\n",
    "\n",
    "#nested loop in list comprehension\n",
    "\n",
    "mylist = [x*y for x in [2,4,6] for y in [1,10,100]] # same as the nested loop example\n",
    "print(mylist)"
   ]
  },
  {
   "cell_type": "markdown",
   "id": "6cb20206",
   "metadata": {
    "vscode": {
     "languageId": "raw"
    }
   },
   "source": [
    "## Practice Questions - Test Your Knowledge\n",
    "\n",
    "### Question 1 (Easy): Email Processing\n",
    "\n",
    "**Scenario**: You work for a company and received a list of employee emails. You need to extract just the usernames (part before @) from each email address.\n",
    "\n",
    "```python\n",
    "emails = [\"john.doe@company.com\", \"sarah.smith@company.com\", \"mike.jones@company.com\"]\n",
    "```\n",
    "\n",
    "**Your task**: Write a list comprehension to extract usernames from the email list.\n",
    "\n",
    "\n"
   ]
  },
  {
   "cell_type": "code",
   "execution_count": 25,
   "id": "c8b105a9",
   "metadata": {},
   "outputs": [
    {
     "name": "stdout",
     "output_type": "stream",
     "text": [
      "['john.doe', 'sarah.smith', 'mike.jones']\n"
     ]
    }
   ],
   "source": [
    "# question 1 answer:\n",
    "\n",
    "#create the variable:\n",
    "emails = [\n",
    "    \"john.doe@company.com\", \n",
    "    \"sarah.smith@company.com\", \n",
    "    \"mike.jones@company.com\"\n",
    "    ]\n",
    "\n",
    "result = [email.split('@')[0] for email in emails] # split by @ and take the first index\n",
    "print (result)"
   ]
  },
  {
   "cell_type": "markdown",
   "id": "d2c8f204",
   "metadata": {
    "vscode": {
     "languageId": "raw"
    }
   },
   "source": [
    "### Question 2 (Medium): Sales Data Analysis\n",
    "**Scenario**: You're analyzing sales data and need to calculate commission for each salesperson. Commission is 10% of sales, but only for sales above $1000. If sales are $1000 or below, commission is 0.\n",
    "\n",
    "```python\n",
    "sales_data = [\n",
    "    {\"name\": \"Alice\", \"sales\": 1500},\n",
    "    {\"name\": \"Bob\", \"sales\": 800},\n",
    "    {\"name\": \"Charlie\", \"sales\": 2200},\n",
    "    {\"name\": \"Diana\", \"sales\": 950}\n",
    "]\n",
    "```\n",
    "\n",
    "**Your task**: Write a list comprehension that calculates commission for each person using conditional expression.\n",
    "\n"
   ]
  },
  {
   "cell_type": "code",
   "execution_count": 51,
   "id": "23e31809",
   "metadata": {},
   "outputs": [
    {
     "name": "stdout",
     "output_type": "stream",
     "text": [
      "[150.0, 0, 220.0, 0]\n"
     ]
    }
   ],
   "source": [
    "# question 2 answer:\n",
    "#create the variable:\n",
    "sales_data =[\n",
    "    {'name': 'Alice', 'sales': 1500},\n",
    "    {'name': 'Bob', 'sales': 800},\n",
    "    {'name': 'Charlie', 'sales': 2200},\n",
    "    {'name': 'Diana', 'sales': 950}\n",
    "]\n",
    "\n",
    "result = [round(x['sales'] * 0.1, 2) if x ['sales'] > 1000 else 0 for x in sales_data]\n",
    "print(result)\n",
    "\n",
    "\n",
    "\n",
    "\n",
    "\n"
   ]
  },
  {
   "cell_type": "markdown",
   "id": "45150dc8",
   "metadata": {
    "vscode": {
     "languageId": "raw"
    }
   },
   "source": [
    "### Question 3 (Hard): Product Catalog Generation\n",
    "**Scenario**: You're building an e-commerce system and need to generate all possible product combinations. Each product has multiple sizes and colors. Create a list of dictionaries containing all combinations, but exclude any combination where both size is \"XS\" and color is \"White\" (out of stock).\n",
    "\n",
    "```python\n",
    "sizes = [\"XS\", \"S\", \"M\", \"L\"]\n",
    "colors = [\"Red\", \"Blue\", \"White\", \"Black\"]\n",
    "\n",
    "```\n",
    "\n",
    "**Your task**: Write a list comprehension with nested loops and filtering condition.\n",
    "\n"
   ]
  },
  {
   "cell_type": "code",
   "execution_count": null,
   "id": "70baa695",
   "metadata": {},
   "outputs": [
    {
     "name": "stdout",
     "output_type": "stream",
     "text": [
      "[{'size': 'XS', 'color': 'Red'}, {'size': 'XS', 'color': 'Blue'}, {'size': 'XS', 'color': 'Black'}, {'size': 'S', 'color': 'Red'}, {'size': 'S', 'color': 'Blue'}, {'size': 'S', 'color': 'White'}, {'size': 'S', 'color': 'Black'}, {'size': 'M', 'color': 'Red'}, {'size': 'M', 'color': 'Blue'}, {'size': 'M', 'color': 'White'}, {'size': 'M', 'color': 'Black'}, {'size': 'L', 'color': 'Red'}, {'size': 'L', 'color': 'Blue'}, {'size': 'L', 'color': 'White'}, {'size': 'L', 'color': 'Black'}]\n"
     ]
    },
    {
     "ename": "",
     "evalue": "",
     "output_type": "error",
     "traceback": [
      "\u001b[1;31mThe Kernel crashed while executing code in the current cell or a previous cell. \n",
      "\u001b[1;31mPlease review the code in the cell(s) to identify a possible cause of the failure. \n",
      "\u001b[1;31mClick <a href='https://aka.ms/vscodeJupyterKernelCrash'>here</a> for more info. \n",
      "\u001b[1;31mView Jupyter <a href='command:jupyter.viewOutput'>log</a> for further details."
     ]
    }
   ],
   "source": [
    "# question 3 answer:\n",
    "#create the variable:\n",
    "sizes = [\"XS\", \"S\", \"M\", \"L\"]\n",
    "colors = [\"Red\", \"Blue\", \"White\", \"Black\"]\n",
    "result = [\n",
    "    {'size': i, 'color': j} for i in sizes for j in colors \n",
    "    if not (i == 'XS' and j == 'White')\n",
    "]\n",
    "print(result)\n",
    "\n",
    "#[{'size': i, 'color': j} for i in sizes for j in colors if i != 'XS\n",
    "# ' and j != 'White']\n",
    "\n"
   ]
  }
 ],
 "metadata": {
  "kernelspec": {
   "display_name": "Python 3",
   "language": "python",
   "name": "python3"
  },
  "language_info": {
   "codemirror_mode": {
    "name": "ipython",
    "version": 3
   },
   "file_extension": ".py",
   "mimetype": "text/x-python",
   "name": "python",
   "nbconvert_exporter": "python",
   "pygments_lexer": "ipython3",
   "version": "3.11.9"
  }
 },
 "nbformat": 4,
 "nbformat_minor": 5
}
