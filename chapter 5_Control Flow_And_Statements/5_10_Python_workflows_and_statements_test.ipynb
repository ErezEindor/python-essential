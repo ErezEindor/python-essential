{
 "cells": [
  {
   "cell_type": "markdown",
   "id": "fac8f25c",
   "metadata": {},
   "source": [
    "## Python WorkFlows and Statements Assessments Test:\n",
    "\n",
    "\n",
    "\n",
    "1. **Use `for loop`, `.split()`, and `if` to create a Statement that will print out words that start with 's':**\n",
    "```python\n",
    "    st = 'Print only the words that start with s in this sentence'\n",
    "```\n",
    "2. **Use `range()` to print all the even numbers from 0 to 10.**\n",
    "\n",
    "3. **Use a List Comprehension to create a list of all numbers between 1 and 50 that are divisible by 3.**\n",
    "\n",
    "4. **Go through the string below and if the length of a word is even print \"even!\"**\n",
    "    ```python\n",
    "   st = 'Print every word in this sentence that has an even number of letters'\n",
    "    ```\n",
    "5. **Write a program that prints the integers from 1 to 100. But for multiples of three print \"Fizz\" instead of the number, and for the multiples of five print \"Buzz\". For numbers which are multiples of both three and five print \"FizzBuzz\".**\n",
    "\n",
    "6. **Use List Comprehension to create a list of the first letters of every word in the string below:**\n",
    "    ```python\n",
    "    st = 'Create a list of the first letters of every word in this string'\n",
    "    ```"
   ]
  },
  {
   "cell_type": "code",
   "execution_count": 2,
   "id": "29a0360e",
   "metadata": {},
   "outputs": [
    {
     "name": "stdout",
     "output_type": "stream",
     "text": [
      "start\n",
      "s\n",
      "sentence\n",
      "------------------------------------------------------------\n",
      "start\n",
      "s\n",
      "sentence\n"
     ]
    }
   ],
   "source": [
    "#answer 1\n",
    "#recreate the var\n",
    "st = 'Print only the words that start with s in this sentence'\n",
    "new_st = st.split() #split the string into a list of words\n",
    "#print(new_st) checl the split\n",
    "#for loop\n",
    "for i in new_st:\n",
    "    if i[0].lower() == 's':\n",
    "        print(i)\n",
    "\n",
    "print('--' * 30)\n",
    "#another way\n",
    "\n",
    "st = 'Print only the words that start with s in this sentence'\n",
    "\n",
    "for i in st.split():\n",
    "    if i[0].lower() == 's':\n",
    "        print(i)"
   ]
  },
  {
   "cell_type": "code",
   "execution_count": 11,
   "id": "6e8f6d80",
   "metadata": {},
   "outputs": [
    {
     "name": "stdout",
     "output_type": "stream",
     "text": [
      "[0, 2, 4, 6, 8, 10]\n",
      "------------------------------------------------------------\n",
      "0\n",
      "2\n",
      "4\n",
      "6\n",
      "8\n",
      "10\n"
     ]
    }
   ],
   "source": [
    "#answer 2\n",
    "#create a list that will contain all the even numbers from 0 to 10\n",
    "my_list = list(range(0,11,2))\n",
    "print(my_list)\n",
    "\n",
    "\n",
    "print('--' * 30)\n",
    "\n",
    "#another way: more complex\n",
    "\n",
    "for i in range (0,11):\n",
    "    if i % 2 == 0:\n",
    "        print(i)\n"
   ]
  },
  {
   "cell_type": "code",
   "execution_count": 12,
   "id": "a4b3071f",
   "metadata": {},
   "outputs": [
    {
     "name": "stdout",
     "output_type": "stream",
     "text": [
      "[3, 6, 9, 12, 15, 18, 21, 24, 27, 30, 33, 36, 39, 42, 45, 48]\n"
     ]
    }
   ],
   "source": [
    "#answer 3\n",
    "mylist = [i for i in range(1,51) if i % 3 == 0]\n",
    "print(mylist)\n"
   ]
  },
  {
   "cell_type": "code",
   "execution_count": 3,
   "id": "d95265b4",
   "metadata": {},
   "outputs": [
    {
     "name": "stdout",
     "output_type": "stream",
     "text": [
      "word is even!\n",
      "in is even!\n",
      "this is even!\n",
      "sentence is even!\n",
      "that is even!\n",
      "an is even!\n",
      "even is even!\n",
      "number is even!\n",
      "of is even!\n"
     ]
    }
   ],
   "source": [
    "#answer 4\n",
    "\n",
    "st = 'Print every word in this sentence that has an even number of letters'\n",
    "\n",
    "for i in st.split():\n",
    "    if len(i) % 2 == 0:\n",
    "        print (f'{i} is even!')\n",
    "\n",
    "\n",
    "\n",
    "\n",
    "\n",
    "\n",
    "\n",
    "\n",
    "        "
   ]
  },
  {
   "cell_type": "code",
   "execution_count": null,
   "id": "40a8fe73",
   "metadata": {},
   "outputs": [
    {
     "name": "stdout",
     "output_type": "stream",
     "text": [
      "1\n",
      "2\n",
      "fizz\n",
      "4\n",
      "buzz\n",
      "fizz\n",
      "7\n",
      "8\n",
      "fizz\n",
      "buzz\n",
      "11\n",
      "fizz\n",
      "13\n",
      "14\n",
      "fizzbuzz\n",
      "16\n",
      "17\n",
      "fizz\n",
      "19\n",
      "buzz\n",
      "fizz\n",
      "22\n",
      "23\n",
      "fizz\n",
      "buzz\n",
      "26\n",
      "fizz\n",
      "28\n",
      "29\n",
      "fizzbuzz\n",
      "31\n",
      "32\n",
      "fizz\n",
      "34\n",
      "buzz\n",
      "fizz\n",
      "37\n",
      "38\n",
      "fizz\n",
      "buzz\n",
      "41\n",
      "fizz\n",
      "43\n",
      "44\n",
      "fizzbuzz\n",
      "46\n",
      "47\n",
      "fizz\n",
      "49\n",
      "buzz\n",
      "fizz\n",
      "52\n",
      "53\n",
      "fizz\n",
      "buzz\n",
      "56\n",
      "fizz\n",
      "58\n",
      "59\n",
      "fizzbuzz\n",
      "61\n",
      "62\n",
      "fizz\n",
      "64\n",
      "buzz\n",
      "fizz\n",
      "67\n",
      "68\n",
      "fizz\n",
      "buzz\n",
      "71\n",
      "fizz\n",
      "73\n",
      "74\n",
      "fizzbuzz\n",
      "76\n",
      "77\n",
      "fizz\n",
      "79\n",
      "buzz\n",
      "fizz\n",
      "82\n",
      "83\n",
      "fizz\n",
      "buzz\n",
      "86\n",
      "fizz\n",
      "88\n",
      "89\n",
      "fizzbuzz\n",
      "91\n",
      "92\n",
      "fizz\n",
      "94\n",
      "buzz\n",
      "fizz\n",
      "97\n",
      "98\n",
      "fizz\n",
      "buzz\n"
     ]
    }
   ],
   "source": [
    " #answer 5: fizzbuzz\n",
    " for i in range(1,101):\n",
    "    if i % 3 == 0 and i % 5 == 0:\n",
    "        print ('fizzbuzz')\n",
    "    elif i % 3 == 0:\n",
    "        print ('fizz')\n",
    "    elif i % 5 == 0:\n",
    "        print ('buzz')\n",
    "    else:\n",
    "        print (i)"
   ]
  },
  {
   "cell_type": "code",
   "execution_count": 26,
   "id": "9eeea024",
   "metadata": {},
   "outputs": [
    {
     "name": "stdout",
     "output_type": "stream",
     "text": [
      "['C', 'a', 'l', 'o', 't', 'f', 'l', 'o', 'e', 'w', 'i', 't', 's']\n"
     ]
    }
   ],
   "source": [
    "#answer 6\n",
    "#create the var:\n",
    "st = 'Create a list of the first letters of every word in this string'\n",
    "\n",
    "#create the list:\n",
    "my_list = [i[0] for i in st.split()]\n",
    "\n",
    "#print the list:\n",
    "print(my_list)"
   ]
  }
 ],
 "metadata": {
  "kernelspec": {
   "display_name": "Python 3",
   "language": "python",
   "name": "python3"
  },
  "language_info": {
   "codemirror_mode": {
    "name": "ipython",
    "version": 3
   },
   "file_extension": ".py",
   "mimetype": "text/x-python",
   "name": "python",
   "nbconvert_exporter": "python",
   "pygments_lexer": "ipython3",
   "version": "3.11.9"
  }
 },
 "nbformat": 4,
 "nbformat_minor": 5
}
