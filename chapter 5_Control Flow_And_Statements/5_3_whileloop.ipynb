{
 "cells": [
  {
   "cell_type": "markdown",
   "metadata": {},
   "source": [
    "## Control Flow: While Loop\n",
    "\n",
    "`While` loops are a fundamental control structure in programming used to repeatedly execute a block of code as long as a specified condition remains true. \n",
    "\n",
    "This type of loop is especially useful when the number of iterations required isn't known before the loop begins, making it ideal \n",
    "\n",
    "for situations where the continuation condition is dependent on dynamic factors occurring during loop execution.\n",
    "\n",
    "- **How While Loops Work?**\n",
    "    - A `while loop` continually tests a condition at the start of each iteration.\n",
    "    - If the condition evaluates to **True**, the loop's code block is executed.\n",
    "    - After each iteration, the condition is re-evaluated.\n",
    "    - The loop will keep iterating until the condition becomes **False**.\n",
    "\n",
    "- **Here’s what makes it powerful:**\n",
    "    - **Condition Check:** Before each iteration, the loop checks the condition. If `True`, it proceeds, if `False`, it stops.\n",
    "    - **Iteration:** Each pass through the code block inside the loop is an iteration. During each iteration, variables or states can be modified which may influence the loop’s continuation condition.\n",
    "- **Key Concepts:**\n",
    "    - **Basic While Loop:** Executes a block of code repeatedly as long as a condition remains true.\n",
    "        - **Syntax**: `while` condtion:\n",
    "                        \n",
    "                        # execute this block of code\n",
    "                        \n",
    "                        # modify the condtion or use control statement\n",
    "                        \n",
    "    - **Condition Check:** The loop condition is evaluated before each iteration, and if the condition is `False`, the loop terminates.\n",
    "    - **Infinite Loops:** Occurs when the loop condition never becomes `False`. To avoid infinite loops, we'll ensure the condition is modified during iterations to eventually meet the termination criterion.\n",
    "    - **Control Statements:**\n",
    "        - **break:** Immediately exits the loop.\n",
    "        - **continue:** Skips the rest of the code inside the loop for the current iteration and moves to the next iteration.\n"
   ]
  },
  {
   "cell_type": "code",
   "execution_count": null,
   "metadata": {},
   "outputs": [],
   "source": [
    "from datetime import datetime"
   ]
  },
  {
   "cell_type": "code",
   "execution_count": null,
   "metadata": {},
   "outputs": [],
   "source": [
    "# basic while loop:\n",
    "limit = 5\n",
    "count = 0\n",
    "while count < limit:\n",
    "    print(f\"Count: {count}\")\n",
    "    count += 1  # Increment count to avoid infinite loop"
   ]
  },
  {
   "cell_type": "code",
   "execution_count": null,
   "metadata": {},
   "outputs": [],
   "source": [
    "wait_until = (datetime.now().second + 2) % 60\n",
    "\n",
    "while datetime.now() != wait_until:\n",
    "   pass\n",
    "print(f'we are at {wait_until}')\n"
   ]
  },
  {
   "cell_type": "code",
   "execution_count": null,
   "metadata": {},
   "outputs": [],
   "source": [
    "while True:\n",
    "    if datetime.now() == wait_until:\n",
    "        break"
   ]
  },
  {
   "cell_type": "markdown",
   "metadata": {},
   "source": [
    "### **Using pass**\n",
    "\n",
    "The **pass** statement is used as a placeholder for future code. When the `pass` statement is executed, nothing happens, but it avoids getting an error when empty code is not allowed. Here, we use it to handle a scenario where we might check conditions but have not yet implemented the action."
   ]
  },
  {
   "cell_type": "code",
   "execution_count": null,
   "metadata": {},
   "outputs": [],
   "source": [
    "# Initial conditions\n",
    "iterations = 0\n",
    "max_iterations = 5\n",
    "\n",
    "while iterations < max_iterations:\n",
    "    iterations += 1\n",
    "    # Suppose we're checking something here, but the action is not defined yet\n",
    "    if iterations == 3:\n",
    "        pass  # Normally, some condition would be handled here\n",
    "    \n",
    "    print(f\"Iteration {iterations}: Nothing special happens at iteration 3 due to 'pass'.\")\n"
   ]
  },
  {
   "cell_type": "markdown",
   "metadata": {},
   "source": [
    "### **Using break in a While Loop**\n",
    "\n",
    "The break statement is used to exit a loop prematurely when a certain condition is met. \n",
    "\n",
    "This example simulates a situation where a process should stop when a specific condition is reached."
   ]
  },
  {
   "cell_type": "code",
   "execution_count": 4,
   "metadata": {},
   "outputs": [
    {
     "name": "stdout",
     "output_type": "stream",
     "text": [
      "the count is 0\n",
      "Continuing processing...\n",
      "the count is 1\n",
      "Continuing processing...\n",
      "the count is 2\n",
      "Continuing processing...\n",
      "the count is 3\n",
      "Threshold reached, stopping loop.\n"
     ]
    }
   ],
   "source": [
    "# Initialize variables\n",
    "count = 0\n",
    "threshold = 3\n",
    "\n",
    "while True:\n",
    "    print(f'the count is {count}') \n",
    "    count += 1 # this will increse the count by 1 every iteration\n",
    "    if count > threshold:\n",
    "        print(\"Threshold reached, stopping loop.\")\n",
    "        break  # Exit loop if count exceeds the threshold\n",
    "    print(\"Continuing processing...\")\n"
   ]
  },
  {
   "cell_type": "markdown",
   "metadata": {},
   "source": [
    "### **Using continue in a While Loop**\n",
    "\n",
    "The **continue** statement skips the current iteration and proceeds to the next iteration of the loop. \n",
    "\n",
    "This is useful for skipping specific cases within a loop without stopping the entire loop.\n"
   ]
  },
  {
   "cell_type": "code",
   "execution_count": 5,
   "metadata": {},
   "outputs": [
    {
     "name": "stdout",
     "output_type": "stream",
     "text": [
      "Processing odd number: 1\n",
      "Processing odd number: 3\n",
      "Processing odd number: 5\n",
      "Processing odd number: 7\n",
      "Processing odd number: 9\n"
     ]
    }
   ],
   "source": [
    "# Variables for the loop\n",
    "start = 0\n",
    "end = 10\n",
    "\n",
    "while start < end:\n",
    "    start += 1\n",
    "    if start % 2 == 0:  # Check if the number is even\n",
    "        continue  # Skip the rest of the loop for even numbers\n",
    "    \n",
    "    print(f\"Processing odd number: {start}\")\n"
   ]
  },
  {
   "cell_type": "markdown",
   "metadata": {},
   "source": [
    "### Practical Data Engineering Use Case: ETL Process Monitoring and Control\n",
    "\n",
    "**Scenario:**\n",
    "- In many `ETL` or data pipeline scenarios, data engineers need to monitor and extract data from sources that update at unpredictable intervals. Using a `while loop` can help in setting up a polling mechanism to continuously check for new data and process it as soon as it becomes available.\n",
    "\n",
    "**Implementation:**\n",
    "- The following Python script simulates an ETL process where data is periodically checked, extracted, transformed, and loaded into a database or data warehouse.\n",
    "\n",
    "\n"
   ]
  },
  {
   "cell_type": "code",
   "execution_count": 6,
   "metadata": {},
   "outputs": [
    {
     "name": "stdout",
     "output_type": "stream",
     "text": [
      "Checking for new data...\n",
      "New data found! Starting ETL process...\n",
      "Data loaded into the database: 730\n",
      "Checking for new data...\n",
      "No new data found. Checking again in 10 seconds...\n",
      "Checking for new data...\n",
      "New data found! Starting ETL process...\n",
      "Data loaded into the database: 720\n",
      "Checking for new data...\n",
      "New data found! Starting ETL process...\n",
      "Data loaded into the database: 170\n",
      "Checking for new data...\n",
      "New data found! Starting ETL process...\n",
      "Data loaded into the database: 600\n",
      "Maximum number of iterations reached, stopping the ETL process.\n"
     ]
    }
   ],
   "source": [
    "import time\n",
    "import random\n",
    "\n",
    "def check_new_data():\n",
    "    \"\"\"Simulate checking for new data. Returns Boolean.\"\"\"\n",
    "    return random.choice([True, False])\n",
    "\n",
    "def extract_data():\n",
    "    \"\"\"Simulate the extraction of data.\"\"\"\n",
    "    return {'data': random.randint(1, 100)}\n",
    "\n",
    "def transform_data(data):\n",
    "    \"\"\"Simulate data transformation.\"\"\"\n",
    "    transformed_data = data['data'] * 10\n",
    "    return {'transformed_data': transformed_data}\n",
    "\n",
    "def load_data(transformed_data):\n",
    "    \"\"\"Simulate loading data into a database.\"\"\"\n",
    "    print(f\"Data loaded into the database: {transformed_data}\")\n",
    "\n",
    "max_iterations = 5\n",
    "current_iteration = 0\n",
    "# Main ETL loop\n",
    "while True:\n",
    "    if current_iteration >= max_iterations:\n",
    "        print(\"Maximum number of iterations reached, stopping the ETL process.\")\n",
    "        break  # Breaks the loop when the maximum iteration limit is reached\n",
    "\n",
    "    print(\"Checking for new data...\")\n",
    "    if check_new_data():\n",
    "        print(\"New data found! Starting ETL process...\")\n",
    "        data = extract_data()\n",
    "        transformed_data = transform_data(data)\n",
    "        load_data(transformed_data['transformed_data'])\n",
    "    else:\n",
    "        print(\"No new data found. Checking again in 10 seconds...\")\n",
    "    \n",
    "    current_iteration += 1  # Increment the iteration count\n",
    "    time.sleep(2)  # Sleep for 2 seconds before checking again\n"
   ]
  }
 ],
 "metadata": {
  "kernelspec": {
   "display_name": "Python 3",
   "language": "python",
   "name": "python3"
  },
  "language_info": {
   "codemirror_mode": {
    "name": "ipython",
    "version": 3
   },
   "file_extension": ".py",
   "mimetype": "text/x-python",
   "name": "python",
   "nbconvert_exporter": "python",
   "pygments_lexer": "ipython3",
   "version": "3.11.9"
  }
 },
 "nbformat": 4,
 "nbformat_minor": 2
}
