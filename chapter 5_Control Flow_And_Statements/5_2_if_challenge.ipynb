{
 "cells": [
  {
   "cell_type": "markdown",
   "metadata": {},
   "source": [
    "## Control Flow: if Statement Challenge\n",
    "\n",
    "1. Even or Odd:\n",
    "    - Write a program that asks the user to enter a number and prints whether the number is even or odd.\n",
    "2. Temperature Adviser:\n",
    "    - Create a program that asks for the current temperature and gives advice on whether to wear a jacket, a t-shirt, or a sweater.\n",
    "3. Grade Calculator:\n",
    "    - Write a program that asks for a student's mark (0-100) and prints their grade (A, B, C, D, F) based on the score.\n",
    "4. Age Group Classifier:\n",
    "    - Develop a program that categorizes a person's age into stages like 'Child', 'Teen', 'Adult', and 'Senior' based on input age.\n",
    "5. Leap Year Checker:\n",
    "    - Write a function that determines whether a given year is a leap year. A leap year is divisible by 4, but not every year divisible by 100 is a leap year, unless it is also divisible by 400.\n",
    "6. Simple Calculator:\n",
    "    - Create a simple calculator that takes two numbers and an operation (add, subtract, multiply, divide) from the user and prints the result. Handle division by zero with a specific error message."
   ]
  },
  {
   "cell_type": "markdown",
   "metadata": {},
   "source": [
    "### 1. even or ood"
   ]
  },
  {
   "cell_type": "code",
   "execution_count": 3,
   "metadata": {},
   "outputs": [
    {
     "name": "stdout",
     "output_type": "stream",
     "text": [
      "your choosen number 10 is even\n",
      "None\n"
     ]
    }
   ],
   "source": [
    "# 1 even or ood\n",
    "'''\n",
    "user input a number 3\n",
    "then i should know if its even or odd\n",
    "'''\n",
    "def even_or_odd(num):\n",
    "    if num % 2 == 0:\n",
    "        print(f'your choosen number {num} is even')\n",
    "    else:\n",
    "        print (f'your choosen number {num} is odd')\n",
    "\n",
    "number = 10\n",
    "\n",
    "print (even_or_odd(number))\n",
    "\n",
    "\n"
   ]
  },
  {
   "cell_type": "markdown",
   "metadata": {},
   "source": [
    "### 2. Temperature Adviser:"
   ]
  },
  {
   "cell_type": "code",
   "execution_count": 13,
   "metadata": {},
   "outputs": [
    {
     "name": "stdout",
     "output_type": "stream",
     "text": [
      "wear t-shirt\n"
     ]
    }
   ],
   "source": [
    "#Temperature Adviser:\n",
    "'''\n",
    "if the temp is below - 15 Celsius c  but more than 7 than wear jacket\n",
    "if the temp is more than 15 wear t-shirt\n",
    "if the temp is below 7 wear sweater \n",
    "'''\n",
    "temp = 16\n",
    "def temp_adviser(temp):\n",
    "    if temp > 15:\n",
    "        return 'wear t-shirt'\n",
    "    elif temp >= 7:\n",
    "        return 'wear a jacket'\n",
    "    else:\n",
    "        return 'wear sweater'\n",
    "print(temp_adviser(temp))"
   ]
  },
  {
   "cell_type": "markdown",
   "metadata": {},
   "source": [
    "### 3. Grade Calculator"
   ]
  },
  {
   "cell_type": "code",
   "execution_count": 7,
   "metadata": {},
   "outputs": [
    {
     "name": "stdout",
     "output_type": "stream",
     "text": [
      "Hi, your grade is 100 and it's equal to A.\n",
      "Hi, your grade is 90 and it's equal to A.\n",
      "Hi, your grade is 80 and it's equal to B.\n",
      "Hi, your grade is 79 and it's equal to C.\n",
      "Hi, your grade is 60 and it's equal to D.\n",
      "Hi, your grade is 59 and it's equal to F.\n"
     ]
    }
   ],
   "source": [
    "# Grade Calculator: solution no. 1 without nested dict. \n",
    "'''\n",
    "A: 90 to 100\n",
    "Represents excellent performance.\n",
    "B: 80 to 89\n",
    "Indicates good performance.\n",
    "C: 70 to 79\n",
    "Reflects satisfactory performance.\n",
    "D: 60 to 69\n",
    "Denotes marginally acceptable performance.\n",
    "F: Below 60\n",
    "Failing, does not meet the minimum standards.\n",
    "'''\n",
    "def grade_calculator(grades):\n",
    "    results = []  # Initialize the results list to collect output strings\n",
    "    for i in grades:\n",
    "        if i >= 90:\n",
    "            result = f'Hi, your grade is {i} and it\\'s equal to A.'\n",
    "        elif i >= 80:\n",
    "            result = f'Hi, your grade is {i} and it\\'s equal to B.'\n",
    "        elif i >= 70:\n",
    "            result = f'Hi, your grade is {i} and it\\'s equal to C.'\n",
    "        elif i >= 60:\n",
    "            result = f'Hi, your grade is {i} and it\\'s equal to D.'\n",
    "        else:\n",
    "            result = f'Hi, your grade is {i} and it\\'s equal to F.'\n",
    "        results.append(result)  # Correctly use append to add each result to the results list\n",
    "    return results\n",
    "\n",
    "# List of student grades\n",
    "student_list = [100, 90, 80, 79, 60, 59]\n",
    "\n",
    "# Calculate and print results\n",
    "results = grade_calculator(student_list)\n",
    "for r in results:\n",
    "    print(r)\n"
   ]
  },
  {
   "cell_type": "code",
   "execution_count": 11,
   "metadata": {},
   "outputs": [
    {
     "name": "stdout",
     "output_type": "stream",
     "text": [
      "hi Anat your grade is 100 and its equal to A\n",
      "hi Erez your grade is 90 and its equal to A\n",
      "hi Yoav your grade is 80 and its equal to B\n",
      "hi Moshik your grade is 79 and its equal to C\n",
      "hi Niran your grade is 60 and its equal to D\n",
      "hi Arnon your grade is 59 and its equal to F\n"
     ]
    }
   ],
   "source": [
    "#solution 2 with nested dict \n",
    "studentlist= [\n",
    "    {'Name':'Anat','Grade': 100}, {'Name':'Erez','Grade': 90}, {'Name':'Yoav','Grade': 80},\n",
    "    {'Name':'Moshik','Grade':79},{'Name':'Niran','Grade':60},{'Name':'Arnon','Grade':59}]\n",
    "\n",
    "def Grade_Calculator(grd):\n",
    "    results= []\n",
    "    for i in grd:\n",
    "        grade = i['Grade']\n",
    "        name= i['Name'] \n",
    "        if grade >= 90:\n",
    "            result = f'hi {name} your grade is {grade} and its equal to A'\n",
    "        elif grade >= 80:\n",
    "            result = f'hi {name} your grade is {grade} and its equal to B'\n",
    "        elif grade >= 70:\n",
    "            result = f'hi {name} your grade is {grade} and its equal to C'\n",
    "        elif grade >= 60:\n",
    "            result = f'hi {name} your grade is {grade} and its equal to D'\n",
    "        else:\n",
    "            result = f'hi {name} your grade is {grade} and its equal to F'\n",
    "        results.append(result)\n",
    "    return results\n",
    "\n",
    "results= Grade_Calculator(studentlist)\n",
    "for r in results:\n",
    "    print(r)\n"
   ]
  },
  {
   "cell_type": "markdown",
   "metadata": {},
   "source": [
    "### 4. Age Group Classifier:"
   ]
  },
  {
   "cell_type": "code",
   "execution_count": 17,
   "metadata": {},
   "outputs": [
    {
     "name": "stdout",
     "output_type": "stream",
     "text": [
      "Your age is 1, and it's classified as Child.\n",
      "Your age is 3, and it's classified as Child.\n",
      "Your age is 10, and it's classified as Child.\n",
      "Your age is 15, and it's classified as Teen.\n",
      "Your age is 18, and it's classified as Teen.\n",
      "Your age is 20, and it's classified as Adult.\n",
      "Your age is 30, and it's classified as Adult.\n",
      "Your age is 45, and it's classified as Adult.\n",
      "Your age is 65, and it's classified as Adult.\n",
      "Your age is 66, and it's classified as Senior.\n",
      "Your age is 79, and it's classified as Senior.\n",
      "Your age is 120, and it's classified as Senior.\n",
      "Your age is 150, which is not a valid input.\n",
      "Your age is -1, which is not a valid input.\n"
     ]
    }
   ],
   "source": [
    "# Age Group Classifier: without a nested dict\n",
    "'''\n",
    "    child - 0 to 10\n",
    "    Teen - 11 to 18\n",
    "    Adult 19 to 65\n",
    "    senior above 65\n",
    "'''\n",
    "#creating an age list\n",
    "agelist= [\n",
    "    1,3,10,15,\n",
    "    18,20,30,\n",
    "    45,65,66,\n",
    "    79,120,150,-1\n",
    "    ]\n",
    "\n",
    "#creating an age fucntion\n",
    "def age_classifier(ages):\n",
    "    results = []  # To store the classification results\n",
    "    for age in ages:\n",
    "        if age < 0 or age > 120:  # Check for invalid age first\n",
    "            result = f\"Your age is {age}, which is not a valid input.\"\n",
    "        elif age <= 10:\n",
    "            result = f\"Your age is {age}, and it's classified as Child.\"\n",
    "        elif age <= 18:\n",
    "            result = f\"Your age is {age}, and it's classified as Teen.\"\n",
    "        elif age <= 65:\n",
    "            result = f\"Your age is {age}, and it's classified as Adult.\"\n",
    "        else:  \n",
    "            result = f\"Your age is {age}, and it's classified as Senior.\"\n",
    "        results.append(result)\n",
    "    return results\n",
    "\n",
    "#check results\n",
    "results = age_classifier(agelist)\n",
    "for r in results:\n",
    "    print (r)\n"
   ]
  },
  {
   "cell_type": "code",
   "execution_count": 22,
   "metadata": {},
   "outputs": [
    {
     "name": "stdout",
     "output_type": "stream",
     "text": [
      "your name is Anat and your age is 36 and it's classified as Adult\n",
      "your name is Erez and your age is 41 and it's classified as Adult\n",
      "your name is Rina and your age is 73 and it's classified as Senior\n",
      "your name is Joe and your age is 41 and it's classified as Adult\n",
      "your name is Miki and your age is 70 and it's classified as Senior\n",
      "your name is Yuval and your age is 9 and it's classified as Child\n",
      "your name is Maya and your age is 18 and it's classified as Teen\n",
      "your name is Methuselah and your age is 969 but your input not an valid\n"
     ]
    }
   ],
   "source": [
    "# Age Group Classifier: with a nested dict\n",
    "'''\n",
    "    child - 0 to 10\n",
    "    Teen - 11 to 18\n",
    "    Adult 19 to 65\n",
    "    senior above 65\n",
    "'''\n",
    "#creating an age list\n",
    "agelist= [\n",
    "    {'Name': 'Anat','Age': 36}, {'Name': 'Erez' ,'Age' : 41}, {'Name': 'Rina', 'Age' : 73},\n",
    "    {'Name' : 'Joe', 'Age' : 41}, {'Name' : 'Miki', 'Age' : 70}, {'Name': 'Yuval', 'Age': 9},\n",
    "    {'Name' : 'Maya', 'Age' : 18}, {'Name' : 'Methuselah', 'Age' : 969}\n",
    "    ]\n",
    "\n",
    "#creating an age fucntion\n",
    "def age_classifier(agelist):\n",
    "    results = [] #here i'll store my results\n",
    "    for i in agelist:\n",
    "        age = i['Age']\n",
    "        name = i['Name']\n",
    "        if age < 0 or age > 120: # check for rage\n",
    "             result = f\"your name is {name} and your age is {age} but your input not an valid\"\n",
    "        elif age <= 10:\n",
    "            result = f\"your name is {name} and your age is {age} and it's classified as Child\"\n",
    "        elif age <= 18:\n",
    "            result = f\"your name is {name} and your age is {age} and it's classified as Teen\"\n",
    "        elif age <= 65:\n",
    "            result = f\"your name is {name} and your age is {age} and it's classified as Adult\"\n",
    "        else:\n",
    "            result = f\"your name is {name} and your age is {age} and it's classified as Senior\"\n",
    "        results.append(result)\n",
    "    return results\n",
    "\n",
    "results = age_classifier(agelist)\n",
    "for r in results:\n",
    "    print (r)\n"
   ]
  },
  {
   "cell_type": "markdown",
   "metadata": {},
   "source": [
    "### 5. Leap Year Checker: "
   ]
  },
  {
   "cell_type": "code",
   "execution_count": 34,
   "metadata": {},
   "outputs": [
    {
     "name": "stdout",
     "output_type": "stream",
     "text": [
      "this year 1900 is not a leap year\n",
      "this year 1904 is a leap year\n",
      "this year 1908 is a leap year\n",
      "this year 1912 is a leap year\n",
      "this year 1916 is a leap year\n",
      "this year 1920 is a leap year\n",
      "this year 1924 is a leap year\n",
      "this year 1928 is a leap year\n",
      "this year 1932 is a leap year\n",
      "this year 1936 is a leap year\n",
      "this year 1988 is a leap year\n",
      "this year 1992 is a leap year\n",
      "this year 1996 is a leap year\n",
      "this year 2000 is a leap year\n",
      "this year 2004 is a leap year\n",
      "this year 2008 is a leap year\n",
      "this year 2012 is a leap year\n",
      "this year 2016 is a leap year\n",
      "this year 1983 is not a leap year\n",
      "this year 1985 is not a leap year\n",
      "this year 1950 is not a leap year\n",
      "this year 1954 is not a leap year\n",
      "this year 2052 is a leap year\n",
      "this year 1948 is a leap year\n"
     ]
    }
   ],
   "source": [
    "# Leap Year Checker:\n",
    "'''\n",
    "    a list of leap years: \n",
    "    1900, 1904, 1908,\t\n",
    "    1912, 1916, 1920,\t\n",
    "    1924, 1928, 1932,\n",
    "    1936, 1988,\t1992,\t\n",
    "    1996, 2000, 2004,\t\n",
    "    2008, 2012, 2016,\n",
    "'''\n",
    "\n",
    "#create a leap year function:\n",
    "def leap_year(year):\n",
    "    results = [] #for saving the results\n",
    "    for i in year:\n",
    "        if i < 0: #check vaild input\n",
    "            result = f'invalid input'\n",
    "        else:\n",
    "            if i % 4 == 0:\n",
    "                if i % 100 ==0:\n",
    "                    if i % 400 == 0: \n",
    "                        result = f'this year {i} is a leap year'\n",
    "                    else:\n",
    "                        result = f'this year {i} is not a leap year'\n",
    "                else:\n",
    "                        result = f'this year {i} is a leap year'\n",
    "            else:\n",
    "                result = f'this year {i} is not a leap year'\n",
    "        results.append(result)\n",
    "    return results\n",
    "\n",
    "#data for testing\n",
    "yearlist = [\n",
    "    1900, 1904, 1908,\t\n",
    "    1912, 1916, 1920,\t\n",
    "    1924, 1928, 1932,\n",
    "    1936, 1988,\t1992,\t\n",
    "    1996, 2000, 2004,\t\n",
    "    2008, 2012, 2016,\n",
    "    1983, 1985, 1950,\n",
    "    1954, 2052, 1948,\n",
    "]\n",
    "results = leap_year(yearlist)\n",
    "for r in results:\n",
    "    print(r)\n"
   ]
  }
 ],
 "metadata": {
  "kernelspec": {
   "display_name": "Python 3",
   "language": "python",
   "name": "python3"
  },
  "language_info": {
   "codemirror_mode": {
    "name": "ipython",
    "version": 3
   },
   "file_extension": ".py",
   "mimetype": "text/x-python",
   "name": "python",
   "nbconvert_exporter": "python",
   "pygments_lexer": "ipython3",
   "version": "3.12.4"
  }
 },
 "nbformat": 4,
 "nbformat_minor": 2
}
