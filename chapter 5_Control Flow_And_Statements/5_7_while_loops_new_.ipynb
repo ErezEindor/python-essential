{
 "cells": [
  {
   "cell_type": "markdown",
   "id": "a728a944",
   "metadata": {},
   "source": [
    "# While Loops in Python\n",
    "\n",
    "A **`while` loop** repeatedly executes a block of code **as long as a Boolean condition remains `True`**.  \n",
    "It is ideal for situations where the number of iterations is **unknown in advance** (e.g., waiting for an event, polling a resource, or retrying until success).  \n",
    "In Data-Engineering tasks, `while` loops power **streaming ingestions, back-off retries, and monitoring scripts**, complementing the more common vectorized and batch operations you perform with Pandas or SQL.\n",
    "\n",
    "---\n",
    "\n",
    "## Key Concepts\n",
    "- **Syntax**  \n",
    "  ```python\n",
    "  while <condition>:\n",
    "      # indented block executes while condition is True\n",
    "  else:\n",
    "      # optional: runs once if loop finishes naturally\n"
   ]
  },
  {
   "cell_type": "markdown",
   "id": "ab8b0e8b",
   "metadata": {},
   "source": [
    "## Loop Control \n",
    "\n",
    "| Keyword    | Purpose                                                      | \n",
    "| :------    | :-------------------------:                                  | \n",
    "| `Break`    | Exit the nearest loop immediately                            |\n",
    "| `continue` | Skip the rest of the block and **restart** the nearest loop  |\n",
    "| `pass`  | Placeholder that does nothing (avoids `SyntaxError` while scaffolding code)|\n",
    "\n"
   ]
  },
  {
   "cell_type": "markdown",
   "id": "2ef6edd1",
   "metadata": {},
   "source": [
    "## Real-World Use Cases (Data-Engineering Focus)\n",
    "\n",
    "| Scenario      | Purpose                                                      | \n",
    "| :------       | :-------------------------:                                  | \n",
    "| Polling an API until data is available  |\t Keep calling the endpoint every n seconds until it returns status 200     |\n",
    "| Exponential back-off retries  | Retry a failed database load, doubling sleep time each attempt until max tries|\n",
    "| Streaming ingestion loop\t | Continuously read from a message queue (e.g., Kafka) until a stop flag is set|\n",
    "|Dynamic pagination\t| Continue fetching pages while the API response includes a `next_page` token|\n"
   ]
  },
  {
   "cell_type": "markdown",
   "id": "4ca6e3f8",
   "metadata": {},
   "source": [
    "## Common Pitfalls & Best Practices\n",
    "- **Infinite loops**: Always mutate loop variables or add a clear exit strategy; otherwise you’ll need to interrupt/restart the kernel.\n",
    "- **Expensive inside-loop work**: Heavy I/O inside a while loop can block other tasks—consider async calls or background workers.\n",
    "- **Prefer vectorization when possible**: Use Pandas/Spark for large-scale data transforms; reserve while for event-driven or control-flow logic.\n",
    "\n",
    "\n",
    "\n",
    "\n",
    "\n"
   ]
  },
  {
   "cell_type": "code",
   "execution_count": null,
   "id": "bc575366",
   "metadata": {},
   "outputs": [],
   "source": [
    "# While Loops - simple example\n",
    "x = 0 \n",
    "# while loop condition:\n",
    "while x < 5:\n",
    "    print (f'the current value of x is {x}')\n",
    "    x += 1 # x = x + 1\n",
    "\n",
    "\n",
    "print('-'*30)\n",
    "# while loop with else clause\n",
    "x = 5 \n",
    "while x < 10:\n",
    "    print (f'the current value of x is {x}')\n",
    "    x += 1 # x = x + 1\n",
    "else:\n",
    "    print (f'{x} is not less than 10')\n",
    "\n",
    "\n",
    "\n",
    "\n"
   ]
  },
  {
   "cell_type": "code",
   "execution_count": null,
   "id": "a5fac3ac",
   "metadata": {},
   "outputs": [],
   "source": [
    "# an example of a pass clause\n",
    "x = [1,2,3,4,5]\n",
    "\n",
    "for i in x:\n",
    "    pass  # do nothing we'll use it as a placeholder"
   ]
  },
  {
   "cell_type": "code",
   "execution_count": null,
   "id": "e0cf40e0",
   "metadata": {},
   "outputs": [],
   "source": [
    "# an example of a continue clause\n",
    "\n",
    "x = 'Anati'\n",
    "\n",
    "for i in x:\n",
    "   #print (i)\n",
    "    if i == 'a':\n",
    "        continue # skip the rest of the block and restart the loop, 'a' is not printed\n",
    "    print (i)\n",
    "\n",
    "\n",
    "\n",
    "\n",
    "\n",
    "\n",
    "\n"
   ]
  },
  {
   "cell_type": "code",
   "execution_count": null,
   "id": "5cb03c0a",
   "metadata": {},
   "outputs": [],
   "source": [
    "# an example of a break clause\n",
    "x = 0\n",
    "while x < 5:\n",
    "    if x ==3: # condition to break the loop\n",
    "        break # exit the loop when x is 3\n",
    "    print (f'the current value of x is {x}')\n",
    "    x += 1 # increment x by 1\n"
   ]
  },
  {
   "cell_type": "markdown",
   "id": "84d723c9",
   "metadata": {
    "vscode": {
     "languageId": "raw"
    }
   },
   "source": [
    "## Practice Questions - While Loops\n",
    "\n",
    "### Question 1 (Easy)\n",
    "**Write a `while` loop that prints the numbers from 1 to 10. Ensure that the loop stops once the number 10 is printed.**\n",
    "\n",
    "*Hint: Start with a counter variable and increment it in each iteration.*\n"
   ]
  },
  {
   "cell_type": "code",
   "execution_count": null,
   "id": "0527c945",
   "metadata": {},
   "outputs": [],
   "source": [
    "# answer to question 1\n",
    "# create a counter variable and increment it in each iteration\n",
    "x = 1\n",
    "\n",
    "# while loop condition:\n",
    "while x <= 10:\n",
    "    print(f'the current value of x is {x}')\n",
    "    x += 1 # increment x by 1\n",
    "\n",
    "\n"
   ]
  },
  {
   "cell_type": "markdown",
   "id": "6ea75e98",
   "metadata": {
    "vscode": {
     "languageId": "raw"
    }
   },
   "source": [
    "### Question 2 (Medium)\n",
    "**Create a `while` loop that simulates a countdown timer. Start from 10 and count down to 1, printing each number. **\n",
    "**When the countdown reaches 0, print \"Liftoff!\".**\n",
    "\n"
   ]
  },
  {
   "cell_type": "code",
   "execution_count": 8,
   "id": "2c1f5ec4",
   "metadata": {},
   "outputs": [
    {
     "name": "stdout",
     "output_type": "stream",
     "text": [
      "10\n",
      "9\n",
      "8\n",
      "7\n",
      "6\n",
      "5\n",
      "4\n",
      "3\n",
      "2\n",
      "1\n",
      "Liftoff!\n"
     ]
    }
   ],
   "source": [
    "# answer to question 2\n",
    "# create a counter variable and decrement it in each iteration\n",
    "x = 10\n",
    "while x > 0:\n",
    "    print(x)\n",
    "    x -= 1\n",
    "else:\n",
    "    print('Liftoff!')\n"
   ]
  },
  {
   "cell_type": "markdown",
   "id": "f73c3160",
   "metadata": {
    "vscode": {
     "languageId": "raw"
    }
   },
   "source": [
    "### Question 3 (Hard)\n",
    "**Implement a `while` loop that continuously asks the user to input a number.**\n",
    "\n",
    "**If the user enters a number greater than 100, the loop should terminate.** \n",
    "\n",
    "**If the user enters a number less than or equal to 100, the loop should print \"Try again\" and ask for another input.** \n",
    "\n",
    "**Use the `break` statement to exit the loop when the condition is met.**\n",
    "\n",
    "*Hint: Use `input()` to get user input, convert it to int, and use an infinite loop with a break condition. Remember to handle the case where user input might not be a valid number.*\n"
   ]
  },
  {
   "cell_type": "code",
   "execution_count": 9,
   "id": "68546e9b",
   "metadata": {},
   "outputs": [
    {
     "name": "stdout",
     "output_type": "stream",
     "text": [
      "Invalid input, please enter a number\n",
      "Try again\n",
      "Try again\n",
      "Try again\n"
     ]
    }
   ],
   "source": [
    "# answer to question 3\n",
    "\n",
    "# loop condition:\n",
    "while True:\n",
    "    try: # handle the case where the user input is not a number\n",
    "        num = int(input('Enter a number: '))\n",
    "        if num > 100:\n",
    "            break # exit the loop if the number is greater than 100\n",
    "        else:\n",
    "            print('Try again')\n",
    "    except ValueError:\n",
    "        print('Invalid input, please enter a number')\n",
    "\n",
    "\n",
    "\n",
    "\n",
    "\n"
   ]
  }
 ],
 "metadata": {
  "kernelspec": {
   "display_name": "Python 3",
   "language": "python",
   "name": "python3"
  },
  "language_info": {
   "codemirror_mode": {
    "name": "ipython",
    "version": 3
   },
   "file_extension": ".py",
   "mimetype": "text/x-python",
   "name": "python",
   "nbconvert_exporter": "python",
   "pygments_lexer": "ipython3",
   "version": "3.11.9"
  }
 },
 "nbformat": 4,
 "nbformat_minor": 5
}
