{
 "cells": [
  {
   "cell_type": "markdown",
   "id": "f0493b23",
   "metadata": {},
   "source": [
    "## 🧠 Key Concepts: Working with Text Files in Python\n",
    "\n",
    "- **Creating Files in Jupyter Notebook**\n",
    "  - Use `%%writefile filename.txt` to create a text file directly inside a notebook cell.\n",
    "  - Only works in Jupyter; otherwise, use a text editor to create `.txt` files.\n",
    "\n",
    "- **Opening Files**\n",
    "  - `open(\"filename.txt\", mode)` is used to open a file.\n",
    "  - Modes:\n",
    "    - `'r'` → Read (default)\n",
    "    - `'w'` → Write (overwrites existing file or creates new)\n",
    "    - `'a'` → Append (adds content to end of file)\n",
    "    - `'r+'` → Read & Write\n",
    "    - `'w+'` → Write & Read (overwrites or creates new file)\n",
    "\n",
    "- **Reading from a File**\n",
    "  - `.read()` → Returns entire content as a single string.\n",
    "  - `.readlines()` → Returns a list of lines (each line as a string).\n",
    "  - `.seek(0)` → Resets cursor to the beginning of the file so you can re-read.\n",
    "\n",
    "- **Writing to a File**\n",
    "  - `.write(\"text\")` → Writes text to the file.\n",
    "  - Use mode `'w'` to overwrite or `'a'` to append.\n",
    "  - Add `\\n` to insert"
   ]
  },
  {
   "cell_type": "code",
   "execution_count": 9,
   "id": "103fa9a5",
   "metadata": {},
   "outputs": [
    {
     "data": {
      "text/plain": [
       "'hello this is a txt file\\nthis is the first line\\nthis is the second line\\nthis is the thrid line'"
      ]
     },
     "execution_count": 9,
     "metadata": {},
     "output_type": "execute_result"
    }
   ],
   "source": [
    "# assgin the file to a variable\n",
    "my_file = open(r'C:\\Users\\ereze\\OneDrive\\DE\\Python\\Python\\Python_essential\\Erez code\\workiing with files\\txt.txt','r')\n",
    "\n",
    "# read the file\n",
    "my_file.read()\n",
    "\n",
    "\n",
    "\n",
    "\n"
   ]
  },
  {
   "cell_type": "code",
   "execution_count": 16,
   "id": "5078970c",
   "metadata": {},
   "outputs": [
    {
     "name": "stdout",
     "output_type": "stream",
     "text": [
      "hello this is a txt file\n",
      "this is the first line\n",
      "this is the second line\n",
      "this is the thrid line\n"
     ]
    }
   ],
   "source": [
    "# we can also use a ver to read the file\n",
    "my_file.seek(0) # this will reset the cursor to the beginning of the file\n",
    "content = my_file.read()\n",
    "print(content)\n"
   ]
  },
  {
   "cell_type": "code",
   "execution_count": 18,
   "id": "0446514a",
   "metadata": {},
   "outputs": [
    {
     "data": {
      "text/plain": [
       "['hello this is a txt file\\n',\n",
       " 'this is the first line\\n',\n",
       " 'this is the second line\\n',\n",
       " 'this is the thrid line']"
      ]
     },
     "execution_count": 18,
     "metadata": {},
     "output_type": "execute_result"
    }
   ],
   "source": [
    "# we can read the file as a list of lines\n",
    "my_file.seek(0)\n",
    "my_file.readlines()"
   ]
  },
  {
   "cell_type": "code",
   "execution_count": 21,
   "id": "ac3caac8",
   "metadata": {},
   "outputs": [
    {
     "name": "stdout",
     "output_type": "stream",
     "text": [
      "hello this is a txt file\n",
      "this is the first line\n",
      "this is the second line\n",
      "this is the thrid line\n"
     ]
    }
   ],
   "source": [
    "# to close the file we use the close() method\n",
    "my_file.close()\n",
    "\n",
    "# the best practice is to use the with statement\n",
    "with open(r'C:\\Users\\ereze\\OneDrive\\DE\\Python\\Python\\Python_essential\\Erez code\\workiing with files\\txt.txt', 'r') as my_file:\n",
    "    content = my_file.read()\n",
    "    print(content)\n"
   ]
  },
  {
   "cell_type": "code",
   "execution_count": 26,
   "id": "f5bcc431",
   "metadata": {},
   "outputs": [
    {
     "name": "stdout",
     "output_type": "stream",
     "text": [
      "one for 1\n",
      "two for 2\n",
      "three for 3\n",
      "four for 4\n"
     ]
    }
   ],
   "source": [
    "# open new file and read it\n",
    "with open (r'C:\\Users\\ereze\\OneDrive\\DE\\Python\\Python\\Python_essential\\Erez code\\workiing with files\\new_txt_file.txt', 'r') as f:\n",
    "    print(f.read())\n"
   ]
  },
  {
   "cell_type": "code",
   "execution_count": null,
   "id": "d79f2515",
   "metadata": {},
   "outputs": [],
   "source": [
    "# open new file and append to it\n",
    "with open(r'C:\\Users\\ereze\\OneDrive\\DE\\Python\\Python\\Python_essential\\Erez code\\workiing with files\\new_txt_file.txt', mode = 'a') as f:\n",
    "    f.write('\\five for 5')"
   ]
  },
  {
   "cell_type": "code",
   "execution_count": 28,
   "id": "3d0bb674",
   "metadata": {},
   "outputs": [
    {
     "name": "stdout",
     "output_type": "stream",
     "text": [
      "one for 1\n",
      "two for 2\n",
      "three for 3\n",
      "four for 4\n",
      "four for 4\n"
     ]
    }
   ],
   "source": [
    "# open new file and read it after appand\n",
    "with open (r'C:\\Users\\ereze\\OneDrive\\DE\\Python\\Python\\Python_essential\\Erez code\\workiing with files\\new_txt_file.txt', mode = 'r') as f:\n",
    "    print(f.read())"
   ]
  },
  {
   "cell_type": "code",
   "execution_count": 29,
   "id": "68969b77",
   "metadata": {},
   "outputs": [],
   "source": [
    "#create new file and write to it\n",
    "with open(r'C:\\Users\\ereze\\OneDrive\\DE\\Python\\Python\\Python_essential\\Erez code\\workiing with files\\writing_to_file.txt', mode = 'w') as f:\n",
    "    f.write('Hello World!!!')"
   ]
  },
  {
   "cell_type": "code",
   "execution_count": 30,
   "id": "7b72a898",
   "metadata": {},
   "outputs": [
    {
     "name": "stdout",
     "output_type": "stream",
     "text": [
      "Hello World!!!\n"
     ]
    }
   ],
   "source": [
    "#read the file we created\n",
    "with open(r'C:\\Users\\ereze\\OneDrive\\DE\\Python\\Python\\Python_essential\\Erez code\\workiing with files\\writing_to_file.txt', mode = 'r') as f:\n",
    "    print(f.read())"
   ]
  }
 ],
 "metadata": {
  "kernelspec": {
   "display_name": "Python 3",
   "language": "python",
   "name": "python3"
  },
  "language_info": {
   "codemirror_mode": {
    "name": "ipython",
    "version": 3
   },
   "file_extension": ".py",
   "mimetype": "text/x-python",
   "name": "python",
   "nbconvert_exporter": "python",
   "pygments_lexer": "ipython3",
   "version": "3.11.9"
  }
 },
 "nbformat": 4,
 "nbformat_minor": 5
}
