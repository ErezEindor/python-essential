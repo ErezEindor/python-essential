{
 "cells": [
  {
   "cell_type": "markdown",
   "metadata": {},
   "source": [
    "## Operators \n",
    "<br>\n",
    "we use operators in order to perform operations on varibles and values. \n",
    "<br>\n",
    "we can look at it like so. varibles are the data and the operator is the instruction "
   ]
  },
  {
   "cell_type": "markdown",
   "metadata": {},
   "source": [
    "### Arithmetic Operators <br>\n",
    "in python we have the following arithmetic operations: addition (+), subtraction (-), multiplication (*) and division(/), power (**) and modulo (the rimander) (%)\n",
    "<br>\n"
   ]
  },
  {
   "cell_type": "code",
   "execution_count": 42,
   "metadata": {},
   "outputs": [
    {
     "name": "stdout",
     "output_type": "stream",
     "text": [
      "2\n",
      "4\n",
      "10\n",
      "5.0\n",
      "25\n",
      "2\n"
     ]
    }
   ],
   "source": [
    "#addition\n",
    "my_addition= 1+1 \n",
    "print(my_addition)\n",
    "\n",
    "#subtraction \n",
    "my_subtraction= 5-1\n",
    "print(my_subtraction)\n",
    "\n",
    "#multiplication\n",
    "my_multiplication= 2*5\n",
    "print(my_multiplication)\n",
    "\n",
    "#division\n",
    "my_division= 10/2\n",
    "print(my_division)\n",
    "\n",
    "#power\n",
    "my_power= 5**2\n",
    "print(my_power)\n",
    "\n",
    "#modulo\n",
    "my_modulo= 20 % 6\n",
    "\n",
    "print (my_modulo)"
   ]
  },
  {
   "cell_type": "markdown",
   "metadata": {},
   "source": [
    "### Arithmetic Operators with Strings \n",
    "<br>\n",
    "we can do string concatenation by using the '+' sign \n",
    "<br>\n",
    "we can also do string multiplication by using the '*' sign"
   ]
  },
  {
   "cell_type": "code",
   "execution_count": 43,
   "metadata": {},
   "outputs": [
    {
     "name": "stdout",
     "output_type": "stream",
     "text": [
      "string1string2\n",
      "- mystring -- mystring -- mystring -- mystring -\n"
     ]
    }
   ],
   "source": [
    "#concatenation\n",
    "my_string= 'string1' + 'string2'\n",
    "print (my_string)\n",
    "\n",
    "#multiplication\n",
    "string_multiplication= '- mystring -' *4\n",
    "print(string_multiplication)"
   ]
  },
  {
   "cell_type": "markdown",
   "metadata": {},
   "source": [
    "## Comparison, Logical, and Membership Operators\n",
    "\n",
    "\n"
   ]
  },
  {
   "cell_type": "markdown",
   "metadata": {},
   "source": [
    "### Comparison\n",
    "<br>\n",
    "Comparison operators allow us to compare two values, returning a Boolean (True or False) based on the relationship between those values:\n",
    "\n",
    "- **Equal (`==`)**: Checks if the values on both sides are equal.\n",
    "- **Not Equal (`!=`)**: Checks if the values are not equal.\n",
    "- **Greater Than (>)**: Checks if the value on the left is greater than the one on the right.\n",
    "- **Less Than (<)**: Checks if the value on the left is less than the one on the right.\n",
    "- **Greater Than or Equal to (>=)**: Checks if the value on the left is greater than or equal to the one on the right.\n",
    "- **Less Than or Equal to (<=)**: Checks if the value on the left is less than or equal to the one on the right."
   ]
  },
  {
   "cell_type": "code",
   "execution_count": 44,
   "metadata": {},
   "outputs": [
    {
     "name": "stdout",
     "output_type": "stream",
     "text": [
      "True\n",
      "False\n",
      "True\n",
      "False\n",
      "True\n",
      "False\n"
     ]
    }
   ],
   "source": [
    "#Equal\n",
    "my_equal= True == True\n",
    "print(my_equal)\n",
    "\n",
    "#Not equal\n",
    "my_not_equal= 5 != 5\n",
    "print (my_not_equal)\n",
    "\n",
    "#Greater then\n",
    "my_greater_then= 4 > 2\n",
    "print(my_greater_then)\n",
    "\n",
    "#Less then\n",
    "my_less_then= 5 < 2\n",
    "print (my_less_then)\n",
    "\n",
    "#Greater than or equal to\n",
    "greater_then_or= 10 >= 8\n",
    "print(greater_then_or)\n",
    "\n",
    "#Less than or equal\n",
    "less_then_or= 57 <= 6\n",
    "print(less_then_or)"
   ]
  },
  {
   "cell_type": "markdown",
   "metadata": {},
   "source": [
    "### Logical Operators (and, or, not)\n",
    "<br>\n",
    "Logical operators are used to combine conditional statements, allowing for more complex conditions in programming. They operate on Boolean values and return Boolean results.\n",
    "\n",
    "- **And**: Returns **True** if __both__ operands are true. If either of the operands is false, it returns **False**. This operator is useful for checking if multiple conditions are all true at the same time.\n",
    "- **Or**:  Returns **True** if at __least one__ of the operands is true. It only returns **False** when __all__ operands are false. This operator is used when only one of several conditions needs to be true.\n",
    "- **Not**: Returns **True** if the operand is __false__, and **False** if it is __true__. This operator is used to reverse the Boolean value of its operand, which is helpful in cases where you want to negate a condition.\n"
   ]
  },
  {
   "cell_type": "code",
   "execution_count": 45,
   "metadata": {},
   "outputs": [
    {
     "name": "stdout",
     "output_type": "stream",
     "text": [
      "True\n",
      "True\n",
      "True\n"
     ]
    }
   ],
   "source": [
    "#And\n",
    "my_and= True and True\n",
    "print (my_and)\n",
    "\n",
    "#Or\n",
    "my_or= True or False  \n",
    "print (my_or)\n",
    "\n",
    "#not \n",
    "my_not= not False\n",
    "print(my_not)"
   ]
  },
  {
   "cell_type": "markdown",
   "metadata": {},
   "source": [
    "### Membership Operators\n",
    "<br>\n",
    "\n",
    "Membership operators in Python are used to test whether a value or variable is found in a sequence, such as a string, list, tuple, or dictionary. \n",
    "<br>\n",
    "These operators return Boolean values: <b>True</b> or <b>False</b>.\n",
    "\n",
    "- **In**: Returns True if the specified value is present in the sequence. It's commonly used to check if an element exists within a collection.\n",
    "- **Not In**: Returns True if the specified value is not present in the sequence. This operator is useful for verifying that an item is absent from a collection."
   ]
  },
  {
   "cell_type": "code",
   "execution_count": 46,
   "metadata": {},
   "outputs": [
    {
     "name": "stdout",
     "output_type": "stream",
     "text": [
      "True\n",
      "True\n",
      "False\n",
      "False\n"
     ]
    }
   ],
   "source": [
    "#in \n",
    "my_in_int= 1 in [1,2,3,4,5,6]\n",
    "print(my_in_int)\n",
    "my_in_str= 'cat' in 'concatenate'\n",
    "print(my_in_str)\n",
    "\n",
    "#not in \n",
    "my_not_in_int= 10 not in [10,20,30,40,50]\n",
    "print(my_not_in_int)\n",
    "my_not_in_str= 'cat' not in 'concatenate'\n",
    "print(my_not_in_str)"
   ]
  }
 ],
 "metadata": {
  "kernelspec": {
   "display_name": "Python 3",
   "language": "python",
   "name": "python3"
  },
  "language_info": {
   "codemirror_mode": {
    "name": "ipython",
    "version": 3
   },
   "file_extension": ".py",
   "mimetype": "text/x-python",
   "name": "python",
   "nbconvert_exporter": "python",
   "pygments_lexer": "ipython3",
   "version": "3.12.2"
  }
 },
 "nbformat": 4,
 "nbformat_minor": 2
}
