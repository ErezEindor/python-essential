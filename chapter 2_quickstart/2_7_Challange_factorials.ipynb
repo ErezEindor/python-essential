{
 "cells": [
  {
   "cell_type": "markdown",
   "metadata": {},
   "source": [
    "## Factorial Challenge\n",
    "\n",
    "The factorial function gives the number of possible arrangements of a set of items of length \"n\"\n",
    "\n",
    "For example, there are 4! (\"four factorial\") or 24 ways to arrange four items, which can be calculated as: \n",
    "4 \\* 3 \\* 2 \\* 1\n",
    "\n",
    "5! = 5 \\* 4 \\* 3 \\* 2 \\* 1 = 120\n",
    "\n",
    "6! = 6 \\* 5 \\* 4 \\* 3 \\* 2 \\* 1 = 720\n",
    "\n",
    "etc.\n",
    "\n",
    "In a set of 0 items (an empty set) there is only one way to arrange the items, therefore, 0! = 1\n",
    "\n",
    "For the purposes of this exercise, factorials are only defined for **positive integers** (including 0)\n",
    "\n",
    "\n"
   ]
  },
  {
   "cell_type": "code",
   "execution_count": 6,
   "metadata": {},
   "outputs": [
    {
     "data": {
      "text/plain": [
       "120"
      ]
     },
     "execution_count": 6,
     "metadata": {},
     "output_type": "execute_result"
    }
   ],
   "source": [
    "#create a factorial function\n",
    "def factorial(num):\n",
    "   if isinstance(num,int):\n",
    "      if num < 0:\n",
    "         return None\n",
    "      result= 1\n",
    "      for i in range (1, num+1):\n",
    "         result *= i\n",
    "      return result\n",
    "   else:\n",
    "      return None\n",
    "\n",
    "#define a var\n",
    "num= 5\n",
    "\n",
    "#call the fucntion\n",
    "factorial(num)\n",
    "\n"
   ]
  },
  {
   "cell_type": "code",
   "execution_count": 29,
   "metadata": {},
   "outputs": [
    {
     "data": {
      "text/plain": [
       "120"
      ]
     },
     "execution_count": 29,
     "metadata": {},
     "output_type": "execute_result"
    }
   ],
   "source": [
    "#with while loop\n",
    "def loop(num):\n",
    "    \n",
    "    # to check if the var is numeric and int\n",
    "    if type(num) != int:\n",
    "        return None\n",
    "    if num < 0:\n",
    "       return None\n",
    "    #if num == 0:\n",
    "    #   return 1\n",
    "    \n",
    "    #this block is for the while loop \n",
    "    fact= 1\n",
    "    counter=1\n",
    "    while counter <= num:\n",
    "      fact= fact * counter \n",
    "      counter = counter +1\n",
    "    return fact \n",
    "\n",
    "#create a ver:\n",
    "num=5\n",
    "num2= 'anat'\n",
    "#call the function\n",
    "loop(num)\n",
    "\n",
    "#call the function with str\n",
    "#loop(num2)"
   ]
  }
 ],
 "metadata": {
  "kernelspec": {
   "display_name": "Python 3",
   "language": "python",
   "name": "python3"
  },
  "language_info": {
   "codemirror_mode": {
    "name": "ipython",
    "version": 3
   },
   "file_extension": ".py",
   "mimetype": "text/x-python",
   "name": "python",
   "nbconvert_exporter": "python",
   "pygments_lexer": "ipython3",
   "version": "3.12.2"
  }
 },
 "nbformat": 4,
 "nbformat_minor": 2
}
