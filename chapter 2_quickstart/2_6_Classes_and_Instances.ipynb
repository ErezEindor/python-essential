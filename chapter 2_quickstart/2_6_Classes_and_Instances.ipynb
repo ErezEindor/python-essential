{
 "cells": [
  {
   "cell_type": "markdown",
   "metadata": {},
   "source": [
    "## Classes & Instances\n",
    "\n",
    "Classes and instances are fundamental concepts in object-oriented programming (OOP), allowing for the creation of complex and reusable software designs.\n",
    "\n",
    "### Classes\n",
    "\n",
    "A **class** is a blueprint for creating objects. It defines a set of attributes and methods that are common to all objects of that type. A class encapsulates data for the object and methods to manipulate that data.\n",
    "\n",
    "#### Defining a Class\n",
    "\n",
    "When defining a class, use uppercase for the first letter of each word in the class name (PascalCase). \n",
    "\n",
    "The class definition starts with the `class` keyword followed by the class name and a colon `:` to begin the block of code.\n"
   ]
  },
  {
   "cell_type": "code",
   "execution_count": 19,
   "metadata": {},
   "outputs": [],
   "source": [
    "# Defining a simple class\n",
    "class Dog:\n",
    "    \"\"\"Class to represent a dog with its attributes and behaviors.\"\"\"\n",
    "    \n",
    "    def __init__(self, name):\n",
    "        \"\"\"Initialize the dog with a name and number of legs.\"\"\"\n",
    "        self.name = name  # instance variable to store the name\n",
    "        self.legs = 4     # instance variable to store the number of legs\n",
    "\n",
    "    def speak(self):\n",
    "        \"\"\"Make the dog speak.\"\"\"\n",
    "        print(self.name + ' says: Bark!')"
   ]
  },
  {
   "cell_type": "code",
   "execution_count": 18,
   "metadata": {},
   "outputs": [
    {
     "name": "stdout",
     "output_type": "stream",
     "text": [
      "pooka says: Bark!\n",
      "shoki says: Bark!\n"
     ]
    }
   ],
   "source": [
    "#using the class with instances \n",
    "mydog= Dog('pooka')\n",
    "rinas_dog= Dog('shoki')\n",
    "\n",
    "mydog.speak()\n",
    "rinas_dog.speak()\n"
   ]
  }
 ],
 "metadata": {
  "kernelspec": {
   "display_name": "Python 3",
   "language": "python",
   "name": "python3"
  },
  "language_info": {
   "codemirror_mode": {
    "name": "ipython",
    "version": 3
   },
   "file_extension": ".py",
   "mimetype": "text/x-python",
   "name": "python",
   "nbconvert_exporter": "python",
   "pygments_lexer": "ipython3",
   "version": "3.12.2"
  }
 },
 "nbformat": 4,
 "nbformat_minor": 2
}
