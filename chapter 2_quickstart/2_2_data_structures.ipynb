{
 "cells": [
  {
   "cell_type": "markdown",
   "metadata": {},
   "source": [
    "## Data Structres <br>\n",
    "\n",
    "assigning a single value is good for single var.<br> \n",
    "but what if we want to assign an <b>array</b> of values?"
   ]
  },
  {
   "cell_type": "markdown",
   "metadata": {},
   "source": [
    "### List\n",
    "\n"
   ]
  },
  {
   "cell_type": "markdown",
   "metadata": {},
   "source": [
    "to create a list we'll use the squre brackets \"[ ]\". <br>\n",
    "we can assign items to the list by using comma \",\" <br>\n",
    "we can put anything in a list: strings, int, mixs list (int,str,float and so on)\n",
    "we can even create a list of lists!\n",
    "<br>\n",
    "the order of element in a list is important \n",
    "<br>\n",
    "we can appand elemtent to a list all the times"
   ]
  },
  {
   "cell_type": "code",
   "execution_count": 49,
   "metadata": {},
   "outputs": [
    {
     "name": "stdout",
     "output_type": "stream",
     "text": [
      "[1, 2, 3, 4, 5]\n",
      "('a list', 'of', 'strings')\n",
      "[[1, 2, 3, 4], ['string1', 'string2', 'string3'], [True, False], [1.33, 2.27, 103.109]]\n"
     ]
    }
   ],
   "source": [
    "#define a list\n",
    "mylist= [1,2,3,4,5]\n",
    "print(mylist)\n",
    "mylist_string= ('a list','of', 'strings')\n",
    "print(mylist_string)\n",
    "\n",
    "list_of_lists= [[1,2,3,4],['string1','string2','string3'],[True,False],[1.33,2.27,103.109]]\n",
    "print (list_of_lists)"
   ]
  },
  {
   "cell_type": "code",
   "execution_count": 50,
   "metadata": {},
   "outputs": [
    {
     "name": "stdout",
     "output_type": "stream",
     "text": [
      "5\n",
      "False\n",
      "[1, 2, 3, 4, 5, 6]\n"
     ]
    }
   ],
   "source": [
    "#len will allow us to get the length of the list\n",
    "print(len(mylist))\n",
    "\n",
    "#the order of elements in a list\n",
    "list_one= [1,2,3]\n",
    "list_two= [3,2,1]\n",
    "print(list_one== list_two)\n",
    "\n",
    "#appand element to a list\n",
    "mylist.append(6)\n",
    "print(mylist)"
   ]
  },
  {
   "cell_type": "markdown",
   "metadata": {},
   "source": [
    "### Sets <br>\n",
    "\n",
    "a set is a similar to a list the diffrance is that the itmes must be unique <br>\n",
    "a set is defined with curly brackets \"{ }\"\n",
    "<br>\n",
    "when assinging 2 identical elements to a set only one will be count as part of the set \n",
    "<br>\n",
    "the order of element in a set is not important \n",
    "<br>\n",
    "we can appand elements to a set by using the \"add\" method"
   ]
  },
  {
   "cell_type": "code",
   "execution_count": 51,
   "metadata": {},
   "outputs": [
    {
     "name": "stdout",
     "output_type": "stream",
     "text": [
      "{1, 2, 3, 4}\n",
      "<class 'set'>\n",
      "4\n",
      "{1, 2}\n",
      "2\n",
      "True\n",
      "{1, 2, 3, 4, 5}\n"
     ]
    }
   ],
   "source": [
    "#define a set\n",
    "my_set= {1,2,3,4}\n",
    "print (my_set)\n",
    "\n",
    "#lets find out what is the type of the object\n",
    "print(type (my_set))\n",
    "\n",
    "#lets find out the length of the set\n",
    "print(len(my_set))\n",
    "\n",
    "#identical elements in a set\n",
    "my_iden_set= {1,1,2,2}\n",
    "print(my_iden_set)\n",
    "print(len(my_iden_set))\n",
    "\n",
    "#the order of elements in a set\n",
    "set_one= {1,2,3}\n",
    "set_two= {3,2,1}\n",
    "print(set_one== set_two)\n",
    "\n",
    "#appand elements in a set\n",
    "my_set.add(5)\n",
    "print(my_set)"
   ]
  },
  {
   "cell_type": "markdown",
   "metadata": {},
   "source": [
    "### Tuples \n",
    "<br>\n",
    "tuples are defined with parenthesis, and they are similar to a list.\n",
    "<br>\n",
    "we can use the len function. the oredr of a tuples is also important  \n",
    "<br>\n",
    "we <b> can't appand or add </b> element to a tuple \n",
    "<br>\n",
    "tuples are great to store small elements and objects "
   ]
  },
  {
   "cell_type": "code",
   "execution_count": 52,
   "metadata": {},
   "outputs": [
    {
     "name": "stdout",
     "output_type": "stream",
     "text": [
      "3\n",
      "False\n"
     ]
    }
   ],
   "source": [
    "#define a tuple\n",
    "my_tuple= (1,2,3)\n",
    "\n",
    "#find the length of the tuples\n",
    "print(len(my_tuples))\n",
    "\n",
    "#the order in a tuples\n",
    "tuple_one= (1,2,3)\n",
    "tuple_two= (3,2,1)\n",
    "print(tuple_one== tuple_two)"
   ]
  },
  {
   "cell_type": "markdown",
   "metadata": {},
   "source": [
    "### dictionaries\n",
    "<br>\n",
    "dictionaries are defined with curly brackets \"{ }\"\n",
    "<br>\n",
    "dictionary is a key : value pair. every key in a dictionary must be unique\n",
    "<br>\n",
    "the oreder in a dictionary is not important \n",
    "<br>\n",
    " "
   ]
  },
  {
   "cell_type": "code",
   "execution_count": 53,
   "metadata": {},
   "outputs": [
    {
     "name": "stdout",
     "output_type": "stream",
     "text": [
      "{'apple': 'a red fruit', 'bear': 'a big animal '}\n",
      "a red fruit\n",
      "2\n",
      "True\n"
     ]
    }
   ],
   "source": [
    "#define a dictionary \n",
    "my_dic= {\n",
    "    'apple' : 'a red fruit',\n",
    "    'bear' : 'a big animal '\n",
    "}\n",
    "print(my_dic)\n",
    "print(my_dic['apple'])\n",
    "\n",
    "#length of dictionary\n",
    "print( len(my_dic))\n",
    "\n",
    "#order in a dictionary\n",
    "my_dic_two= {\n",
    "    'bear' : 'a big animal ',\n",
    "     'apple' : 'a red fruit'\n",
    "}\n",
    "\n",
    "print(my_dic == my_dic_two)"
   ]
  }
 ],
 "metadata": {
  "kernelspec": {
   "display_name": "Python 3",
   "language": "python",
   "name": "python3"
  },
  "language_info": {
   "codemirror_mode": {
    "name": "ipython",
    "version": 3
   },
   "file_extension": ".py",
   "mimetype": "text/x-python",
   "name": "python",
   "nbconvert_exporter": "python",
   "pygments_lexer": "ipython3",
   "version": "3.12.2"
  }
 },
 "nbformat": 4,
 "nbformat_minor": 2
}
