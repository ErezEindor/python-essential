{
 "cells": [
  {
   "cell_type": "markdown",
   "metadata": {},
   "source": [
    "## Control Flow\n",
    "\n",
    "there are 3 types of control flow that we're going to cover:\n",
    "\n",
    "- **if/Else Statements**: if statements allow for conditional execution of code segments. \n",
    "if statement will execute its block of code if the condition is true. else statement can be used to execute an alternate block if the if condition is false.\n",
    "- **For Loops**: for loops are used for iterating over a sequence (such as a list, tuple, string) or other iterable objects. \n",
    "This loop allows you to execute a block of code multiple times, which is particularly useful for processing each item in a sequence.\n",
    "- **While Loops**: while loops repeatedly execute a target statement as long as a given condition is true. \n",
    "It's used for repeating a block of code an unknown number of times until a condition changes."
   ]
  },
  {
   "cell_type": "markdown",
   "metadata": {},
   "source": [
    "#### IF/ Else Statements\n",
    "every time we have a condtion in the 'If/ Else' statements we need to indent the block of code\n",
    "<br>\n",
    "every condtion has it's own block \n"
   ]
  },
  {
   "cell_type": "code",
   "execution_count": 4,
   "metadata": {},
   "outputs": [
    {
     "name": "stdout",
     "output_type": "stream",
     "text": [
      "it is False\n",
      "only is true!!!!\n",
      "always print this block\n"
     ]
    }
   ],
   "source": [
    "#if statement\n",
    "a= False\n",
    "b= True\n",
    "if a:\n",
    "    # all this is the block of code for if a is true\n",
    "    print ('it is true!!!')\n",
    "    # all this block is of code is for if a is false \n",
    "else:\n",
    "    print('it is False')\n",
    "    if b:\n",
    "        print ('only is true!!!!')\n",
    "# this block has noting to do with the if condtion, hence it will always be printed \n",
    "print('always print this block')"
   ]
  },
  {
   "cell_type": "markdown",
   "metadata": {},
   "source": [
    "#### For Loops\n",
    "we use for loops to run over iterable objects like: lists, strings, sets, tuple and so on.\n",
    "<br>\n",
    "In the context of a for loop, the in keyword is part of the syntax that specifies the variable to be used for each element of the iterable during the loop. \n",
    "<br>\n",
    "This is different from the in used as a membership operator, which is used to test whether a value exists within a sequence."
   ]
  },
  {
   "cell_type": "code",
   "execution_count": 5,
   "metadata": {},
   "outputs": [
    {
     "name": "stdout",
     "output_type": "stream",
     "text": [
      "1\n",
      "2\n",
      "3\n",
      "4\n"
     ]
    },
    {
     "data": {
      "text/plain": [
       "True"
      ]
     },
     "execution_count": 5,
     "metadata": {},
     "output_type": "execute_result"
    }
   ],
   "source": [
    "# for loops\n",
    "my_list= [1,2,3,4]\n",
    "\n",
    "#this is the loop:\n",
    "for i in my_list:\n",
    "    print(i)\n",
    "\n",
    "#in as memnership operator:\n",
    "4 in my_list"
   ]
  },
  {
   "cell_type": "markdown",
   "metadata": {},
   "source": [
    "#### While Loops\n",
    "A while loop is diffrent from for loop in that it doesn't iterate over items in a list.\n",
    "<br>\n",
    "It's just keep looping until the boolean we pass is false \n",
    "<br>\n",
    "We want to use while loop when the condtion are changing all the time \n",
    "<br>\n",
    "Or that they are being impact by the block under the while loop."
   ]
  },
  {
   "cell_type": "code",
   "execution_count": 6,
   "metadata": {},
   "outputs": [
    {
     "name": "stdout",
     "output_type": "stream",
     "text": [
      "0\n",
      "1\n",
      "2\n",
      "3\n",
      "4\n"
     ]
    }
   ],
   "source": [
    "a= 0\n",
    "while a < 5:\n",
    "    print (a)\n",
    "    a= a + 1 "
   ]
  }
 ],
 "metadata": {
  "kernelspec": {
   "display_name": "Python 3",
   "language": "python",
   "name": "python3"
  },
  "language_info": {
   "codemirror_mode": {
    "name": "ipython",
    "version": 3
   },
   "file_extension": ".py",
   "mimetype": "text/x-python",
   "name": "python",
   "nbconvert_exporter": "python",
   "pygments_lexer": "ipython3",
   "version": "3.12.2"
  }
 },
 "nbformat": 4,
 "nbformat_minor": 2
}
