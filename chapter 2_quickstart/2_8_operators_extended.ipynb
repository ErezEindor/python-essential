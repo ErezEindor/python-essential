{
 "cells": [
  {
   "cell_type": "markdown",
   "id": "833ad380",
   "metadata": {},
   "source": [
    "# Python Comparison and Logical Operators - Extended Guide\n",
    "\n",
    "## Notebook Summary\n",
    "\n",
    "This notebook covers **Python's comparison and logical operators** in detail, providing practical examples and hands-on exercises to master conditional logic in Python.\n",
    "\n",
    "### What You'll Learn:\n",
    "\n",
    "#### 1. **Comparison Operators**\n",
    "- **Equality (`==`)**: Tests if two values are equal\n",
    "- **Inequality (`!=`)**: Tests if two values are not equal  \n",
    "- **Greater than (`>`)**: Tests if left value is greater than right value\n",
    "- **Less than (`<`)**: Tests if left value is less than right value\n",
    "- **Greater than or equal (`>=`)**: Tests if left value is greater than or equal to right value\n",
    "- **Less than or equal (`<=`)**: Tests if left value is less than or equal to right value\n",
    "\n",
    "#### 2. **Logical Operators**\n",
    "- **AND (`and`)**: Both conditions must be true for the result to be true\n",
    "- **OR (`or`)**: At least one condition must be true for the result to be true\n",
    "- **NOT (`not`)**: Reverses the boolean result (True becomes False, False becomes True)\n",
    "\n",
    "#### 3. **Key Concepts Covered**\n",
    "- **Type sensitivity**: String comparisons are case-sensitive\n",
    "- **Type comparison**: Different data types (int vs string) are not equal\n",
    "- **Float vs Int**: Python treats `2 == 2.0` as True (same value)\n",
    "- **Chained comparisons**: `1 < 2 < 3` is equivalent to `1 < 2 and 2 < 3`\n",
    "- **Boolean logic**: Understanding True/False outcomes\n",
    "\n",
    "#### 4. **Practical Applications**\n",
    "- Conditional statements and decision-making\n",
    "- Data validation and type checking\n",
    "- Range testing and boundary conditions\n",
    "- Complex logical expressions\n",
    "\n",
    "---\n"
   ]
  },
  {
   "cell_type": "markdown",
   "id": "ec5ee9f3",
   "metadata": {},
   "source": [
    "\n",
    "<table class=\"table table-bordered\">\n",
    "<tr>\n",
    "<th style=\"width:10%\">Operator</th><th style=\"width:45%\">Description</th><th>Example</th>\n",
    "</tr>\n",
    "<tr>\n",
    "<td>==</td>\n",
    "<td>If the values of two operands are equal, then the condition becomes true.</td>\n",
    "<td> (a == b) is not true.</td>\n",
    "</tr>\n",
    "<tr>\n",
    "<td>!=</td>\n",
    "<td>If values of two operands are not equal, then condition becomes true.</td>\n",
    "<td> (a != b) is true.</td>\n",
    "</tr>\n",
    "<tr>\n",
    "<td>&gt;</td>\n",
    "<td>If the value of left operand is greater than the value of right operand, then condition becomes true.</td>\n",
    "<td> (a &gt; b) is not true.</td>\n",
    "</tr>\n",
    "<tr>\n",
    "<td>&lt;</td>\n",
    "<td>If the value of left operand is less than the value of right operand, then condition becomes true.</td>\n",
    "<td> (a &lt; b) is true.</td>\n",
    "</tr>\n",
    "<tr>\n",
    "<td>&gt;=</td>\n",
    "<td>If the value of left operand is greater than or equal to the value of right operand, then condition becomes true.</td>\n",
    "<td> (a &gt;= b) is not true. </td>\n",
    "</tr>\n",
    "<tr>\n",
    "<td>&lt;=</td>\n",
    "<td>If the value of left operand is less than or equal to the value of right operand, then condition becomes true.</td>\n",
    "<td> (a &lt;= b) is true. </td>\n",
    "</tr>\n",
    "</table>"
   ]
  },
  {
   "cell_type": "code",
   "execution_count": null,
   "id": "d7b4c605",
   "metadata": {},
   "outputs": [],
   "source": [
    "#check if a number is equal to another number\n",
    "x = 2 == 2 #True\n",
    "y = 'hello' == 'bye' #False\n",
    "z = 'Bye' == 'bye' #False because of the capital B\n",
    "print (x,y,z, sep=\"\\n\")\n",
    "\n",
    "x = '2' == 2 #False because of the different types\n",
    "\n",
    "# checl for data types int vs float \n",
    "y = 2 == 2.0 #True because the value is the same\n",
    "\n",
    "print (x,y, sep=\"\\n\")"
   ]
  },
  {
   "cell_type": "code",
   "execution_count": null,
   "id": "dfa4a5f5",
   "metadata": {},
   "outputs": [],
   "source": [
    "# not equal to\n",
    "x = 2 != 2 #False \n",
    "y = 2 != 3 #True\n",
    "print (x,y, sep=\"\\n\")"
   ]
  },
  {
   "cell_type": "code",
   "execution_count": null,
   "id": "7be16e30",
   "metadata": {},
   "outputs": [],
   "source": [
    "# greater than\n",
    "x = 2 > 1 #True\n",
    "y = 2 > 3 #False\n",
    "print (x,y, sep=\"\\n\")\n",
    "\n",
    "# greater than or equal to % less than or equal to\n",
    "x = 2 >= 3 #False\n",
    "y = 2 >= 2 #True\n",
    "z = 2 <= 1 #False\n",
    "\n",
    "print (x,y,z, sep=\"\\n\")"
   ]
  },
  {
   "cell_type": "code",
   "execution_count": null,
   "id": "63743d22",
   "metadata": {},
   "outputs": [],
   "source": [
    "#logical operators\n",
    "#and operator: both conditions must be true\n",
    "x = 1< 2 < 3 #True this the first option\n",
    "y = 1 < 2 and 2 < 3 #True this the second option\n",
    "z = 'h' == 'h' and 2 == 2 #True this the third option\n",
    "\n",
    "print(x,y,z, sep=\"\\n\")\n"
   ]
  },
  {
   "cell_type": "code",
   "execution_count": null,
   "id": "2d163995",
   "metadata": {},
   "outputs": [],
   "source": [
    "# the or operator: at least one condition must be true\n",
    "x = 1 < 2 or 2 > 3 #True\n",
    "y = 100 == 1 or 2 == 200 #False\n",
    "\n",
    "print(x,y, sep=\"\\n\")\n"
   ]
  },
  {
   "cell_type": "code",
   "execution_count": null,
   "id": "81512190",
   "metadata": {},
   "outputs": [],
   "source": [
    "# the not operator: reverses the result, returns False if the result is True\n",
    "x = not 1 == 1 #False\n",
    "y = not 1 > 2 #True\n"
   ]
  },
  {
   "cell_type": "markdown",
   "id": "30b6fc44",
   "metadata": {},
   "source": [
    "# Practice Questions - Python Comparison and Logical Operators\n",
    "\n",
    "Test your understanding of comparison and logical operators with these questions ranging from easy to hard.\n",
    "\n",
    "---\n"
   ]
  },
  {
   "cell_type": "markdown",
   "id": "e51a0d32",
   "metadata": {},
   "source": [
    "## Question 1 (Easy)\n",
    "\n",
    "**What will be the output of the following code?**\n",
    "\n",
    "```python\n",
    "x = 5\n",
    "y = 10\n",
    "result = x < y and y > 3\n",
    "print(result)\n",
    "```\n",
    "\n",
    "**Options:**\n",
    "- A) True\n",
    "- B) False\n",
    "- C) Error\n",
    "- D) None\n",
    "\n"
   ]
  },
  {
   "cell_type": "code",
   "execution_count": null,
   "id": "66ef5af2",
   "metadata": {},
   "outputs": [],
   "source": [
    "# create the question condition:\n",
    "x = 5\n",
    "y = 10\n",
    "result = x > y and y > 3 \n",
    "print (result) # False"
   ]
  },
  {
   "cell_type": "markdown",
   "id": "16511a56",
   "metadata": {},
   "source": [
    "## Question 2 (Medium)\n",
    "\n",
    "**What will be the output of the following code?**\n",
    "\n",
    "```python\n",
    "a = 'hello'\n",
    "b = 'Hello'\n",
    "c = 5\n",
    "d = 5.0\n",
    "\n",
    "result1 = a == b\n",
    "result2 = c == d\n",
    "result3 = result1 or result2\n",
    "\n",
    "print(result1, result2, result3)\n",
    "```\n",
    "\n",
    "**Options:**\n",
    "- A) False True True\n",
    "- B) False False False\n",
    "- C) True True True\n",
    "- D) False True False\n"
   ]
  },
  {
   "cell_type": "code",
   "execution_count": null,
   "id": "b157bfc4",
   "metadata": {},
   "outputs": [],
   "source": [
    "# create the question condition:\n",
    "a = 'hello'\n",
    "b = 'Hello'\n",
    "c = 5\n",
    "d = 5.0\n",
    "result1 = a == b #False\n",
    "result2 = c == d #True\n",
    "result3 = result1 or result2 #True\n",
    "\n",
    "print(result1, result2, result3, sep=\"\\n\") #False True True"
   ]
  },
  {
   "cell_type": "markdown",
   "id": "3a44305f",
   "metadata": {},
   "source": [
    "## Question 3 (Hard)\n",
    "\n",
    "**What will be the output of the following code?**\n",
    "\n",
    "```python\n",
    "x = 3\n",
    "y = 7\n",
    "z = 5\n",
    "\n",
    "condition1 = x < y < z\n",
    "condition2 = (x < y) and (y < z)\n",
    "condition3 = not (x >= y or y >= z)\n",
    "condition4 = x != y and y != z and x != z\n",
    "\n",
    "final_result = condition1 and condition2 and condition3 and condition4\n",
    "print(final_result)\n",
    "```\n",
    "\n",
    "**Options:**\n",
    "- A) True\n",
    "- B) False\n",
    "- C) Error\n",
    "- D) None\n"
   ]
  },
  {
   "cell_type": "code",
   "execution_count": null,
   "id": "858cf3e3",
   "metadata": {},
   "outputs": [],
   "source": [
    "# create the question condition:\n",
    "x = 3\n",
    "y = 7 \n",
    "z = 5\n",
    "\n",
    "condition1 = x < y  < z # False\n",
    "condition2 = (x < y) and (y < z) # False\n",
    "condition3 = not (x >= y or y >= z) # False\n",
    "condition4 = x != y and y != z and x != z # True\n",
    "final_result = condition1 and condition2 and condition3 and condition4\n",
    "\n",
    "print(condition1, condition2, condition3, condition4, sep=\"\\n\") # False False False True\n",
    "print(final_result) # False"
   ]
  },
  {
   "cell_type": "markdown",
   "id": "28c745aa",
   "metadata": {},
   "source": [
    "## Bonus Challenge\n",
    "\n",
    "**Write a single boolean expression that evaluates to True if and only if:**\n",
    "- A number is between 10 and 50 (inclusive)\n",
    "- AND the number is not equal to 25\n",
    "- AND the number is either even OR divisible by 3\n",
    "\n",
    "**Test your expression with these values:**\n",
    "- 12 (should return True)\n",
    "- 25 (should return False)\n",
    "- 30 (should return True)\n",
    "- 8 (should return False)\n",
    "- 51 (should return False)\n",
    "\n"
   ]
  },
  {
   "cell_type": "code",
   "execution_count": null,
   "id": "bf21fb26",
   "metadata": {},
   "outputs": [],
   "source": [
    "x = [12, 25, 30, 8, 51]\n",
    "for i in x:\n",
    "    result = 10 < i < 50 and i != 25 and (i % 2 == 0 or i % 3 == 0)\n",
    "    print(result)"
   ]
  }
 ],
 "metadata": {
  "kernelspec": {
   "display_name": "Python 3",
   "language": "python",
   "name": "python3"
  },
  "language_info": {
   "codemirror_mode": {
    "name": "ipython",
    "version": 3
   },
   "file_extension": ".py",
   "mimetype": "text/x-python",
   "name": "python",
   "nbconvert_exporter": "python",
   "pygments_lexer": "ipython3",
   "version": "3.11.9"
  }
 },
 "nbformat": 4,
 "nbformat_minor": 5
}
