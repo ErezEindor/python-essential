{
 "cells": [
  {
   "cell_type": "markdown",
   "metadata": {},
   "source": [
    "## Function\n",
    "\n",
    "Functions are defined blocks of code designed to perform a specific task, improve code reusability, and make the code more organized. \n",
    "<br>\n",
    "Once a function is defined, it can be reused throughout your program any number of times, \n",
    "<br>\n",
    "potentially with different input values, which can lead to more efficient, readable, and maintainable code.\n",
    "<br>\n",
    "\n",
    "#### Defining a Function\n",
    "\n",
    "To define a function, use the keyword def followed by the function name and parentheses '( )'. \n",
    "<br> \n",
    "names should start with a lowercase letter and follow the standard naming conventions. \n",
    "<br>\n",
    "Inside the parentheses, you can specify parameters, which are variables that act as placeholders for the values the function will process. \n",
    "<br>\n",
    "After the parameters, a colon ':' marks the start of the function body."
   ]
  },
  {
   "cell_type": "code",
   "execution_count": 20,
   "metadata": {},
   "outputs": [
    {
     "name": "stdout",
     "output_type": "stream",
     "text": [
      "12\n"
     ]
    }
   ],
   "source": [
    "# defining a simple function with one variable \n",
    "def multiply_by_three (val):\n",
    "    return 3 * val\n",
    "\n",
    "#define the variable\n",
    "val= 4\n",
    "\n",
    "#call the function with print\n",
    "print (multiply_by_three (val))"
   ]
  },
  {
   "cell_type": "code",
   "execution_count": 21,
   "metadata": {},
   "outputs": [
    {
     "name": "stdout",
     "output_type": "stream",
     "text": [
      "20\n"
     ]
    }
   ],
   "source": [
    "# defining a simple function with 2 variables\n",
    "def multiply (val1, val2):\n",
    "    return val1 * val2\n",
    "\n",
    "#define val1 & val 2\n",
    "val1= 10\n",
    "val2= 2\n",
    "\n",
    "#call the function with print\n",
    "\n",
    "print (multiply(val1,val2))\n"
   ]
  },
  {
   "cell_type": "markdown",
   "metadata": {},
   "source": [
    "Function does not have to use the 'return' statement.\n",
    "<br>\n",
    "they can perform operations that modify the data passed to them, affect the external environment, or simply execute actions without sending back a value. \n",
    "<br>\n",
    "This is particularly common with functions that manipulate mutable data types like lists or dictionaries."
   ]
  },
  {
   "cell_type": "markdown",
   "metadata": {},
   "source": [
    "#### Benefits and Considerations:\n",
    "\n",
    "- **Efficiency**: Modifying data in place can be more memory efficient since it doesn't require creating a new object unless necessary.\n",
    "- **Clarity and Maintainability**: While modifying objects in place can be useful, it may lead to code that is harder to understand and maintain because the changes have side effects outside the scope of the function itself. \n",
    "It is important to document such behaviors clearly as done in the docstring above."
   ]
  },
  {
   "cell_type": "code",
   "execution_count": 22,
   "metadata": {},
   "outputs": [
    {
     "name": "stdout",
     "output_type": "stream",
     "text": [
      "[1, 2, 3, 4]\n"
     ]
    }
   ],
   "source": [
    "# define a variable\n",
    "mylist= [1,2,3]\n",
    "\n",
    "#define the function\n",
    "def appandfour(mylist):\n",
    "    mylist.append(4)\n",
    "\n",
    "#call the function\n",
    "appandfour(mylist)\n",
    "\n",
    "#print the new list after the change \n",
    "print(mylist)"
   ]
  }
 ],
 "metadata": {
  "kernelspec": {
   "display_name": "Python 3",
   "language": "python",
   "name": "python3"
  },
  "language_info": {
   "codemirror_mode": {
    "name": "ipython",
    "version": 3
   },
   "file_extension": ".py",
   "mimetype": "text/x-python",
   "name": "python",
   "nbconvert_exporter": "python",
   "pygments_lexer": "ipython3",
   "version": "3.12.2"
  }
 },
 "nbformat": 4,
 "nbformat_minor": 2
}
