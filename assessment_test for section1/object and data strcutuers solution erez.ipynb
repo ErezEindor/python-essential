{
 "cells": [
  {
   "cell_type": "markdown",
   "id": "941f0144",
   "metadata": {},
   "source": [
    "## Test your knowledge. \n",
    "\n",
    "** Answer the following questions **\n",
    "\n",
    "Write (or just say out loud to yourself) a brief description of all the following Object Types and Data Structures we've learned about. You can edit the cell below by double clicking on it. Really this is just to test if you know the difference between these, so feel free to just think about it, since your answers are self-graded."
   ]
  },
  {
   "cell_type": "markdown",
   "id": "74bb2005",
   "metadata": {},
   "source": [
    "## Numbers\n",
    "\n",
    "Write an equation that uses multiplication, division, an exponent, addition, and subtraction that is equal to 100.25.\n",
    "\n",
    "Hint: This is just to test your memory of the basic arithmetic commands, work backwards from 100.25"
   ]
  },
  {
   "cell_type": "code",
   "execution_count": null,
   "id": "e234a0dd",
   "metadata": {},
   "outputs": [],
   "source": [
    "#writeing equation that will be equal to 100.25\n",
    "x = 10**2\n",
    "print (x)\n",
    "y = 1/4\n",
    "print (y)\n",
    "print (x+y)"
   ]
  },
  {
   "cell_type": "markdown",
   "id": "402daf82",
   "metadata": {},
   "source": [
    "Answer these 3 questions without typing code. Then type code to check your answer.\n",
    "\n",
    "    What is the value of the expression 4 * (6 + 5)\n",
    "    \n",
    "    What is the value of the expression 4 * 6 + 5 \n",
    "    \n",
    "    What is the value of the expression 4 + 6 * 5 "
   ]
  },
  {
   "cell_type": "code",
   "execution_count": null,
   "id": "a7de26f3",
   "metadata": {},
   "outputs": [],
   "source": [
    "# the value of the expression 4 * (6 + 5)\n",
    "x = 4 * (6 + 5)\n",
    "print (x) # value is 44\n",
    "\n",
    "# the value of the expression 4 * 6 + 5\n",
    "y= 4 * 6 + 5\n",
    "print (y) # value is 29\n",
    "\n",
    "# the value of the expression 4 + 6 * 5\n",
    "z = 4 + 6 * 5\n",
    "print (z) # value is 34\n"
   ]
  },
  {
   "cell_type": "markdown",
   "id": "ef6eeb4f",
   "metadata": {},
   "source": [
    "What is the *type* of the result of the expression 3 + 1.5 + 4?<br><br>\n"
   ]
  },
  {
   "cell_type": "code",
   "execution_count": null,
   "id": "e1094380",
   "metadata": {},
   "outputs": [],
   "source": [
    "#the type of the result of the expression 3 + 1.5 + 4\n",
    "result = 3 + 1.5 + 4\n",
    "print (type(result)) # the type of the result is float"
   ]
  },
  {
   "cell_type": "markdown",
   "id": "f6df1b75",
   "metadata": {},
   "source": [
    "What would you use to find a number’s square root, as well as its square? "
   ]
  },
  {
   "cell_type": "code",
   "execution_count": null,
   "id": "6746ec26",
   "metadata": {},
   "outputs": [],
   "source": [
    "#what would you use to find a number's square root, as well as its square?\n",
    "import math\n",
    "x = math.sqrt(16) # square root\n",
    "y = 16**2 # square\n",
    "\n",
    "#print the result of the square root and the square\n",
    "print (x,y, sep=\"\\n\")\n",
    "\n"
   ]
  },
  {
   "cell_type": "markdown",
   "id": "91e67351",
   "metadata": {},
   "source": [
    "## Strings\n",
    "- Given the string 'hello' give an index command that returns 'e'.\n",
    "- Reverse the string 'hello' using slicing:\n",
    "- Given the string hello, give two methods of producing the letter 'o' using indexing.\n"
   ]
  },
  {
   "cell_type": "code",
   "execution_count": null,
   "id": "3ff6f1e7",
   "metadata": {},
   "outputs": [],
   "source": [
    "# given the string 'hello' give an index command that returns 'e'.\n",
    "string = 'Hello'\n",
    "index = string[1]\n",
    "print (index)"
   ]
  },
  {
   "cell_type": "code",
   "execution_count": null,
   "id": "d5db3f23",
   "metadata": {},
   "outputs": [],
   "source": [
    "# reverse the string 'hello' using indexing\n",
    "string = 'hello'\n",
    "reverse_string = string[::-1]\n",
    "print (reverse_string)\n",
    "\n",
    "# Given that you can access an index of a string, what is the relationship between string[0] and string[1]?"
   ]
  },
  {
   "cell_type": "code",
   "execution_count": null,
   "id": "3b58888e",
   "metadata": {},
   "outputs": [],
   "source": [
    "# method 1  to return the letter 'o'\n",
    "string = 'hello'\n",
    "method1 = string[-1] # return the letter 'o'\n",
    "\n",
    "# method 2 to return the letter 'o'\n",
    "method2 = string[4] # return the letter 'o'\n",
    "\n",
    "print (method1, method2, sep=\"\\n\")\n",
    "\n"
   ]
  },
  {
   "cell_type": "markdown",
   "id": "ce8e6614",
   "metadata": {},
   "source": [
    "## Lists\n",
    "- Build this list [0,0,0] two separate ways.\n",
    "- Reassign 'hello' in this nested list to say 'goodbye' instead: \n",
    "    - the list: list3 = [1,2,[3,4,'hello']]\n",
    "- Sort the list below:\n",
    "    - list4 = [5,3,4,6,1]\n"
   ]
  },
  {
   "cell_type": "code",
   "execution_count": null,
   "id": "4478188a",
   "metadata": {},
   "outputs": [],
   "source": [
    "# Build this list [0,0,0] two separate ways.\n",
    "# method 1: concatenation of lists\n",
    "first_list = [0]\n",
    "second_list = [0,0]\n",
    "my_list = first_list + second_list #concatenation of lists\n",
    "print (my_list)\n",
    "\n",
    "#method 2: using the list() function\n",
    "my_list = [0,0]\n",
    "my_list.append(0)\n",
    "print (my_list)\n",
    "\n",
    "#method 3: using the * 0\n",
    "my_list = [0]\n",
    "my_list = my_list * 3\n",
    "print (my_list)\n"
   ]
  },
  {
   "cell_type": "code",
   "execution_count": null,
   "id": "639bb943",
   "metadata": {},
   "outputs": [],
   "source": [
    "# reassign 'hello' in this nested list to say 'goodbye' instead: \n",
    "list3 = [1,2,[3,4,'hello']]\n",
    "list3[2][2] = 'goodbye'\n",
    "print (list3)\n"
   ]
  },
  {
   "cell_type": "code",
   "execution_count": null,
   "id": "5b4a114b",
   "metadata": {},
   "outputs": [],
   "source": [
    "# sort list4 = [5,3,4,6,1]\n",
    "list4 = [5,3,4,6,1]\n",
    "list4.sort() # sort the list in ascending order\n",
    "print (list4)"
   ]
  },
  {
   "cell_type": "markdown",
   "id": "069f8356",
   "metadata": {},
   "source": [
    "## Dictionaries\n",
    "- Using keys and indexing, grab the 'hello' from the following dictionaries:\n",
    "- Can you sort a dictionary? Why or why not?"
   ]
  },
  {
   "cell_type": "code",
   "execution_count": null,
   "id": "37c90c87",
   "metadata": {},
   "outputs": [],
   "source": [
    "#grab the 'hello' from the following dictionaries:\n",
    "d = {'simple_key':'hello'}\n",
    "print (d['simple_key'])\n",
    "\n",
    "#grab the 'hello' from the nested dictionary:\n",
    "d = {'k1':{'k2':'hello'}}\n",
    "d= d['k1']['k2']\n",
    "print (d)\n",
    "\n",
    "#grab the 'hello' from the list inside a dictionary:\n",
    "d = {'k1':[{'nest_key':['this is deep',['hello']]}]}\n",
    "d = d['k1'][0]['nest_key'][1][0]\n",
    "print (d)"
   ]
  },
  {
   "cell_type": "markdown",
   "id": "238c4694",
   "metadata": {},
   "source": [
    "### why dictionary can't be sorted\n",
    "\n",
    "because they dictionary are bulit they try to find the most flexable place for key:value pair"
   ]
  },
  {
   "cell_type": "markdown",
   "id": "ac47438f",
   "metadata": {},
   "source": [
    "## Tuples\n",
    "- What is the major difference between tuples and lists?\n",
    "- How do you create a tuple?"
   ]
  },
  {
   "cell_type": "markdown",
   "id": "f8a5bea0",
   "metadata": {},
   "source": [
    "### What is the main difference between a tuple and a list?\n",
    "\n",
    "Tuples are immutable, meaning they cannot be changed after creation, while lists are mutable and can be modified.\n",
    "Tuples are defined using parentheses `()`, while lists are defined using square brackets `[]`."
   ]
  },
  {
   "cell_type": "markdown",
   "id": "04acf931",
   "metadata": {},
   "source": [
    "## Sets \n",
    "What is unique about a set?\n",
    "- Use a set to find the unique values of the list below:\n",
    "    - list5 = [1,2,2,33,4,4,11,22,3,3,2]\n"
   ]
  },
  {
   "cell_type": "code",
   "execution_count": null,
   "id": "156b5711",
   "metadata": {},
   "outputs": [],
   "source": [
    "#how to find the unique values of the list below:\n",
    "list5 = [1,2,2,33,4,4,11,22,3,3,2]\n",
    "uniqe_values = set(list5)  # Using a set to find unique values\n",
    "print(uniqe_values)\n",
    "\n"
   ]
  },
  {
   "cell_type": "markdown",
   "id": "41077754",
   "metadata": {},
   "source": [
    "## Booleans\n",
    "\n",
    "- What will be the resulting Boolean of the following pieces of code (answer fist then check by typing it in!)\n",
    "- What is the boolean output of the cell block below?\n"
   ]
  },
  {
   "cell_type": "code",
   "execution_count": null,
   "id": "7b73d23d",
   "metadata": {},
   "outputs": [],
   "source": [
    "a = 2 > 3       # False\n",
    "b = 3 <= 2      # False\n",
    "c = 3 == 2.0    # False\n",
    "d = 3.0 == 3    # True\n",
    "e = 4**0.5 != 2 # False \n",
    "print(a, b, c, d, e, sep=\"\\n\")"
   ]
  },
  {
   "cell_type": "code",
   "execution_count": null,
   "id": "1dbdc531",
   "metadata": {},
   "outputs": [],
   "source": [
    "# two nested lists\n",
    "l_one = [1,2,[3,4]]\n",
    "l_two = [1,2,{'k1':4}]\n",
    "\n",
    "# What will be the resulting Boolean of the following pieces of code \n",
    "l_one[2][0] >= l_two[2]['k1'] # l_one is 3, L_two is 4, so the result is False\n",
    "\n"
   ]
  }
 ],
 "metadata": {
  "kernelspec": {
   "display_name": "Python 3",
   "language": "python",
   "name": "python3"
  },
  "language_info": {
   "codemirror_mode": {
    "name": "ipython",
    "version": 3
   },
   "file_extension": ".py",
   "mimetype": "text/x-python",
   "name": "python",
   "nbconvert_exporter": "python",
   "pygments_lexer": "ipython3",
   "version": "3.11.9"
  }
 },
 "nbformat": 4,
 "nbformat_minor": 5
}
