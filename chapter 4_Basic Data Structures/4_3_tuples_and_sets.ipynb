{
 "cells": [
  {
   "cell_type": "markdown",
   "metadata": {},
   "source": [
    "## Data Structures: Tupeles & Sets\n",
    "\n",
    " **Sets**: \n",
    " \n",
    "- **Declaring**: Are declared with curly by `{}`. \n",
    "- **Uniqueness**: All elements in a set must be unique. \n",
    "- **Unordered**: The order doesn't matter.\n",
    "- **Unsubscriptable**: Sets do not support indexing or slicing like lists or tuples\n",
    " \n",
    " **Modifying Sets**:\n",
    "- `add`: Adds an element to the end of the list.\n",
    "- `pop()`: Removes an element from the set, but because sets are unordered then we can't know which element will be popped\n",
    "- `discard()`: Removes the occurrence of a specified element.\n",
    "- `remove()`: act the same as `discrad()`\n",
    "- `union()`: Combines elements from two sets, removing duplicates.\n",
    "- `intersection()`: Returns elements common to both sets.\n",
    "- `difference`: Returns elements present in the first set but not in the second.\n",
    "- `symmetric difference`: Returns elements present in either set, but not in both\n",
    "\n",
    " **Finding items in Set**:\n",
    "- `in`: operator to detect membership in a set\n",
    "\n",
    "**set Length**: By using the `len()` method we can get the number of items within the set.\n"
   ]
  },
  {
   "cell_type": "code",
   "execution_count": 1,
   "metadata": {},
   "outputs": [
    {
     "name": "stdout",
     "output_type": "stream",
     "text": [
      "{'a', 'c', 'b'}\n",
      "{'a', 'c', 'b'}\n"
     ]
    }
   ],
   "source": [
    "myset= {'a','b','c'}\n",
    "#we can also use the 'set' constractor\n",
    "alsomyset= set(['a','b','c','c'])\n",
    "print(myset, alsomyset, sep='\\n')\n"
   ]
  },
  {
   "cell_type": "code",
   "execution_count": 2,
   "metadata": {},
   "outputs": [
    {
     "data": {
      "text/plain": [
       "{'a', 'b', 'c', 'd'}"
      ]
     },
     "execution_count": 2,
     "metadata": {},
     "output_type": "execute_result"
    }
   ],
   "source": [
    "#we can use the add fuction to `add` elements to a set\n",
    "myset.add('d')\n",
    "myset\n"
   ]
  },
  {
   "cell_type": "code",
   "execution_count": 3,
   "metadata": {},
   "outputs": [
    {
     "name": "stdout",
     "output_type": "stream",
     "text": [
      "True\n",
      "False\n",
      "4\n"
     ]
    }
   ],
   "source": [
    "# detect membership in a set by using the 'in' operator\n",
    "membershipinmyset= 'a' in myset\n",
    "print(membershipinmyset)\n",
    "\n",
    "unmemebr= 'z' in myset\n",
    "print(unmemebr)\n",
    "\n",
    "#set has a length like list\n",
    "mysetlen= len(myset)\n",
    "print(mysetlen)"
   ]
  },
  {
   "cell_type": "code",
   "execution_count": 4,
   "metadata": {},
   "outputs": [
    {
     "name": "stdout",
     "output_type": "stream",
     "text": [
      "a\n",
      "d\n",
      "c\n",
      "b\n",
      "{'d', 'c', 'b'}\n"
     ]
    }
   ],
   "source": [
    "#remove an element from a set by using pop()\n",
    "while len (myset):\n",
    "    print(myset.pop())\n",
    "\n",
    "#removing an element by using discard()\n",
    "myset= {'a','b','c','d'}\n",
    "myset.discard('a')\n",
    "print (myset)\n"
   ]
  },
  {
   "cell_type": "code",
   "execution_count": 5,
   "metadata": {},
   "outputs": [
    {
     "name": "stdout",
     "output_type": "stream",
     "text": [
      "{1, 3, 5, 7, 8, 9, 10, 11}\n",
      "{1, 3, 5, 7, 9}\n"
     ]
    }
   ],
   "source": [
    "# Union sets: combine and remove duplicate\n",
    "#define basic data sets\n",
    "myset1= {1,3,5,7,8,9,10}\n",
    "myset2={1,3,5,7,9,11}\n",
    "\n",
    "#union the set into one set\n",
    "unionsets= myset1.union(myset2)\n",
    "print(unionsets)\n",
    "\n",
    "#intersection between sets: return the common elements \n",
    "intercationsets= myset1.intersection(myset2)\n",
    "print(intercationsets)"
   ]
  },
  {
   "cell_type": "code",
   "execution_count": 6,
   "metadata": {},
   "outputs": [
    {
     "name": "stdout",
     "output_type": "stream",
     "text": [
      "{8, 10}\n",
      "{8, 10}\n"
     ]
    }
   ],
   "source": [
    "# difference only unique elements for myset1\n",
    "difference_set = myset1.difference(myset2)\n",
    "print(difference_set) \n",
    "\n",
    "# we can also use the `-` operator\n",
    "print(myset1 - myset2)"
   ]
  },
  {
   "cell_type": "code",
   "execution_count": 7,
   "metadata": {},
   "outputs": [
    {
     "name": "stdout",
     "output_type": "stream",
     "text": [
      "{8, 10, 11}\n"
     ]
    }
   ],
   "source": [
    "symmetric_difference_set = myset1.symmetric_difference(myset2)\n",
    "print (symmetric_difference_set)"
   ]
  },
  {
   "cell_type": "markdown",
   "metadata": {},
   "source": [
    " **Tuples**: \n",
    " \n",
    "- **Declaring**: Are declared with curly by `()`. \n",
    "- **Allows Duplicates**: Tuples can contain duplicate elements. \n",
    "- **ordered**: The order of elements in a tuple is preserved.\n",
    "- **Immutable**: Once a tuple is created, its elements cannot be changed.\n",
    "- **subscriptable**: tuples do support indexing and slicing like lists\n",
    " \n",
    " **Why we need Tuples?**:\n",
    "- they are more efficent then `lists`.\n",
    "- they don't grow or change\n",
    "- python store them compactly\n",
    "\n",
    " **Finding items in Tuple**:\n",
    "- `in`: operator to detect membership in a set\n",
    "\n",
    "**Tuple Length**: By using the `len()` method we can get the number of items within the tuple.\n"
   ]
  },
  {
   "cell_type": "code",
   "execution_count": 5,
   "metadata": {},
   "outputs": [
    {
     "name": "stdout",
     "output_type": "stream",
     "text": [
      "('a', 'b', 'c')\n",
      "<class 'tuple'>\n"
     ]
    }
   ],
   "source": [
    "# basic tuple\n",
    "mytuple= ('a','b','c')\n",
    "print(mytuple)\n",
    "print(type(mytuple))"
   ]
  },
  {
   "cell_type": "code",
   "execution_count": 6,
   "metadata": {},
   "outputs": [
    {
     "name": "stdout",
     "output_type": "stream",
     "text": [
      "a\n"
     ]
    }
   ],
   "source": [
    "#get the first element:\n",
    "print(mytuple[0])"
   ]
  },
  {
   "cell_type": "code",
   "execution_count": 7,
   "metadata": {},
   "outputs": [
    {
     "data": {
      "text/plain": [
       "tuple"
      ]
     },
     "execution_count": 7,
     "metadata": {},
     "output_type": "execute_result"
    }
   ],
   "source": [
    "#python return tuples by defult \n",
    "def returnmultivalue():\n",
    "    return 1,2,3\n",
    "\n",
    "type(returnmultivalue())"
   ]
  },
  {
   "cell_type": "code",
   "execution_count": 8,
   "metadata": {},
   "outputs": [
    {
     "name": "stdout",
     "output_type": "stream",
     "text": [
      "1\n",
      "2\n",
      "3\n"
     ]
    }
   ],
   "source": [
    "# tuples unpacking\n",
    "\n",
    "a,b,c= returnmultivalue()\n",
    "print(a)\n",
    "print(b)\n",
    "print(c)"
   ]
  }
 ],
 "metadata": {
  "kernelspec": {
   "display_name": "Python 3",
   "language": "python",
   "name": "python3"
  },
  "language_info": {
   "codemirror_mode": {
    "name": "ipython",
    "version": 3
   },
   "file_extension": ".py",
   "mimetype": "text/x-python",
   "name": "python",
   "nbconvert_exporter": "python",
   "pygments_lexer": "ipython3",
   "version": "3.12.4"
  }
 },
 "nbformat": 4,
 "nbformat_minor": 2
}
