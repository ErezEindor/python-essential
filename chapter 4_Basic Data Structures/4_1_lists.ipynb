{
 "cells": [
  {
   "cell_type": "markdown",
   "metadata": {},
   "source": [
    "## Data Structures: Lists\n",
    "\n",
    "- **List Slicing**: Extract specific portions of a list using indices, similar to string slicing.\n",
    "- **Modifying Lists**:\n",
    "    - `append()`: Adds an element to the end of the list.\n",
    "    - `insert()`: Inserts an element at a specified position.\n",
    "    - `extend([])`: Adds elements from an iterable (e.g., list) to the end of the list.\n",
    "    - `remove()`: Removes the first occurrence of a specified element.\n",
    "    - `pop()`: Removes and returns the element at a specified position (or the last element if no index is specified).\n",
    "    - `sort()`: Sorts the elements of the list in ascending order (in-place).\n",
    "    - `reverse()`: Reverses the elements of the list (in-place).\n",
    "- **Finding items in list**:\n",
    "    - `index()`: Returns the index of the first occurrence of a specified element.\n",
    "    - `count()`: Returns the number of occurrences of a specified element.\n",
    "- **List Length**: By using the `len()` method we can get the number of items within the list.\n"
   ]
  },
  {
   "cell_type": "markdown",
   "metadata": {},
   "source": [
    "#### List Slicing "
   ]
  },
  {
   "cell_type": "code",
   "execution_count": 50,
   "metadata": {},
   "outputs": [
    {
     "name": "stdout",
     "output_type": "stream",
     "text": [
      "[4, 5]\n",
      "[1, 3, 5]\n",
      "[0, 1, 2, 3, 4, 5, 6, 7, 8, 9, 10, 11, 12, 13, 14, 15, 16, 17, 18, 19, 20, 21, 22, 23, 24, 25, 26, 27, 28, 29, 30, 31, 32, 33, 34, 35, 36, 37, 38, 39, 40, 41, 42, 43, 44, 45, 46, 47, 48, 49, 50, 51, 52, 53, 54, 55, 56, 57, 58, 59, 60, 61, 62, 63, 64, 65, 66, 67, 68, 69, 70, 71, 72, 73, 74, 75, 76, 77, 78, 79, 80, 81, 82, 83, 84, 85, 86, 87, 88, 89, 90, 91, 92, 93, 94, 95, 96, 97, 98, 99]\n",
      "[0, 5, 10, 15, 20, 25, 30, 35, 40, 45, 50, 55, 60, 65, 70, 75, 80, 85, 90, 95]\n",
      "[5, 4, 3, 2, 1]\n"
     ]
    }
   ],
   "source": [
    "# create mylist:\n",
    "mylist= [1,2,3,4,5]\n",
    "\n",
    "#choosing an items from mylist:\n",
    "print(mylist[3:])\n",
    "\n",
    "#using steps for chooseing items (every 2nd item):\n",
    "print(mylist[::2])\n",
    "\n",
    "#using the range function to create a list: remember that the range is up to n not including n\n",
    "newlist= list(range (100))\n",
    "print(newlist)\n",
    "#side steping the new list:\n",
    "print(newlist[::5])\n",
    "#printing the list backwards: by using -1\n",
    "print(mylist[::-1])"
   ]
  },
  {
   "cell_type": "markdown",
   "metadata": {},
   "source": [
    "#### Modifying Lists"
   ]
  },
  {
   "cell_type": "code",
   "execution_count": 51,
   "metadata": {},
   "outputs": [
    {
     "name": "stdout",
     "output_type": "stream",
     "text": [
      "[1, 2, 3, 4, 5]\n",
      "[1, 2, 3, 4, 5, 6]\n",
      "[1, 2, 3, 'my new value', 4, 5, 6]\n",
      "[1, 2, 3, 'my new value', 4, 5, 6, 6, 7, 8]\n"
     ]
    }
   ],
   "source": [
    "#using mylist to modify the data: append \n",
    "print (mylist)\n",
    "mylist.append(6)\n",
    "#print the mylist after the append\n",
    "print(mylist)\n",
    "\n",
    "#using insert to add an index and a value: remember list start from 0 \n",
    "mylist.insert(3,'my new value')\n",
    "print(mylist)\n",
    "\n",
    "#insert multiple items:\n",
    "mylist.extend([6,7,8])\n",
    "print(mylist)"
   ]
  },
  {
   "cell_type": "code",
   "execution_count": 52,
   "metadata": {},
   "outputs": [
    {
     "name": "stdout",
     "output_type": "stream",
     "text": [
      "[1, 2, 3, 4, 5, 6, 6, 7, 8]\n",
      "[1, 2, 3, 4, 5, 6, 6, 7]\n"
     ]
    }
   ],
   "source": [
    "#removing items for a list:\n",
    "\n",
    "#using remove: we need to pass an item\n",
    "mylist.remove('my new value')\n",
    "print(mylist)\n",
    "\n",
    "#using pop: pop will remove the last item on the list\n",
    "mylist.pop()\n",
    "print(mylist)\n",
    "\n"
   ]
  },
  {
   "cell_type": "code",
   "execution_count": 53,
   "metadata": {},
   "outputs": [
    {
     "name": "stdout",
     "output_type": "stream",
     "text": [
      "7\n",
      "6\n",
      "6\n",
      "5\n",
      "4\n",
      "3\n",
      "2\n",
      "1\n"
     ]
    }
   ],
   "source": [
    "#how to pop every item in a list:\n",
    "while len(mylist):\n",
    "    print(mylist.pop())"
   ]
  },
  {
   "cell_type": "markdown",
   "metadata": {},
   "source": [
    "#### List sorting "
   ]
  },
  {
   "cell_type": "code",
   "execution_count": 54,
   "metadata": {},
   "outputs": [
    {
     "name": "stdout",
     "output_type": "stream",
     "text": [
      "[1, 1, 2, 3, 4, 4, 5, 6, 7, 7, 8, 8, 9, 11]\n",
      "[11, 9, 8, 8, 7, 7, 6, 5, 4, 4, 3, 2, 1, 1]\n"
     ]
    }
   ],
   "source": [
    "# sorting items in a list:\n",
    "mylist= [1,1,4,7,8,9,11,7,4,2,3,6,5,8]\n",
    "mylist.sort()\n",
    "print(mylist)\n",
    "\n",
    "#revese items within a list:\n",
    "mylist.reverse()\n",
    "print(mylist)\n"
   ]
  },
  {
   "cell_type": "code",
   "execution_count": 55,
   "metadata": {},
   "outputs": [
    {
     "name": "stdout",
     "output_type": "stream",
     "text": [
      "2\n",
      "3\n"
     ]
    }
   ],
   "source": [
    "#finding items within a list:\n",
    "\n",
    "#finding the index of an item:\n",
    "mylist= [1,2,3,4,5,3,3]\n",
    "index_of_3= mylist.index(3) #serching for the frist index of the num 3 \n",
    "print(index_of_3)\n",
    "\n",
    "#counting the num of occurrences:\n",
    "count_occurrences_of_3= mylist.count(3)\n",
    "print(count_occurrences_of_3) "
   ]
  },
  {
   "cell_type": "code",
   "execution_count": 56,
   "metadata": {},
   "outputs": [
    {
     "name": "stdout",
     "output_type": "stream",
     "text": [
      "[1, 2, 3, 4, 5, 6]\n"
     ]
    }
   ],
   "source": [
    "#how computer write value in memory: b is pointing to the location of a in memory  \n",
    "a= [1,2,3,4,5]\n",
    "b= a\n",
    "a.append(6)\n",
    "print(b)"
   ]
  },
  {
   "cell_type": "code",
   "execution_count": 57,
   "metadata": {},
   "outputs": [
    {
     "name": "stdout",
     "output_type": "stream",
     "text": [
      "[1, 2, 3, 4, 5, 6]\n",
      "[1, 2, 3, 4, 5]\n"
     ]
    }
   ],
   "source": [
    "# create a copy of the list and a new place in the memory:\n",
    "a= [1,2,3,4,5]\n",
    "b= a.copy()\n",
    "a.append(6)\n",
    "print(a)\n",
    "print(b)\n"
   ]
  }
 ],
 "metadata": {
  "kernelspec": {
   "display_name": "Python 3",
   "language": "python",
   "name": "python3"
  },
  "language_info": {
   "codemirror_mode": {
    "name": "ipython",
    "version": 3
   },
   "file_extension": ".py",
   "mimetype": "text/x-python",
   "name": "python",
   "nbconvert_exporter": "python",
   "pygments_lexer": "ipython3",
   "version": "3.12.2"
  }
 },
 "nbformat": 4,
 "nbformat_minor": 2
}
