{
 "cells": [
  {
   "cell_type": "markdown",
   "metadata": {},
   "source": [
    "## Coding Challenges: Dictionaries\n",
    "\n",
    "1. **Basic Dictionary Operations**\n",
    "    - Create a dictionary called person with the keys \"name\", \"age\", and \"city\" with appropriate values.\n",
    "    - Add a new key \"email\" with a value to the dictionary.\n",
    "    - Update the \"age\" value to a new value.\n",
    "    - Remove the \"city\" key from the dictionary.\n",
    "2. **Accessing and Modifying Dictionaries**\n",
    "    - Use the keys(), values(), and items() methods on the person dictionary.\n",
    "    - Use the get() method to safely retrieve the value for a non-existent key \"phone\" with a default value of \"Not Available\".\n",
    "3. **Looping through Dictionaries**\n",
    "    - Loop through the person dictionary and print all the keys.\n",
    "    - Loop through the person dictionary and print all the key-value pair\n",
    "4. **Nested Dictionaries**\n",
    "    - Create a nested dictionary called classroom with two students. Each student should have a name, age, and a list of courses.\n",
    "    - Access and print the name of the first student\n",
    "    - Add a new course to the list of the second student\n",
    "5. **defaultdict**\n",
    "    - Create a defaultdict of lists called animal_classes\n",
    "    - Add the animals \"lion\" and \"leopard\" to the key \"mammals\"\n",
    "    - Add the animals \"eagle\" and \"sparrow\" to the key \"birds\"\n",
    "    - Print the defaultdict\n",
    "6. **Dictionary Comprehensions**\n",
    "    - Create a dictionary comprehension that maps the numbers 1 to 5 to their squares.\n",
    "7. **Complex Operations with Dictionaries**\n",
    "    - Write a function char_frequency that takes a string as input and returns a dictionary with the frequency count of each character in the string."
   ]
  },
  {
   "cell_type": "code",
   "execution_count": 2,
   "metadata": {},
   "outputs": [
    {
     "name": "stdout",
     "output_type": "stream",
     "text": [
      "{'name': 'Erez', 'age': '41', 'city': 'Herzliya'}\n",
      "{'name': 'Erez', 'age': '41', 'city': 'Herzliya', 'email': 'erez@123.com'}\n",
      "{'name': 'Erez', 'age': '40', 'city': 'Herzliya', 'email': 'erez@123.com'}\n",
      "{'name': 'Erez', 'age': '40', 'email': 'erez@123.com'}\n"
     ]
    }
   ],
   "source": [
    "#create basic dict\n",
    "person= {\n",
    "    'name':'Erez',\n",
    "    'age':'41',\n",
    "    'city':'Herzliya',\n",
    "}\n",
    "print(person)\n",
    "\n",
    "#add new key email\n",
    "person['email']= 'erez@123.com'\n",
    "print(person)\n",
    "#update age:\n",
    "person['age']='40'\n",
    "print(person)\n",
    "#remove city\n",
    "del person['city']\n",
    "print(person)"
   ]
  },
  {
   "cell_type": "code",
   "execution_count": 5,
   "metadata": {},
   "outputs": [
    {
     "name": "stdout",
     "output_type": "stream",
     "text": [
      "dict_values(['Erez', '40', 'erez@123.com'])\n",
      "dict_keys(['name', 'age', 'email'])\n",
      "dict_items([('name', 'Erez'), ('age', '40'), ('email', 'erez@123.com')])\n"
     ]
    },
    {
     "data": {
      "text/plain": [
       "'Not Available'"
      ]
     },
     "execution_count": 5,
     "metadata": {},
     "output_type": "execute_result"
    }
   ],
   "source": [
    "#use the dict_object to get values\n",
    "print(person.values(), person.keys(), person.items(),sep='\\n')\n",
    "\n",
    "#use the 'get' method to get the value for 'phone'\n",
    "person.get('phone','Not Available') "
   ]
  },
  {
   "cell_type": "code",
   "execution_count": 7,
   "metadata": {},
   "outputs": [
    {
     "name": "stdout",
     "output_type": "stream",
     "text": [
      "name\n",
      "age\n",
      "email\n",
      "name Erez\n",
      "age 40\n",
      "email erez@123.com\n"
     ]
    }
   ],
   "source": [
    "#loop through person to retrive all the keys\n",
    "for key in person:\n",
    "    print(key)\n",
    "\n",
    "#loop through person to retrive all key-value pairs\n",
    "for key, value in person.items():\n",
    "    print (key, value)"
   ]
  },
  {
   "cell_type": "code",
   "execution_count": 11,
   "metadata": {},
   "outputs": [
    {
     "name": "stdout",
     "output_type": "stream",
     "text": [
      "{'student1': {'name': 'erez', 'age': '41', 'courses': ['DE', 'MLops']}, 'student2': {'name': 'anat', 'age': '25', 'courses': ['psychology', 'Reiki']}}\n",
      "erez\n",
      "['psychology', 'Reiki', 'clinical psychology']\n"
     ]
    }
   ],
   "source": [
    "#create a nested dict called classroom\n",
    "classroom= {\n",
    "    'student1':{\n",
    "        'name':'erez',\n",
    "        'age':41,\n",
    "        'courses':['DE','MLops'],\n",
    "    },\n",
    "    'student2':{\n",
    "        'name':'anat',\n",
    "        'age':25,\n",
    "        'courses':['psychology','Reiki'],\n",
    "    },\n",
    "}\n",
    "print(classroom)\n",
    "\n",
    "#print the name of the first student\n",
    "print (classroom['student1']['name'])\n",
    "\n",
    "#Add a new course to the list of the second student\n",
    "classroom['student2']['courses'].append('clinical psychology')\n",
    "print(classroom['student2']['courses'])"
   ]
  },
  {
   "cell_type": "code",
   "execution_count": 20,
   "metadata": {},
   "outputs": [
    {
     "name": "stdout",
     "output_type": "stream",
     "text": [
      "defaultdict(<class 'list'>, {'mammals': ['lion', 'leopard'], 'birds': ['eagle', 'sparrow']})\n"
     ]
    }
   ],
   "source": [
    "# import defaultdict\n",
    "from collections import defaultdict\n",
    "\n",
    "#create animal_classes defultdict\n",
    "animal_classes= defaultdict(list)\n",
    "#print (animal_classes)\n",
    "animal_classes['mammals'].append('lion')\n",
    "animal_classes['mammals'].append('leopard')\n",
    "#print(animal_classes)\n",
    "animal_classes['birds'].append('eagle')\n",
    "animal_classes['birds'].append('sparrow')\n",
    "print(animal_classes)"
   ]
  },
  {
   "cell_type": "code",
   "execution_count": 21,
   "metadata": {},
   "outputs": [
    {
     "name": "stdout",
     "output_type": "stream",
     "text": [
      "{0: 0, 1: 1, 2: 4, 3: 9, 4: 16, 5: 25}\n"
     ]
    }
   ],
   "source": [
    "#create a dict_Comprehensions \n",
    "sqoure_dict= {x:x*x for x in range (6)}\n",
    "print (sqoure_dict)"
   ]
  },
  {
   "cell_type": "code",
   "execution_count": 22,
   "metadata": {},
   "outputs": [
    {
     "name": "stdout",
     "output_type": "stream",
     "text": [
      "{'e': 2, 'r': 1, 'z': 1}\n"
     ]
    }
   ],
   "source": [
    "#Write a function char_frequency that takes a string as input and returns a dictionary with the frequency count of each character in the string.\n",
    "def char_frequency(string_input):\n",
    "    char_count={}\n",
    "    for char in string_input:\n",
    "        if char in char_count:\n",
    "            char_count[char] += 1\n",
    "        else:\n",
    "            char_count[char]= 1\n",
    "    return char_count\n",
    "\n",
    "#test the function \n",
    "string_input='erez'\n",
    "print(char_frequency(string_input))"
   ]
  }
 ],
 "metadata": {
  "kernelspec": {
   "display_name": "Python 3",
   "language": "python",
   "name": "python3"
  },
  "language_info": {
   "codemirror_mode": {
    "name": "ipython",
    "version": 3
   },
   "file_extension": ".py",
   "mimetype": "text/x-python",
   "name": "python",
   "nbconvert_exporter": "python",
   "pygments_lexer": "ipython3",
   "version": "3.12.4"
  }
 },
 "nbformat": 4,
 "nbformat_minor": 2
}
