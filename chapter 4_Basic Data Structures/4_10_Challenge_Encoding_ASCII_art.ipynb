{
 "cells": [
  {
   "cell_type": "markdown",
   "metadata": {},
   "source": [
    "## Encoding ASCII art\n",
    "\n",
    "A string like 'AAAAABBBBAAA' can be efficiently represented as \"5 a's followed by 4 b's followed by 3 a's.\" This is called [run-length encoding](https://en.wikipedia.org/wiki/Run-length_encoding).\n",
    "\n",
    "We will use this concept to efficiently compress a string containing an [ASCII Art](https://en.wikipedia.org/wiki/ASCII_art) smiley face.\n",
    "\n",
    "**Your Task**:\n",
    "\n",
    "Write a function `encodeString` that will encode a string like 'AAAAABBBBAAA' and return a list of tuples: `[('A', 5), ('B', 4), ('A', 3)]`, meaning that the string has \"5 a's, followed by 4 b's, followed by 3 a's.\"\n",
    "\n",
    "Write a corresponding function `decodeString` that will take in a list of tuples and print the original string.\n",
    "\n",
    "**Constraints**:\n",
    "\n",
    "- No need to check inputs; all test cases will be strings.\n"
   ]
  },
  {
   "cell_type": "code",
   "execution_count": 3,
   "metadata": {},
   "outputs": [
    {
     "name": "stdout",
     "output_type": "stream",
     "text": [
      "[('A', 5), ('B', 4), ('A', 3)]\n"
     ]
    }
   ],
   "source": [
    "#basic string\n",
    "expstring= 'AAAAABBBBAAA'\n",
    "\n",
    "#create function\n",
    "def encodeString(stringVal):\n",
    "    if not stringVal:\n",
    "        return []\n",
    "    \n",
    "    #Initialize var for to keep track of the result\n",
    "    result = []\n",
    "    current_i = stringVal[0]\n",
    "    count = 1\n",
    "\n",
    "    #handle the loop\n",
    "    for i in stringVal[1:]:\n",
    "        if i == current_i:\n",
    "            count += 1\n",
    "    #handle the =!\n",
    "        else:\n",
    "            result.append((current_i,count))\n",
    "            current_i= i\n",
    "            count= 1\n",
    "    result.append((current_i,count))\n",
    "    return result\n",
    "\n",
    "#check function:\n",
    "print(encodeString(expstring))\n"
   ]
  },
  {
   "cell_type": "code",
   "execution_count": 18,
   "metadata": {},
   "outputs": [
    {
     "name": "stdout",
     "output_type": "stream",
     "text": [
      "[('A', 5), ('B', 4), ('A', 3)]\n",
      "AAAAABBBBAAA\n"
     ]
    }
   ],
   "source": [
    "#example list of tuples\n",
    "mylist= [('A',5),('B',4),('A',3)]\n",
    "print(mylist[0:])\n",
    "\n",
    "# create a decode function\n",
    "def decodeString(encodedList):\n",
    "    if not encodedList:\n",
    "        return ''\n",
    "    # Initialize \n",
    "    result= ''\n",
    "    for char, value in mylist:\n",
    "        result += char*value\n",
    "    \n",
    "    return result\n",
    "\n",
    "#check function\n",
    "print(decodeString(mylist))\n",
    "     \n",
    "        \n"
   ]
  }
 ],
 "metadata": {
  "kernelspec": {
   "display_name": "Python 3",
   "language": "python",
   "name": "python3"
  },
  "language_info": {
   "codemirror_mode": {
    "name": "ipython",
    "version": 3
   },
   "file_extension": ".py",
   "mimetype": "text/x-python",
   "name": "python",
   "nbconvert_exporter": "python",
   "pygments_lexer": "ipython3",
   "version": "3.12.4"
  }
 },
 "nbformat": 4,
 "nbformat_minor": 2
}
