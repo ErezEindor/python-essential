{
 "cells": [
  {
   "cell_type": "markdown",
   "metadata": {},
   "source": [
    "## Data Structures: List-Comprehensions\n",
    "\n",
    "A list comprehension in Python provides a concise way to create lists. It consists of brackets containing an expression followed by a `for` clause, and then zero or more for or if clauses.\n",
    "List comprehensions are:\n",
    "- **Declared**: with curly braces `[]`. \n",
    "- **Concise**: they allow for creating lists in a single line of code. \n",
    "- **Readable**: They are often more readable and expressive compared to traditional `for` loops.\n",
    "- **Versatile**:  They can include multiple `for` and `if` clauses for more complex operations.\n",
    "\n",
    "**List comprehensions with filters**:\n",
    "- This will generates a list where each element is the result of the expression applied to each item that meets the condition\n",
    "- **Syntax**: `[expression for item in iterable if condition]` \n",
    "    \n",
    " **Nested List Comprehensionss**:\n",
    "- This generates a nested list.\n",
    "- **Syntax**: `[[expression for item in iterable] for outer_item in outer_iterable]`\n"
   ]
  },
  {
   "cell_type": "code",
   "execution_count": 1,
   "metadata": {},
   "outputs": [
    {
     "name": "stdout",
     "output_type": "stream",
     "text": [
      "[2, 4, 6, 8, 10]\n"
     ]
    }
   ],
   "source": [
    "#basic syntax:\n",
    "mylist= [1,2,3,4,5]\n",
    "mylist_com= [2*i for i in mylist]\n",
    "print(mylist_com)"
   ]
  },
  {
   "cell_type": "markdown",
   "metadata": {},
   "source": [
    "#### List comprehensions with filters"
   ]
  },
  {
   "cell_type": "code",
   "execution_count": 5,
   "metadata": {},
   "outputs": [
    {
     "name": "stdout",
     "output_type": "stream",
     "text": [
      "[0, 10, 20, 30, 40, 50, 60, 70, 80, 90]\n"
     ]
    }
   ],
   "source": [
    "#create a list of the numbers for 0-99\n",
    "mylist2= list(range(100))\n",
    "filterlist= [i for i in mylist2 if i % 10 == 0]\n",
    "print(filterlist)"
   ]
  },
  {
   "cell_type": "markdown",
   "metadata": {},
   "source": [
    "#### List comprehensions with functions"
   ]
  },
  {
   "cell_type": "code",
   "execution_count": 17,
   "metadata": {},
   "outputs": [
    {
     "name": "stdout",
     "output_type": "stream",
     "text": [
      "['my', 'name', 'is', 'erez', 'ein-dor', 'i', 'live', 'in', 'herzliya']\n",
      "['my', 'is', 'i', 'in']\n"
     ]
    }
   ],
   "source": [
    "#List comprehensions with the fuction split\n",
    "mystring= 'My name is Erez Ein-Dor. I live in Herzliya'\n",
    "#mystring.split('.') # splint the string into a list by using a dlimeter\n",
    "#mystring.split() # if no dlimeter has been pass it will split by spaces \n",
    "\n",
    "#create a function that clean '.'\n",
    "def cleanword(word):\n",
    "    return word.replace('.', '').lower()  # This is called chaining functions\n",
    "\n",
    "#now lets use the function in a list com.\n",
    "\n",
    "my_new_list_com = [cleanword(word) for word in mystring.split()]\n",
    "print(my_new_list_com)\n",
    "\n",
    "#getting only the words that are < 3\n",
    "getting_smallerthen= [cleanword(word) for word in mystring.split() if len(cleanword(word)) < 3]\n",
    "print(getting_smallerthen)"
   ]
  },
  {
   "cell_type": "markdown",
   "metadata": {},
   "source": [
    "#### Nested list comprehensions"
   ]
  },
  {
   "cell_type": "code",
   "execution_count": 18,
   "metadata": {},
   "outputs": [
    {
     "name": "stdout",
     "output_type": "stream",
     "text": [
      "[['my', 'name', 'is', 'erez', 'ein-dor'], ['i', 'live', 'in', 'herzliya']]\n"
     ]
    }
   ],
   "source": [
    "nestedlist= [[cleanword(word) for word in s.split()] for s in mystring.split('.')]\n",
    "print(nestedlist)"
   ]
  }
 ],
 "metadata": {
  "kernelspec": {
   "display_name": "Python 3",
   "language": "python",
   "name": "python3"
  },
  "language_info": {
   "codemirror_mode": {
    "name": "ipython",
    "version": 3
   },
   "file_extension": ".py",
   "mimetype": "text/x-python",
   "name": "python",
   "nbconvert_exporter": "python",
   "pygments_lexer": "ipython3",
   "version": "3.12.4"
  }
 },
 "nbformat": 4,
 "nbformat_minor": 2
}
