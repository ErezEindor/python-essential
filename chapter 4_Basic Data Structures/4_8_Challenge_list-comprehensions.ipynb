{
 "cells": [
  {
   "cell_type": "markdown",
   "metadata": {},
   "source": [
    "## Coding Challenges: List Comprehensions\n",
    "\n",
    "1. Basic List Comprehension\n",
    "    - **Create a List of Cubes**: Use a list comprehension to create a list of cubes of the numbers from 1 to 10.\n",
    "2. Create a Filtered List\n",
    "    - Use a list comprehension to create a list of odd numbers from 1 to 20.\n",
    "3. List Comprehensions with String Split\n",
    "    - Extract Words with More Than 4 Letters\n",
    "    - Given the string `sentence`, use a list comprehension to extract words that have more than 4 letters.\n",
    "4. Conditional List Comprehension\n",
    "    - **Convert and Filter**: Given a list of temperatures in Celsius, use a list comprehension to convert them to Fahrenheit and filter out the temperatures that are above 75 Fahrenheit.\n",
    "5. Nested List Comprehensions\n",
    "    - **Create a Multiplication Table**: Use a nested list comprehension to create a 5x5 multiplication table.\n",
    "6. Flatten a Nested List\n",
    "    - **Flatten and Clean Nested List**: Given a nested list of words, use a list comprehension to flatten the list and clean the words (remove punctuation and convert to lowercase).\n",
    "\n",
    "\n"
   ]
  },
  {
   "cell_type": "code",
   "execution_count": 2,
   "metadata": {},
   "outputs": [
    {
     "name": "stdout",
     "output_type": "stream",
     "text": [
      "[1, 8, 27, 64, 125, 216, 343, 512, 729, 1000]\n"
     ]
    }
   ],
   "source": [
    "#challenge 1\n",
    "mylist= list (range(1,11))\n",
    "returncube= [i**3 for i in mylist]\n",
    "print(returncube)"
   ]
  },
  {
   "cell_type": "code",
   "execution_count": 6,
   "metadata": {},
   "outputs": [
    {
     "name": "stdout",
     "output_type": "stream",
     "text": [
      "[1, 3, 5, 7, 9, 11, 13, 15, 17, 19]\n"
     ]
    }
   ],
   "source": [
    "#challenge 2 \n",
    "oddlist= list(range(1,21))\n",
    "#print(oddlist)\n",
    "com_list_odd= [i for i in oddlist if i % 2 != 0]\n",
    "print(com_list_odd)"
   ]
  },
  {
   "cell_type": "code",
   "execution_count": 15,
   "metadata": {},
   "outputs": [
    {
     "name": "stdout",
     "output_type": "stream",
     "text": [
      "['quick', 'brown', 'jumps']\n"
     ]
    }
   ],
   "source": [
    "#challenge 3\n",
    "sentance= 'The quick brown fox jumps over the lazy dog'\n",
    "\n",
    "#create a list com. for len(i) > 4\n",
    "split_list= [i for i in sentance.split() if len(i) > 4]\n",
    "print(split_list)"
   ]
  },
  {
   "cell_type": "code",
   "execution_count": 32,
   "metadata": {},
   "outputs": [
    {
     "name": "stdout",
     "output_type": "stream",
     "text": [
      "[86.0, 104.0, 122.0]\n"
     ]
    }
   ],
   "source": [
    "#challenge 4 \n",
    "celsius = [0, 10, 20, 30, 40, 50]\n",
    "\n",
    "def convertcelsius (c):\n",
    "    return (c * 9/5)+32\n",
    "\n",
    "convertdegree= [convertcelsius(c) for c in celsius if convertcelsius(c) > 75]\n",
    "print(convertdegree)\n"
   ]
  },
  {
   "cell_type": "code",
   "execution_count": 35,
   "metadata": {},
   "outputs": [
    {
     "name": "stdout",
     "output_type": "stream",
     "text": [
      "[[10, 20, 30, 40, 50], [20, 40, 60, 80, 100], [30, 60, 90, 120, 150], [40, 80, 120, 160, 200], [50, 100, 150, 200, 250]]\n"
     ]
    }
   ],
   "source": [
    "#challenge 5\n",
    "'''\n",
    "row1= [1*i for i in range(1,6)]\n",
    "print(row1)\n",
    "column= [10,20,30,40,50]\n",
    "i= 3\n",
    "row_i= [i*j for j in range (1,6)]\n",
    "print(row_i)\n",
    "'''\n",
    "r_c= [[i*j for j in range (1,6)] for i in range (10,51,10)]\n",
    "print(r_c)"
   ]
  },
  {
   "cell_type": "code",
   "execution_count": 13,
   "metadata": {},
   "outputs": [
    {
     "name": "stdout",
     "output_type": "stream",
     "text": [
      "['hello', 'world', 'python', 'is', 'great', \"let's\", 'code']\n"
     ]
    }
   ],
   "source": [
    "# challenge 6\n",
    "nested_words = [[\"Hello,\", \"world!\"], [\"Python\", \"is\", \"great!\"], [\"Let's\", \"code.\"]]\n",
    "\n",
    "# clean fucntion\n",
    "def cleanlist(word):\n",
    "    return word.replace(',','').replace('.','').replace('!','').lower()\n",
    "\n",
    "# create list com. for split\n",
    "cleaned_flattened_list = [cleanlist(word) for sublist in nested_words for word in sublist]\n",
    "print(cleaned_flattened_list)"
   ]
  }
 ],
 "metadata": {
  "kernelspec": {
   "display_name": "Python 3",
   "language": "python",
   "name": "python3"
  },
  "language_info": {
   "codemirror_mode": {
    "name": "ipython",
    "version": 3
   },
   "file_extension": ".py",
   "mimetype": "text/x-python",
   "name": "python",
   "nbconvert_exporter": "python",
   "pygments_lexer": "ipython3",
   "version": "3.12.4"
  }
 },
 "nbformat": 4,
 "nbformat_minor": 2
}
