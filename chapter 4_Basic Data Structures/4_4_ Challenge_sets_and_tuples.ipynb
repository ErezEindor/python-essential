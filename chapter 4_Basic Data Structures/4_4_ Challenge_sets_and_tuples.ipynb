{
 "cells": [
  {
   "cell_type": "markdown",
   "metadata": {},
   "source": [
    "## Coding Challenges: Sets & Tuples\n",
    "\n",
    "### Challenge 1: Basic Set Operations\n",
    "\n",
    "1. Create a Set\n",
    "    - Create a `set` called colors with the elements 'red', 'green', and 'blue'.\n",
    "    - Add the color 'yellow' to the set.\n",
    "    - Remove the color 'red' from the set\n",
    "2. Set Membership\n",
    "    - Check if the color 'green' is in the set colors.\n",
    "    - Check if the color 'purple' is not in the set colors.\n",
    "\n",
    "### Challenge 2: Set Operations\n",
    "\n",
    "3. Union and Intersection\n",
    "    - Create two sets: set1 with the elements 1, 2, 3, 4 and set2 with the elements 3, 4, 5, 6.\n",
    "    - Find the union of set1 and set2.\n",
    "    - Find the intersection of set1 and set2.\n",
    "4. Difference and Symmetric Difference\n",
    "    - Find the difference of set1 from set2.\n",
    "    - Find the symmetric difference of set1 and set2.\n",
    "\n",
    "### Challenge 3: Basic Tuple Operations\n",
    "\n",
    "5. Create a Tuple\n",
    "    - Create a `tuple` called 'fruits' with the elements 'apple', 'banana', 'cherry'.\n",
    "    - Print the first element of the tuple.\n",
    "    - Print the last element of the tuple.\n",
    "6. Tuple Unpacking\n",
    "    - Create a function `coordinates` that returns a tuple with three values: 10, 20, 30.\n",
    "    - Unpack the returned values into variables x, y, z and print them.\n",
    "\n",
    "### Challenge 4: Advanced Set Operations\n",
    "\n",
    "7. Remove Duplicates\n",
    "    - Given a list numbers with the values [1, 2, 2, 3, 4, 4, 5], remove the duplicates by converting it to a set.\n",
    "    - Convert the set back to a list and print it.\n",
    "8. Set Comprehension\n",
    "    - Create a set comprehension that generates a set of squares of even numbers from 0 to 10\n",
    "\n",
    "### Challenge 5: Advanced Tuple Operations\n",
    "\n",
    "9. Tuple as Dictionary Keys\n",
    "    - Create a dictionary where the keys are tuples representing coordinates, e.g., (0, 0), (1, 2), and (2, 3).\n",
    "    - Assign a value to each key representing the sum of the coordinates.\n",
    "10. Return Multiple Values from Function\n",
    "    - Write a function `min_max_sum` that takes a list of numbers as input and returns a tuple with the minimum, maximum, and sum of the list.\n",
    "    - Call the function with a list of your choice and print the results.\n",
    "\n",
    "\n",
    "    "
   ]
  },
  {
   "cell_type": "code",
   "execution_count": 23,
   "metadata": {},
   "outputs": [
    {
     "name": "stdout",
     "output_type": "stream",
     "text": [
      "{'blue', 'red', 'green'}\n",
      "{'blue', 'yellow', 'red', 'green'}\n",
      "{'blue', 'yellow', 'green'}\n"
     ]
    }
   ],
   "source": [
    "#create set named colors\n",
    "colors= {'red','green','blue'}\n",
    "print(colors)\n",
    "\n",
    "#add 'yellow'\n",
    "colors.add('yellow')\n",
    "print(colors)\n",
    "\n",
    "#remove 'red'\n",
    "colors.discard('red')\n",
    "print(colors)"
   ]
  },
  {
   "cell_type": "code",
   "execution_count": 24,
   "metadata": {},
   "outputs": [
    {
     "name": "stdout",
     "output_type": "stream",
     "text": [
      "True\n",
      "False\n"
     ]
    }
   ],
   "source": [
    "#set membership - cheeck if 'green' is part of colors\n",
    "check_green= 'green' in colors\n",
    "print (check_green)\n",
    "\n",
    "#set membership - check if 'purple' is not in the set colors\n",
    "check_purple= 'purple' in colors\n",
    "print (check_purple)"
   ]
  },
  {
   "cell_type": "code",
   "execution_count": 25,
   "metadata": {},
   "outputs": [
    {
     "name": "stdout",
     "output_type": "stream",
     "text": [
      "{1, 2, 3, 4}\n",
      "{3, 4, 5, 6}\n",
      "{1, 2, 3, 4, 5, 6}\n",
      "{3, 4}\n"
     ]
    }
   ],
   "source": [
    "#Set Union and Intersection\n",
    "set1= {1, 2, 3, 4}\n",
    "set2= {3, 4, 5, 6}\n",
    "print(set1, set2, sep= '\\n')\n",
    "union_sets= set1.union(set2)\n",
    "print(union_sets)\n",
    "intersection_sets= set1.intersection(set2)\n",
    "print(intersection_sets)"
   ]
  },
  {
   "cell_type": "code",
   "execution_count": 26,
   "metadata": {},
   "outputs": [
    {
     "name": "stdout",
     "output_type": "stream",
     "text": [
      "{1, 2}\n",
      "{1, 2, 5, 6}\n"
     ]
    }
   ],
   "source": [
    "#Difference - only the unique element from set1\n",
    "difference_set = set1.difference(set2)\n",
    "print(difference_set)\n",
    "\n",
    "#symmetric difference- Returns elements present in either set, but not in both\n",
    "symmetric_difference= set1.symmetric_difference(set2)\n",
    "print(symmetric_difference)"
   ]
  },
  {
   "cell_type": "code",
   "execution_count": 27,
   "metadata": {},
   "outputs": [
    {
     "name": "stdout",
     "output_type": "stream",
     "text": [
      "apple\n",
      "cherry\n"
     ]
    }
   ],
   "source": [
    "#Create tuple 'fruits'\n",
    "fruits= ('apple', 'banana', 'cherry')\n",
    "print(fruits[0],fruits[-1],sep='\\n')"
   ]
  },
  {
   "cell_type": "code",
   "execution_count": 28,
   "metadata": {},
   "outputs": [
    {
     "name": "stdout",
     "output_type": "stream",
     "text": [
      "10\n",
      "20\n",
      "10\n"
     ]
    }
   ],
   "source": [
    "# create func coordinates\n",
    "def coordinates():\n",
    "    return 10, 20, 30\n",
    "#print (type(coordinates()))\n",
    "\n",
    "#tuple unpack\n",
    "x,y,z= coordinates()\n",
    "print(x,y,x,sep='\\n')"
   ]
  },
  {
   "cell_type": "code",
   "execution_count": 29,
   "metadata": {},
   "outputs": [
    {
     "name": "stdout",
     "output_type": "stream",
     "text": [
      "<class 'set'>\n",
      "{1, 2, 3, 4, 5}\n",
      "<class 'list'>\n",
      "[1, 2, 3, 4, 5]\n"
     ]
    }
   ],
   "source": [
    "#Remove Duplicates\n",
    "numbers= [1, 2, 2, 3, 4, 4, 5]\n",
    "#print(numbers)\n",
    "#print(type(numbers))\n",
    "numbers= set(numbers)\n",
    "print(type(numbers))\n",
    "print(numbers)\n",
    "\n",
    "#convert back to a list\n",
    "numbers= list(numbers)\n",
    "print(type(numbers))\n",
    "print(numbers)"
   ]
  },
  {
   "cell_type": "code",
   "execution_count": 30,
   "metadata": {},
   "outputs": [
    {
     "name": "stdout",
     "output_type": "stream",
     "text": [
      "{0, 64, 4, 36, 16}\n"
     ]
    }
   ],
   "source": [
    "#Set Comprehension\n",
    "set_comp= {x**2 for x in range(10) if x % 2== 0}\n",
    "print(set_comp)"
   ]
  },
  {
   "cell_type": "code",
   "execution_count": 33,
   "metadata": {},
   "outputs": [
    {
     "name": "stdout",
     "output_type": "stream",
     "text": [
      "{(0, 0): 'a', (1, 2): 'b', (2, 3): 'c'}\n"
     ]
    }
   ],
   "source": [
    "#tuple as dic key\n",
    "tuple_dic_key= {(0, 0):'a',(1, 2):'b',(2, 3):'c'}\n",
    "print(tuple_dic_key)"
   ]
  },
  {
   "cell_type": "code",
   "execution_count": 32,
   "metadata": {},
   "outputs": [
    {
     "name": "stdout",
     "output_type": "stream",
     "text": [
      "(1, 5, 15)\n"
     ]
    }
   ],
   "source": [
    "#def func min_max_sum\n",
    "def min_max_sum(numbers):\n",
    "    return min(numbers), max (numbers),sum(numbers)\n",
    "\n",
    "#call the function\n",
    "result= min_max_sum([1,2,3,4,5])\n",
    "print(result)"
   ]
  }
 ],
 "metadata": {
  "kernelspec": {
   "display_name": "Python 3",
   "language": "python",
   "name": "python3"
  },
  "language_info": {
   "codemirror_mode": {
    "name": "ipython",
    "version": 3
   },
   "file_extension": ".py",
   "mimetype": "text/x-python",
   "name": "python",
   "nbconvert_exporter": "python",
   "pygments_lexer": "ipython3",
   "version": "3.12.4"
  }
 },
 "nbformat": 4,
 "nbformat_minor": 2
}
