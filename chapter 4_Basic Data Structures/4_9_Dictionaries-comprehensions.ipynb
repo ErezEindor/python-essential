{
 "cells": [
  {
   "cell_type": "markdown",
   "metadata": {},
   "source": [
    "## Data Structures: Dictionary-Comprehensions\n",
    "\n",
    "A dictionary comprehension in Python provides a concise way to create dictionaries. It consists of curly braces containing an expression followed by a `for` clause, and then zero or more `for` or `if` clauses.\n",
    "Dictionary comprehensions are:\n",
    "- **Declared**: With curly braces `{}`. \n",
    "- **Concise**: They allow for creating dictionaries in a single line of code. \n",
    "- **Readable**: They are often more readable and expressive compared to traditional `for` loops..\n",
    "- **Versatile**: They can include multiple `for` and `if` clauses for more complex operations.\n",
    "\n",
    "**List comprehensions with filters**:\n",
    "- This will generates a list where each element is the result of the expression applied to each item that meets the condition\n",
    "- **Syntax**: `[expression for item in iterable if condition]` \n",
    "    \n",
    " **Nested List Comprehensionss**:\n",
    "- This generates a nested list.\n",
    "- **Syntax**: `[[expression for item in iterable] for outer_item in outer_iterable]`\n"
   ]
  },
  {
   "cell_type": "code",
   "execution_count": 2,
   "metadata": {},
   "outputs": [
    {
     "name": "stdout",
     "output_type": "stream",
     "text": [
      "{'a': 'aardvark', 'b': 'bear', 'c': 'cat', 'd': 'dog'}\n",
      "{'a': 'aardvark', 'b': 'bear', 'c': 'cat', 'd': 'dog'}\n"
     ]
    }
   ],
   "source": [
    "# basic dict comperehension\n",
    "animalList = [('a', 'aardvark'), ('b', 'bear'), ('c', 'cat'), ('d', 'dog')] # a list of tupels \n",
    "animal= {item[0]: item[1] for item in animalList} #one way\n",
    "print(animal)\n",
    "\n",
    "#best practice way\n",
    "animal= {key: value for key, value in animalList }\n",
    "print(animal)"
   ]
  },
  {
   "cell_type": "code",
   "execution_count": 4,
   "metadata": {},
   "outputs": [
    {
     "name": "stdout",
     "output_type": "stream",
     "text": [
      "dict_items([('a', 'aardvark'), ('b', 'bear'), ('c', 'cat'), ('d', 'dog')])\n",
      "[('a', 'aardvark'), ('b', 'bear'), ('c', 'cat'), ('d', 'dog')]\n"
     ]
    }
   ],
   "source": [
    "#turn dict back to a list\n",
    "print(animal.items()) # show a dict_item object as list of key-value\n",
    "\n",
    "newlist= list(animal.items())\n",
    "print(newlist)\n"
   ]
  }
 ],
 "metadata": {
  "kernelspec": {
   "display_name": "Python 3",
   "language": "python",
   "name": "python3"
  },
  "language_info": {
   "codemirror_mode": {
    "name": "ipython",
    "version": 3
   },
   "file_extension": ".py",
   "mimetype": "text/x-python",
   "name": "python",
   "nbconvert_exporter": "python",
   "pygments_lexer": "ipython3",
   "version": "3.12.4"
  }
 },
 "nbformat": 4,
 "nbformat_minor": 2
}
