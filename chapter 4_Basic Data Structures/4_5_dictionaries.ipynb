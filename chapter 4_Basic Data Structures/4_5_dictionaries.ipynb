{
 "cells": [
  {
   "cell_type": "markdown",
   "metadata": {},
   "source": [
    "## Data Structures: Dictionaries\n",
    "\n",
    "A dictionary in Python is a collection of key-value pairs. Each key is unique and is used to access the corresponding value.\n",
    "dictionaries are:\n",
    "- **Declared**: with curly braces `{}`. \n",
    "- **Mutable**: Dictionaries can be changed (they are mutable). \n",
    "- **ordered**: The order does matter (after python 3.7).\n",
    "- **key-value pair**: Each element in a dictionary is a key-value pair.\n",
    "\n",
    "**dict object (keys,values,items)**:\n",
    "- It may look like a list but it a differnt kind of object:\n",
    "    - It can be iterate like a list\n",
    "    - It's immutable\n",
    "    - In order this object we'll need to change the underline dict\n",
    "    - They can be converted to a list\n",
    " \n",
    " **Dictionary Methods**:\n",
    "- `get`: method retrieves the value for a key, returning a default if the key is not found.\n",
    "- `del`: Removes the occurrence of a specified element.\n",
    "- `pop()`: Removes an element from the dicitonary\n",
    "- `update`:  Updating multiple elements.\n",
    " **Finding items in dictionary**:\n",
    "- `in`: operator to detect membership in a dicionary\n",
    "\n",
    "**dictionary Length**: By using the `len()` method we can get the number of items within the dict.\n"
   ]
  },
  {
   "cell_type": "code",
   "execution_count": null,
   "metadata": {},
   "outputs": [],
   "source": [
    "from collections import defaultdict"
   ]
  },
  {
   "cell_type": "code",
   "execution_count": 2,
   "metadata": {},
   "outputs": [
    {
     "name": "stdout",
     "output_type": "stream",
     "text": [
      "{'a': 'aardvark', 'b': 'bear', 'c': 'cat'}\n"
     ]
    }
   ],
   "source": [
    "#create a basic dicitonary \n",
    "animals= {\n",
    "    'a':'aardvark',\n",
    "    'b': 'bear',\n",
    "    'c':'cat',\n",
    "}\n",
    "print(animals)"
   ]
  },
  {
   "cell_type": "code",
   "execution_count": 3,
   "metadata": {},
   "outputs": [
    {
     "name": "stdout",
     "output_type": "stream",
     "text": [
      "aardvark\n",
      "{'a': 'aardvark', 'b': 'bear', 'c': 'cat', 'd': 'dog'}\n",
      "{'a': 'antelope', 'b': 'bear', 'c': 'cat', 'd': 'dog'}\n",
      "dict_keys(['a', 'b', 'c', 'd'])\n",
      "dict_values(['antelope', 'bear', 'cat', 'dog'])\n",
      "dict_items([('a', 'antelope'), ('b', 'bear'), ('c', 'cat'), ('d', 'dog')])\n"
     ]
    }
   ],
   "source": [
    "#find a value by key\n",
    "print(animals['a'])\n",
    "\n",
    "#add a key-value pair\n",
    "animals['d']='dog'\n",
    "print(animals)\n",
    "\n",
    "#update kay-value pair\n",
    "animals['a']= 'antelope'\n",
    "print(animals)\n",
    "\n",
    "#get all keys in a dic\n",
    "print(animals.keys())\n",
    "\n",
    "#get all values in a dic\n",
    "print(animals.values())\n",
    "\n",
    "#get all dict items\n",
    "print(animals.items())"
   ]
  },
  {
   "cell_type": "code",
   "execution_count": null,
   "metadata": {},
   "outputs": [],
   "source": [
    "#convert a dict_object (keys and values) into a list (as copy)\n",
    "list(animals.keys())"
   ]
  },
  {
   "cell_type": "markdown",
   "metadata": {},
   "source": [
    "#### Dictionary Method"
   ]
  },
  {
   "cell_type": "code",
   "execution_count": 4,
   "metadata": {},
   "outputs": [
    {
     "name": "stdout",
     "output_type": "stream",
     "text": [
      "None\n"
     ]
    },
    {
     "data": {
      "text/plain": [
       "'elephant'"
      ]
     },
     "execution_count": 4,
     "metadata": {},
     "output_type": "execute_result"
    }
   ],
   "source": [
    "#the get() method\n",
    "#if we want to get a key that is not exist will get an error\n",
    "##animals['e']\n",
    "print(animals.get('e')) #return none if the key does not exist we can pass a defult value as well\n",
    "animals.get('e','elephant')  "
   ]
  },
  {
   "cell_type": "code",
   "execution_count": 5,
   "metadata": {},
   "outputs": [
    {
     "name": "stdout",
     "output_type": "stream",
     "text": [
      "4\n"
     ]
    }
   ],
   "source": [
    "#use the len function to get the length of the dict\n",
    "print(len(animals)) ##the number of keys in the dict"
   ]
  },
  {
   "cell_type": "code",
   "execution_count": 6,
   "metadata": {},
   "outputs": [
    {
     "name": "stdout",
     "output_type": "stream",
     "text": [
      "{'a': ['aardvark', 'antelope'], 'b': ['bear']}\n",
      "{'a': ['aardvark', 'antelope'], 'b': ['bear', 'bison']}\n",
      "{'a': ['aardvark', 'antelope'], 'b': ['bear', 'bison']}\n",
      "{'a': ['aardvark', 'antelope'], 'b': ['bear', 'bison'], 'c': ['cat']}\n"
     ]
    }
   ],
   "source": [
    "#dict with list values \n",
    "dictlist_animals= {\n",
    "    'a':['aardvark','antelope'],\n",
    "    'b': ['bear'],\n",
    "    \n",
    "}\n",
    "print(dictlist_animals)\n",
    "\n",
    "#add a list value to a key\n",
    "dictlist_animals['b'].append('bison')\n",
    "print(dictlist_animals)\n",
    "\n",
    "#if we want to add a new key-value pair we have 2 methods: \n",
    "#1: as new key and than pass the value \n",
    "#dictlist_animals['c']= ['cat']\n",
    "print(dictlist_animals)\n",
    "#2: by using if \n",
    "if 'c' not in dictlist_animals:\n",
    "    dictlist_animals['c']=[]\n",
    "dictlist_animals ['c'].append('cat')\n",
    "print(dictlist_animals)"
   ]
  },
  {
   "cell_type": "code",
   "execution_count": null,
   "metadata": {},
   "outputs": [],
   "source": [
    "#removing elements\n",
    "del animals['a']\n",
    "print(animals)\n",
    "\n",
    "#pop elements for a dict\n",
    "animals.pop('b')\n",
    "print(animals)"
   ]
  },
  {
   "cell_type": "code",
   "execution_count": null,
   "metadata": {},
   "outputs": [],
   "source": [
    "#update dict for multiple items \n",
    "print(animals)\n",
    "animals.update({'c':'capybara','d':'deer'})\n",
    "print(animals)"
   ]
  },
  {
   "cell_type": "code",
   "execution_count": null,
   "metadata": {},
   "outputs": [],
   "source": [
    "#looping through Dictionaries\n",
    "animals= {\n",
    "    'a':'aardvark',\n",
    "    'b': 'bear',\n",
    "    'c':'cat',\n",
    "}\n",
    "print(animals)\n",
    "\n",
    "#by using key\n",
    "for key in animals:\n",
    "    print(key)\n",
    "\n",
    "#by using key\n",
    "for value in animals.values():\n",
    "    print(value)\n",
    "\n",
    "#by using key-value\n",
    "for key,value in animals.items():\n",
    "    print(key,value)"
   ]
  },
  {
   "cell_type": "markdown",
   "metadata": {},
   "source": [
    "### defaultdict "
   ]
  },
  {
   "cell_type": "code",
   "execution_count": null,
   "metadata": {},
   "outputs": [],
   "source": [
    "animals= defaultdict(list)\n",
    "print(type(animals))\n",
    "\n",
    "#create an new key-value pair \n",
    "animals['e'].append('elephant')\n",
    "print(animals)\n",
    "\n",
    "#add another key-value pair\n",
    "animals['e'].append('emo')\n",
    "print(animals)"
   ]
  },
  {
   "cell_type": "markdown",
   "metadata": {},
   "source": [
    "### Nested dictionaries\n"
   ]
  },
  {
   "cell_type": "code",
   "execution_count": null,
   "metadata": {},
   "outputs": [],
   "source": [
    "# Nested dictionaries\n",
    "university = {\n",
    "    'student1':{\n",
    "        'name': 'Anat',\n",
    "        'age': '25',\n",
    "        'major': ['math','psychology']\n",
    "    },\n",
    "    'student2':{\n",
    "        'name':'Erez',\n",
    "        'age':'40',\n",
    "        'major': ['IT','DE']\n",
    "    }\n",
    "}\n",
    "print(university)\n",
    "print(university.keys())\n",
    "print(university.values())"
   ]
  }
 ],
 "metadata": {
  "kernelspec": {
   "display_name": "Python 3",
   "language": "python",
   "name": "python3"
  },
  "language_info": {
   "codemirror_mode": {
    "name": "ipython",
    "version": 3
   },
   "file_extension": ".py",
   "mimetype": "text/x-python",
   "name": "python",
   "nbconvert_exporter": "python",
   "pygments_lexer": "ipython3",
   "version": "3.11.9"
  }
 },
 "nbformat": 4,
 "nbformat_minor": 2
}
