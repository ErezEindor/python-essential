{
 "cells": [
  {
   "cell_type": "markdown",
   "metadata": {},
   "source": [
    "## Challenge: List Manipulation Marathon\n",
    "\n",
    "### Objective\n",
    "You are provided with a list of names. Your task is to manipulate this list using various methods you've learned, and print specific results after each operation.\n",
    "\n",
    "- Tasks\n",
    "    - **Add Two Names**: `Append` \"Fiona\" to the list and then `extend` the list by adding [\"George\", \"Hannah\"].\n",
    "    - **Insert and Remove**: `insert` \"Ivy\" at the second position and `remove` \"Charlie\".\n",
    "    - **Sorting and Reversing**: `Sort` the list in alphabetical order and then `reverse` the order.\n",
    "    - **Pop an Item**: `Pop` the last name in the list and print it.\n",
    "    - **Find and Count**: Print the `index` of \"Diana\" and `count` how many times \"Alice\" appears in the list.\n",
    "    - **List Slicing**: Print the first three names in the list.\n",
    "    - **Print Final List Length**: Print the total number of names in the final list."
   ]
  },
  {
   "cell_type": "code",
   "execution_count": 1,
   "metadata": {},
   "outputs": [],
   "source": [
    "# Initial Data\n",
    "names = [\"Alice\", \"Bob\", \"Charlie\", \"Diana\", \"Ethan\"]\n"
   ]
  },
  {
   "cell_type": "code",
   "execution_count": 2,
   "metadata": {},
   "outputs": [
    {
     "name": "stdout",
     "output_type": "stream",
     "text": [
      "['Alice', 'Bob', 'Charlie', 'Diana', 'Ethan', 'Fiona']\n",
      "['Alice', 'Bob', 'Charlie', 'Diana', 'Ethan', 'Fiona', 'Goerge', 'Hannah']\n"
     ]
    }
   ],
   "source": [
    "#add two names to the list:\n",
    "names.append('Fiona')\n",
    "print(names)\n",
    "names.extend(['Goerge','Hannah'])\n",
    "print(names)"
   ]
  },
  {
   "cell_type": "code",
   "execution_count": 3,
   "metadata": {},
   "outputs": [
    {
     "name": "stdout",
     "output_type": "stream",
     "text": [
      "['Alice', 'Ivy', 'Bob', 'Charlie', 'Diana', 'Ethan', 'Fiona', 'Goerge', 'Hannah']\n",
      "['Alice', 'Ivy', 'Bob', 'Diana', 'Ethan', 'Fiona', 'Goerge', 'Hannah']\n"
     ]
    }
   ],
   "source": [
    "#Insert and Remove\n",
    "names.insert(1,'Ivy')\n",
    "print(names)\n",
    "names.remove('Charlie')\n",
    "print(names)"
   ]
  },
  {
   "cell_type": "code",
   "execution_count": 14,
   "metadata": {},
   "outputs": [
    {
     "name": "stdout",
     "output_type": "stream",
     "text": [
      "['Alice', 'Bob', 'Diana', 'Ethan', 'Fiona', 'Goerge', 'Hannah', 'Ivy']\n",
      "['Ivy', 'Hannah', 'Goerge', 'Fiona', 'Ethan', 'Diana', 'Bob', 'Alice']\n"
     ]
    }
   ],
   "source": [
    "#Sorting and Reversing\n",
    "names.sort()\n",
    "print(names)\n",
    "names.reverse()\n",
    "print(names)"
   ]
  },
  {
   "cell_type": "code",
   "execution_count": 16,
   "metadata": {},
   "outputs": [
    {
     "name": "stdout",
     "output_type": "stream",
     "text": [
      "Alice\n"
     ]
    }
   ],
   "source": [
    "#Pop an Item\n",
    "if len(names):\n",
    "    print(names.pop())\n",
    "\n"
   ]
  },
  {
   "cell_type": "code",
   "execution_count": 4,
   "metadata": {},
   "outputs": [
    {
     "name": "stdout",
     "output_type": "stream",
     "text": [
      "3\n",
      "1\n"
     ]
    }
   ],
   "source": [
    "#Find and Count\n",
    "print(names.index('Diana'))\n",
    "print(names.count('Alice'))"
   ]
  },
  {
   "cell_type": "code",
   "execution_count": 20,
   "metadata": {},
   "outputs": [
    {
     "name": "stdout",
     "output_type": "stream",
     "text": [
      "['Ivy', 'Hannah', 'Goerge']\n"
     ]
    }
   ],
   "source": [
    "#Print the first three names in the list\n",
    "print(names[:3])\n",
    "\n"
   ]
  },
  {
   "cell_type": "code",
   "execution_count": 9,
   "metadata": {},
   "outputs": [
    {
     "name": "stdout",
     "output_type": "stream",
     "text": [
      "the final length of the list is 8, and here are the names:Alice,Ivy,Bob,Diana,Ethan,Fiona,Goerge,Hannah\n"
     ]
    }
   ],
   "source": [
    "#Print Final List Length\n",
    "name_str= \",\".join(names)\n",
    "print (f'the final length of the list is {len(names)}, and here are the names:{name_str}')"
   ]
  }
 ],
 "metadata": {
  "kernelspec": {
   "display_name": "Python 3",
   "language": "python",
   "name": "python3"
  },
  "language_info": {
   "codemirror_mode": {
    "name": "ipython",
    "version": 3
   },
   "file_extension": ".py",
   "mimetype": "text/x-python",
   "name": "python",
   "nbconvert_exporter": "python",
   "pygments_lexer": "ipython3",
   "version": "3.12.4"
  }
 },
 "nbformat": 4,
 "nbformat_minor": 2
}
