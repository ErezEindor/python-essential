{
 "cells": [
  {
   "cell_type": "markdown",
   "metadata": {},
   "source": [
    "## Strings\n",
    "\n",
    "- **Slicing**: String slicing in Python allows you to extract a specific part of a string using its index. \n",
    "This is done by specifying the start index and the end index, separated by a colon `:`. \n",
    "Python strings are zero-indexed, meaning the first character of the string has index 0.\n",
    "    - **Basic Slicing Syntax**:\n",
    "        - **Syntax**: `string[start:end]`\n",
    "        - `start` is the index where slicing starts (inclusive).\n",
    "        - `end` is the index where slicing ends (exclusive).\n",
    "- **Formatting**: Formatting strings in Python allows you to construct strings dynamically and inject variables or expressions within them. \n",
    "    - Here are several methods to perform string formatting:\n",
    "        - **Concatenation**: Simply concatenate strings using the `+` operator, converting numbers to strings where necessary.\n",
    "        - **f-strings**: introduced in Python 3.6, f-strings offer a readable, concise, and less error-prone way to format strings using curly braces `{} `.\n",
    "- **Multi-Line String**: Multi-line strings in Python are created using triple quotes (`'''` or `\"\"\"`). \n",
    "This method is ideal for strings that span multiple lines, such as documentation, SQL queries, and multi-line messages.\n",
    "    - **Advantages**:\n",
    "        - You do not need to use special characters like `\\n` to break lines.\n",
    "        - Preserves the indentation and formatting as is, making it easier to copy and paste code or text without losing its structure.\n"
   ]
  },
  {
   "cell_type": "code",
   "execution_count": 1,
   "metadata": {},
   "outputs": [
    {
     "name": "stdout",
     "output_type": "stream",
     "text": [
      "m\n",
      "my name\n",
      "Erez Ein-Dor\n",
      "23\n",
      "Dor\n",
      "m aei rzEnDr\n",
      "nesr no\n",
      "roD-niE zerE si eman ym\n"
     ]
    }
   ],
   "source": [
    "#Slicing:\n",
    "\n",
    "name= 'my name is Erez Ein-Dor'\n",
    "\n",
    "#get the first char:\n",
    "print(name[0])\n",
    "\n",
    "#get the first 7 char\n",
    "print(name[:7]) #note this bring us up to index 7 but not including it\n",
    "\n",
    "#from index 11 to the end\n",
    "print(name[11:])\n",
    "\n",
    "#len\n",
    "print(len(name))\n",
    "\n",
    "# Negative indices to get characters from the end\n",
    "print(name[-3:])  \n",
    "\n",
    "# Using steps in slicing (every second char from the substring or every 3rd)\n",
    "print(name[::2])\n",
    "print(name[3::3])\n",
    "\n",
    "# Reverse the string using slicing\n",
    "print(name[::-1])  \n",
    "\n"
   ]
  },
  {
   "cell_type": "code",
   "execution_count": 2,
   "metadata": {},
   "outputs": [
    {
     "name": "stdout",
     "output_type": "stream",
     "text": [
      "my lucky number is 9\n",
      "my lucky number is 9\n",
      "My luck number is 9. And if you multiply it by 2 its product is 18\n"
     ]
    }
   ],
   "source": [
    "#string formatting:\n",
    "#first option:\n",
    "number= 'my lucky number is '+str(9)\n",
    "print(number) \n",
    "\n",
    "#f format:\n",
    "number= f'my lucky number is {9}'\n",
    "print(number)\n",
    "\n",
    "#argment within f format:\n",
    "multiple = f'My luck number is {9}. And if you multiply it by 2 its product is {9*2}'\n",
    "print(multiple)\n"
   ]
  },
  {
   "cell_type": "code",
   "execution_count": 2,
   "metadata": {},
   "outputs": [
    {
     "name": "stdout",
     "output_type": "stream",
     "text": [
      "\n",
      "this is a block of code\n",
      "i can add new lines\n",
      "the text does not stop until it see '''\n",
      "\n",
      "my name is \n",
      " Erez\n",
      "['', 'this is a block of code', 'i can add new lines', \"the text does not stop until it see '''\"]\n"
     ]
    }
   ],
   "source": [
    "#multi string\n",
    "\n",
    "my_string= '''\n",
    "this is a block of code\n",
    "i can add new lines\n",
    "the text does not stop until it see \\'\\'\\'\n",
    "'''\n",
    "\n",
    "print(my_string)\n",
    "\n",
    "#new line \n",
    "newline= 'my name is \\n Erez'\n",
    "print(newline)\n",
    "\n",
    "#split lines:\n",
    "print(my_string.splitlines())\n"
   ]
  },
  {
   "cell_type": "markdown",
   "metadata": {},
   "source": [
    "## Advanced String Methods\n",
    "\n",
    "Python provides a variety of methods for advanced string manipulation. \n",
    "These methods can be used to modify case, split strings, join them, replace substrings, and encode strings into bytes, which are essential for data handling and transformations.\n",
    "\n",
    "### Changing Case\n",
    "-  **`.upper()`**: Converts all characters in the string to uppercase.\n",
    "- **`.lower()`**: Converts all characters in the string to lowercase.\n",
    "- **`.title()`**: Converts the first character of each word to uppercase and the rest to lowercase.\n",
    "- **`.capitalize()`**: Converts the first character of the string to uppercase and the rest to lowercase.\n",
    "\n",
    "### Splitting and Joining\n",
    "- **`.split()`**: Breaks up a string at a specified separator and returns a list of substrings\n",
    "- **`.join()`**: Joins the elements of an iterable (like a list) into a single string, separated by the string it is called on.\n",
    "\n",
    "### Replacing Substrings\n",
    "- **`.replace()`**: Replaces occurrences of a specified substring with another substring.\n",
    "\n",
    "### Encoding\n",
    "- `.encode()`:  Converts the string into bytes using a specified encoding, crucial for handling text with non-ASCII characters and for network or file operations."
   ]
  },
  {
   "cell_type": "code",
   "execution_count": 3,
   "metadata": {},
   "outputs": [
    {
     "name": "stdout",
     "output_type": "stream",
     "text": [
      "HELLO WORLD\n",
      "hello world\n",
      "Hello World\n",
      "Hello world\n"
     ]
    }
   ],
   "source": [
    "#changing case\n",
    "text= 'Hello World'\n",
    "\n",
    "#upper: all the string will be upper case\n",
    "print(text.upper())\n",
    "\n",
    "#lower: all the string will be in lower case\n",
    "print(text.lower())\n",
    "\n",
    "#title: will captialize the first letter of each word\n",
    "print(text.title())\n",
    "\n",
    "#capitalize: will upper only the first char of the string\n",
    "print(text.capitalize())"
   ]
  },
  {
   "cell_type": "code",
   "execution_count": 5,
   "metadata": {},
   "outputs": [
    {
     "name": "stdout",
     "output_type": "stream",
     "text": [
      "apple,banana,cherry\n",
      "['apple,banana,cherry']\n",
      "apple,banana,cherry\n"
     ]
    }
   ],
   "source": [
    "### Splitting and Joining\n",
    "fruit= 'apple,banana,cherry'\n",
    "print(fruit)\n",
    "#split: will split the string into a list defult seprator is ','\n",
    "newlist= fruit.split()\n",
    "print(newlist)\n",
    "\n",
    "#join: make any iterable into string\n",
    "new_string= ' '.join(newlist) \n",
    "print(new_string)\n"
   ]
  },
  {
   "cell_type": "code",
   "execution_count": 6,
   "metadata": {},
   "outputs": [
    {
     "name": "stdout",
     "output_type": "stream",
     "text": [
      "Hello World!\n",
      "Hello Python!\n"
     ]
    }
   ],
   "source": [
    "### Replacing Substrings\n",
    "hello= 'Hello World!'\n",
    "print(hello)\n",
    "new_hello= hello.replace('World','Python')\n",
    "print(new_hello)"
   ]
  },
  {
   "cell_type": "code",
   "execution_count": 7,
   "metadata": {},
   "outputs": [
    {
     "name": "stdout",
     "output_type": "stream",
     "text": [
      "😂\n",
      "b'\\xf0\\x9f\\x98\\x82'\n"
     ]
    }
   ],
   "source": [
    "### Encoding\n",
    "mytext= '😂'\n",
    "print(mytext)\n",
    "encode_text= mytext.encode('utf-8')\n",
    "print(encode_text)"
   ]
  }
 ],
 "metadata": {
  "kernelspec": {
   "display_name": "Python 3",
   "language": "python",
   "name": "python3"
  },
  "language_info": {
   "codemirror_mode": {
    "name": "ipython",
    "version": 3
   },
   "file_extension": ".py",
   "mimetype": "text/x-python",
   "name": "python",
   "nbconvert_exporter": "python",
   "pygments_lexer": "ipython3",
   "version": "3.11.9"
  }
 },
 "nbformat": 4,
 "nbformat_minor": 2
}
