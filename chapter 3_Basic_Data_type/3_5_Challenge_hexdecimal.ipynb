{
 "cells": [
  {
   "cell_type": "markdown",
   "metadata": {},
   "source": [
    "## Converting Hexadecimal to Decimal\n",
    "\n",
    "Hexadecimal or \"base 16\" uses all of the numbers 0 - 9, plus a few others to signify higher numbers:\n",
    "\n",
    "A = 10\n",
    "\n",
    "B = 11\n",
    "\n",
    "C = 12\n",
    "\n",
    "D = 13\n",
    "\n",
    "E = 14\n",
    "\n",
    "F = 15\n",
    "\n",
    "Therefore, the number 'D' in hexadecimal would be 13 in decimal.\n",
    "\n",
    "The number '1A' in hexadecimal would be 26 in decimal. Just like we have the \"tens\" place in base 10, hexadecimal has the \"sixteens\" place. So 1A would be 16 + 10 or 26. \n",
    "\n",
    "And just like decimal has the \"hundreds\" place (because 10 * 10 is 100), hexadecimal has the \"256's\" place (because 16 * 16 is 256) So 'ABC' in hexadecimal is (256 * 10) + (16 * 11) + (1 * 12) or 2,748\n"
   ]
  },
  {
   "cell_type": "code",
   "execution_count": 2,
   "metadata": {},
   "outputs": [
    {
     "name": "stdout",
     "output_type": "stream",
     "text": [
      "{'0': 0, '1': 1, '2': 2, '3': 3, '4': 4, '5': 5, '6': 6, '7': 7, '8': 8, '9': 9, 'A': 10, 'B': 11, 'C': 12, 'D': 13, 'E': 14, 'F': 15}\n",
      "2748\n"
     ]
    }
   ],
   "source": [
    "hexNumbers = {\n",
    "    '0': 0, '1': 1, '2': 2, '3': 3, '4': 4, '5': 5, '6': 6, '7': 7, '8': 8, '9': 9,\n",
    "    'A': 10, 'B': 11, 'C': 12, 'D': 13, 'E': 14, 'F': 15\n",
    "}\n",
    "print(hexNumbers)\n",
    "\n",
    "def hexToDec(hexNum):\n",
    "    # Convert to uppercase to standardize input\n",
    "    mystring = hexNum.upper()\n",
    "    \n",
    "    # Check if the input contains spaces by splitting and checking the length of the result\n",
    "    if len(mystring.split()) > 1:\n",
    "        return None\n",
    "\n",
    "    # Check each character in the string to ensure all are valid hexadecimal characters\n",
    "    for i in mystring:\n",
    "        if i not in hexNumbers:\n",
    "            return None\n",
    "    result= 0\n",
    "    power= len(hexNum) -1\n",
    "    for i, char in enumerate(reversed(mystring)):\n",
    "        result += hexNumbers[char] *(16**i)\n",
    "    return result\n",
    "\n",
    "mynewstring='abc'\n",
    "\n",
    "print(hexToDec(mynewstring))\n",
    "\n",
    "    \n",
    "    \n",
    "    "
   ]
  },
  {
   "cell_type": "code",
   "execution_count": 6,
   "metadata": {},
   "outputs": [
    {
     "name": "stdout",
     "output_type": "stream",
     "text": [
      "10\n",
      "0\n",
      "27\n",
      "None\n",
      "None\n"
     ]
    }
   ],
   "source": [
    "#output 10\n",
    "print(hexToDec('A'))\n",
    "\n",
    "#output 0\n",
    "print(hexToDec('0'))\n",
    "\n",
    "#output 27\n",
    "print(hexToDec('1B'))\n",
    "\n",
    "#output None\n",
    "print(hexToDec('A6G'))\n",
    "\n",
    "#output None\n",
    "print(hexToDec('ZZTOP'))"
   ]
  }
 ],
 "metadata": {
  "kernelspec": {
   "display_name": "Python 3",
   "language": "python",
   "name": "python3"
  },
  "language_info": {
   "codemirror_mode": {
    "name": "ipython",
    "version": 3
   },
   "file_extension": ".py",
   "mimetype": "text/x-python",
   "name": "python",
   "nbconvert_exporter": "python",
   "pygments_lexer": "ipython3",
   "version": "3.8.8"
  }
 },
 "nbformat": 4,
 "nbformat_minor": 2
}
