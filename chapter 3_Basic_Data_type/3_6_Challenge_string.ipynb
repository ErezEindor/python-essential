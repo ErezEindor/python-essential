{
 "cells": [
  {
   "cell_type": "markdown",
   "metadata": {},
   "source": [
    "### Challenge 1: String Slicing\n",
    "- **Objective**: Extract and print the middle word of a given sentence. Assume the sentence will always contain an odd number of words."
   ]
  },
  {
   "cell_type": "code",
   "execution_count": 10,
   "metadata": {},
   "outputs": [
    {
     "name": "stdout",
     "output_type": "stream",
     "text": [
      "['Python', 'is', 'a', 'great', 'language', 'for', 'data', 'engineering']\n",
      "language\n"
     ]
    }
   ],
   "source": [
    "sentence = \"Python is a great language for data engineering\"\n",
    "new_list= sentence.split()\n",
    "print(new_list)\n",
    "print(new_list[((len(new_list)//2))])\n"
   ]
  },
  {
   "cell_type": "markdown",
   "metadata": {},
   "source": [
    "### Challenge 2: Advanced Formatting\n",
    "- **Objective**: Use f-strings to format given temperature data into a sentence. Round the temperatures to one decimal place in the output."
   ]
  },
  {
   "cell_type": "code",
   "execution_count": 11,
   "metadata": {},
   "outputs": [
    {
     "name": "stdout",
     "output_type": "stream",
     "text": [
      "The current temperature in Tel Aviv is 29.5 degrees Celsius.\n"
     ]
    }
   ],
   "source": [
    "city = \"Tel Aviv\"\n",
    "temperature = 29.4567\n",
    "response = f\"The current temperature in {city} is {round(temperature,1)} degrees Celsius.\"\n",
    "\n",
    "print(response)"
   ]
  },
  {
   "cell_type": "markdown",
   "metadata": {},
   "source": [
    "### Challenge 3: Multi-Line String Manipulation\n",
    "- **Objective**: Given a multi-line string containing several lines of text, print only the lines that contain the word \"error\"."
   ]
  },
  {
   "cell_type": "code",
   "execution_count": 12,
   "metadata": {},
   "outputs": [
    {
     "name": "stdout",
     "output_type": "stream",
     "text": [
      "['', 'Info: Start of log file.', 'Error: Failed to open database successfully.', 'Warning: Low memory.', 'Error: Invalid user input.']\n",
      "Error: Failed to open database successfully.\n",
      "Error: Invalid user input.\n"
     ]
    }
   ],
   "source": [
    "logs = \"\"\"\n",
    "Info: Start of log file.\n",
    "Error: Failed to open database successfully.\n",
    "Warning: Low memory.\n",
    "Error: Invalid user input.\n",
    "\"\"\"\n",
    "find_word= logs.splitlines()\n",
    "print(find_word)\n",
    "#find the error\n",
    "for i in find_word:\n",
    "    if 'error' in i.lower():\n",
    "        print(i)\n"
   ]
  },
  {
   "cell_type": "markdown",
   "metadata": {},
   "source": [
    "### Challenge 4: Encoding and Decoding\n",
    "- **Objective**: Encode a string into bytes and then decode it back into a string, ensuring the output matches the original."
   ]
  },
  {
   "cell_type": "code",
   "execution_count": 13,
   "metadata": {},
   "outputs": [
    {
     "name": "stdout",
     "output_type": "stream",
     "text": [
      "b'Data engineering at its best \\xf0\\x9f\\x98\\x8a'\n",
      "Data engineering at its best 😊\n"
     ]
    }
   ],
   "source": [
    "original_text = \"Data engineering at its best 😊\"\n",
    "encode_text= original_text.encode('utf-8')\n",
    "print(encode_text)\n",
    "decode_text= encode_text.decode('utf-8')\n",
    "print(decode_text)"
   ]
  },
  {
   "cell_type": "markdown",
   "metadata": {},
   "source": [
    "### Challenge 5: Using .split() and .join()\n",
    "- **Objective**: Convert a comma-separated string into a space-separated string and then back to comma-separated, print both.\n",
    "\n",
    "\n"
   ]
  },
  {
   "cell_type": "code",
   "execution_count": 14,
   "metadata": {},
   "outputs": [
    {
     "name": "stdout",
     "output_type": "stream",
     "text": [
      "['apple', 'orange', 'banana', 'grape']\n",
      "apple orange banana grape\n",
      "['apple', 'orange', 'banana', 'grape']\n",
      "apple,orange,banana,grape\n"
     ]
    }
   ],
   "source": [
    "fruits = \"apple,orange,banana,grape\"\n",
    "fruits_list= fruits.split(',')\n",
    "print(fruits_list)\n",
    "as_sentence= ' '.join(fruits_list)\n",
    "print(as_sentence)\n",
    "comma_separte_list= as_sentence.split()\n",
    "print(comma_separte_list)\n",
    "comma_separte= ','.join(comma_separte_list)\n",
    "print(comma_separte)"
   ]
  },
  {
   "cell_type": "markdown",
   "metadata": {},
   "source": [
    "### Challenge 6: Replacing Substrings\n",
    "- **Objective**: Replace all instances of a placeholder in a given string with appropriate content.\n",
    "\n"
   ]
  },
  {
   "cell_type": "code",
   "execution_count": 15,
   "metadata": {},
   "outputs": [
    {
     "name": "stdout",
     "output_type": "stream",
     "text": [
      "Dear Erez, your appointment with Dr. Cohen is at 3:00 PM.\n"
     ]
    }
   ],
   "source": [
    "# Data:\n",
    "template = \"Dear [Name], your appointment with [Doctor] is at [Time].\"\n",
    "name = \"Erez\"\n",
    "doctor = \"Dr. Cohen\"\n",
    "time = \"3:00 PM\"\n",
    "\n",
    "#soultion\n",
    "new_template= template.replace('[Name]',name).replace('[Doctor]',doctor).replace('[Time]',time)\n",
    "print(new_template)\n"
   ]
  },
  {
   "cell_type": "markdown",
   "metadata": {},
   "source": [
    "### Challenge 7: Case Manipulation\n",
    "- **Objective**: Given a string, create a new string that alternates between uppercase and lowercase starting with lowercase."
   ]
  },
  {
   "cell_type": "code",
   "execution_count": 21,
   "metadata": {},
   "outputs": [
    {
     "name": "stdout",
     "output_type": "stream",
     "text": [
      "sYnChRoNiZaTiOn\n"
     ]
    }
   ],
   "source": [
    "text = \"synchronization\"\n",
    "new_string= ''.join(char.lower() if i%2 == 0 else char.upper() for i, char in enumerate(text))\n",
    "print(new_string) "
   ]
  }
 ],
 "metadata": {
  "kernelspec": {
   "display_name": "Python 3",
   "language": "python",
   "name": "python3"
  },
  "language_info": {
   "codemirror_mode": {
    "name": "ipython",
    "version": 3
   },
   "file_extension": ".py",
   "mimetype": "text/x-python",
   "name": "python",
   "nbconvert_exporter": "python",
   "pygments_lexer": "ipython3",
   "version": "3.8.8"
  }
 },
 "nbformat": 4,
 "nbformat_minor": 2
}
