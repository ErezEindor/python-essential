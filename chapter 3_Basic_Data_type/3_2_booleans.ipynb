{
 "cells": [
  {
   "cell_type": "markdown",
   "metadata": {},
   "source": [
    "## Booleans\n",
    "\n",
    "Booleans in Python are very straightforward: they can either be **True** or **False**. \n",
    "\n",
    "However, understanding how different values are cast to booleans can be crucial for controlling flow in programs."
   ]
  },
  {
   "cell_type": "code",
   "execution_count": 14,
   "metadata": {},
   "outputs": [
    {
     "name": "stdout",
     "output_type": "stream",
     "text": [
      "True\n",
      "False\n",
      "True\n",
      "False\n",
      "True\n",
      "True\n",
      "False\n",
      "True\n",
      "False\n",
      "False\n"
     ]
    }
   ],
   "source": [
    "#casting booleans\n",
    "\n",
    "#True\n",
    "valute_of_true= bool(1)\n",
    "print(valuteoftrue)\n",
    "\n",
    "#False\n",
    "value_of_false= bool(0)\n",
    "print(value_of_false)\n",
    "\n",
    "#pitfalls\n",
    "this_is_also_true= bool(-1)\n",
    "print(this_is_also_true)\n",
    "\n",
    "this_is_also_false= bool(0.0)\n",
    "print(this_is_also_false)\n",
    "\n",
    "#strings\n",
    "string_true= bool('True')\n",
    "print(string_true)\n",
    "even_false_is_true= bool('False')\n",
    "print(even_false_is_true)\n",
    "string_false= bool('')\n",
    "print(string_false)\n",
    "\n",
    "#data structures\n",
    "\n",
    "mylist_true= bool([1])\n",
    "print(mylist_true)\n",
    "mylist_false= bool([])\n",
    "print(mylist_false)\n",
    "\n",
    "#special case\n",
    "the_none_object= bool(None)\n",
    "print(the_none_object)"
   ]
  },
  {
   "cell_type": "markdown",
   "metadata": {},
   "source": [
    "### Boolean Logic"
   ]
  },
  {
   "cell_type": "code",
   "execution_count": 15,
   "metadata": {},
   "outputs": [
    {
     "name": "stdout",
     "output_type": "stream",
     "text": [
      "Go for a walk\n",
      "Go for a walk\n",
      "Go for a walk\n"
     ]
    }
   ],
   "source": [
    "weather_is_nice= False \n",
    "have_umbrella= True\n",
    "\n",
    "if not have_umbrella or weather_is_nice:  #this is actually if (not have_ubrella) or weather_is_nice \n",
    "    print('Stay inside')\n",
    "else:\n",
    "    print('Go for a walk')\n",
    "\n",
    "\n",
    "#fix the logic\n",
    "\n",
    "if not (have_umbrella or weather_is_nice):\n",
    "    print('Stay inside')\n",
    "else:\n",
    "    print('Go for a walk')\n",
    "\n",
    "#option 2:\n",
    "\n",
    "if not have_umbrella and not weather_is_nice:\n",
    "    print('Stay inside')\n",
    "else:\n",
    "    print('Go for a walk')"
   ]
  }
 ],
 "metadata": {
  "kernelspec": {
   "display_name": "Python 3",
   "language": "python",
   "name": "python3"
  },
  "language_info": {
   "codemirror_mode": {
    "name": "ipython",
    "version": 3
   },
   "file_extension": ".py",
   "mimetype": "text/x-python",
   "name": "python",
   "nbconvert_exporter": "python",
   "pygments_lexer": "ipython3",
   "version": "3.8.8"
  }
 },
 "nbformat": 4,
 "nbformat_minor": 2
}
