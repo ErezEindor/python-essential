{
 "cells": [
  {
   "cell_type": "markdown",
   "metadata": {},
   "source": [
    "## Intgers & Floats:\n",
    "Python is designed to handle numeric operations thoughtfully, ensuring that the precision of calculations is maintained. \n",
    "\n",
    "This often results in integer operations returning floating-point numbers under specific circumstances.\n",
    "\n",
    "### Why Does Python Return Floats?\n",
    "\n",
    "Python's approach to numeric operations can lead to integer values being returned as floats due to the following reasons:\n",
    "- **Division** ('/'): The division operator '/' in Python always returns a float, even when dividing two integers that are evenly divisible. \n",
    "\n",
    "This behavior ensures that the division operation does not lose precision, especially in cases where the result is not a whole number.\n",
    "\n",
    "- **Mixed-Type Arithmetic**: When performing arithmetic operations between different numeric types (e.g., an integer and a float), Python automatically promotes the integer to a float. \n",
    "\n",
    "This conversion prevents potential precision loss from occurring during the calculation.\n",
    "\n",
    "- **Power Operator** (**): Although raising an integer to a positive integer power generally results in an integer, the power operation can also produce floats in cases involving negative exponents or fractional powers.\n",
    "why is that?\n",
    "\n"
   ]
  },
  {
   "cell_type": "code",
   "execution_count": 21,
   "metadata": {},
   "outputs": [
    {
     "name": "stdout",
     "output_type": "stream",
     "text": [
      "5.0\n",
      "6\n",
      "9.0\n",
      "256\n",
      "9.9\n",
      "3.89\n",
      "10.0\n",
      "10\n"
     ]
    }
   ],
   "source": [
    "# Division always returns a float\n",
    "result_division = 20 / 4\n",
    "print(result_division)  # Output: 5.0\n",
    "\n",
    "result_division_floor= 20//3\n",
    "print(result_division_floor) #output: 6\n",
    "\n",
    "# Addition of an integer and a float results in a float\n",
    "result_addition = 4 + 5.0\n",
    "print(result_addition)  # Output: 9.0\n",
    "\n",
    "# Power of integers\n",
    "result_power = 4 ** 4\n",
    "print(result_power)  # Output: 256 \n",
    "\n",
    "#absulte value \n",
    "abs_value= abs(-9.9)\n",
    "print(abs_value)\n",
    "\n",
    "#round\n",
    "round_value= round(3.894565465464646546,2)\n",
    "print(round_value)\n",
    "\n",
    "#casting\n",
    "castfloat= float(10)\n",
    "print(castfloat)\n",
    "\n",
    "castint= int(10.89)\n",
    "print(castint)"
   ]
  },
  {
   "cell_type": "markdown",
   "metadata": {},
   "source": [
    "#### Converting Strings to Integers with a Specific Base\n",
    "\n",
    "Python provides the ability to convert strings representing numbers in various bases into integers using the int() function. \n",
    "\n",
    "This is particularly useful when dealing with binary, octal, or hexadecimal systems.\n",
    "\n",
    "- **int('string', base)**: This function converts a given string **'string'** from a specified **'base'** into a decimal integer."
   ]
  },
  {
   "cell_type": "code",
   "execution_count": 22,
   "metadata": {},
   "outputs": [
    {
     "name": "stdout",
     "output_type": "stream",
     "text": [
      "2\n"
     ]
    }
   ],
   "source": [
    "#converting string to decimal value\n",
    "binary_number = '10'\n",
    "decimal_value = int(binary_number, 2)\n",
    "print(decimal_value)  # Output: 2\n"
   ]
  },
  {
   "cell_type": "markdown",
   "metadata": {},
   "source": [
    "#### decimal"
   ]
  },
  {
   "cell_type": "code",
   "execution_count": 23,
   "metadata": {},
   "outputs": [
    {
     "data": {
      "text/plain": [
       "Decimal('0.25')"
      ]
     },
     "execution_count": 23,
     "metadata": {},
     "output_type": "execute_result"
    }
   ],
   "source": [
    "#import decimal \n",
    "\n",
    "from decimal import Decimal, getcontext\n",
    "getcontext().prec=2\n",
    "Decimal(1)/Decimal(4)"
   ]
  }
 ],
 "metadata": {
  "kernelspec": {
   "display_name": "Python 3",
   "language": "python",
   "name": "python3"
  },
  "language_info": {
   "codemirror_mode": {
    "name": "ipython",
    "version": 3
   },
   "file_extension": ".py",
   "mimetype": "text/x-python",
   "name": "python",
   "nbconvert_exporter": "python",
   "pygments_lexer": "ipython3",
   "version": "3.8.8"
  }
 },
 "nbformat": 4,
 "nbformat_minor": 2
}
