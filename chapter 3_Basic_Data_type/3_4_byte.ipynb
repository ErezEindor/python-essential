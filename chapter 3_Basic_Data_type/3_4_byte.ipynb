{
 "cells": [
  {
   "cell_type": "markdown",
   "metadata": {},
   "source": [
    "## Bytes Object\n",
    "\n",
    "Bytes objects are essential for handling binary data in Python, particularly for reading and writing files, and data transmission over networks. They represent the raw data formatted as a sequence of bytes.\n",
    "\n",
    "#### Key Characteristics of Bytes Objects:\n",
    "- **Immutable**: Like tuples, bytes objects are unchangeable once created. For modifications, Python offers the mutable `bytearray`.\n",
    "- **Background Role**: Typically used in low-level system operations, bytes are essential for network communication, file handling, and systems programming.\n",
    "- **Encoding**: Ideal for encoding data, bytes handle text and binary data efficiently, crucial for storage and transmission tasks.\n",
    "#### Use Cases for Bytes Objects:\n",
    "- **File Streaming**: Reading and writing binary files, such as images and executable files.\n",
    "- **Data Transmission**: Sending and receiving raw data packets in network programming.\n",
    "- **Library Functions**: Many Python libraries use bytes objects \"under the hood\" to manage data more efficiently.\n",
    "\n",
    "#### Bytes Representation:\n",
    "- Each byte is denoted by `\\x` followed by two hexadecimal digits, representing one of 256 possible values (2^8), illustrating the link between hexadecimal and binary systems."
   ]
  },
  {
   "cell_type": "code",
   "execution_count": 21,
   "metadata": {},
   "outputs": [
    {
     "data": {
      "text/plain": [
       "b'\\x00\\x00\\x00\\x00'"
      ]
     },
     "execution_count": 21,
     "metadata": {},
     "output_type": "execute_result"
    }
   ],
   "source": [
    "# create an empty bytes objecct the is 4 bytes long\n",
    "bytes(4)"
   ]
  },
  {
   "cell_type": "code",
   "execution_count": 22,
   "metadata": {},
   "outputs": [
    {
     "name": "stdout",
     "output_type": "stream",
     "text": [
      "b'\\xf0\\x9f\\x98\\x82'\n",
      "😂\n"
     ]
    }
   ],
   "source": [
    "# encode and decode\n",
    "emoji_smile= bytes('😂','utf-8')\n",
    "print(emoji_smile)\n",
    "print(emoji_smile.decode('utf-8'))"
   ]
  },
  {
   "cell_type": "code",
   "execution_count": 23,
   "metadata": {},
   "outputs": [
    {
     "name": "stdout",
     "output_type": "stream",
     "text": [
      "bytearray(b'\\xf0\\x9f\\x98\\x82')\n",
      "😅\n"
     ]
    }
   ],
   "source": [
    "#byte array for modify the data\n",
    "emoji_smile= bytearray('😂','utf-8')\n",
    "print(emoji_smile)\n",
    "\n",
    "emoji_smile[3]= int('85',16)\n",
    "print(emoji_smile.decode('utf-8'))"
   ]
  }
 ],
 "metadata": {
  "kernelspec": {
   "display_name": "Python 3",
   "language": "python",
   "name": "python3"
  },
  "language_info": {
   "codemirror_mode": {
    "name": "ipython",
    "version": 3
   },
   "file_extension": ".py",
   "mimetype": "text/x-python",
   "name": "python",
   "nbconvert_exporter": "python",
   "pygments_lexer": "ipython3",
   "version": "3.8.8"
  }
 },
 "nbformat": 4,
 "nbformat_minor": 2
}
